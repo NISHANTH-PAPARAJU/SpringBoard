{
 "cells": [
  {
   "cell_type": "code",
   "execution_count": 30,
   "metadata": {},
   "outputs": [],
   "source": [
    "import os\n",
    "import shutil\n",
    "import logging\n",
    "LOG_FORMAT = \"%(levelname)s %(asctime)s - %(message)s\"\n",
    "logging.basicConfig(filename=\"D:/Learnings/Songs_Vocals_Isolated/vocal_isolation.log\", level = logging.INFO, format=LOG_FORMAT, filemode='w')"
   ]
  },
  {
   "cell_type": "code",
   "execution_count": 1,
   "metadata": {},
   "outputs": [],
   "source": [
    "# # Testing Functionality\n",
    "\n",
    "# source_file_path = \"C:\\\\Users\\\\nvpapara\\\\Desktop\\\\test.xml\"\n",
    "# dest_loc = \"C:\\\\Users\\\\nvpapara\\\\Desktop\\\\Test_Created\\\\\"\n",
    "# os.makedirs(dest_loc,exist_ok=True)\n",
    "# shutil.move(source_file_path, dest_loc+\"test_moved.xml\")"
   ]
  },
  {
   "cell_type": "code",
   "execution_count": 2,
   "metadata": {},
   "outputs": [],
   "source": [
    "# os.makedirs(\"C:/Users/nvpapara/Desktop/make_2\",exist_ok=True)"
   ]
  },
  {
   "cell_type": "code",
   "execution_count": 60,
   "metadata": {},
   "outputs": [],
   "source": [
    "# Real implementation\n",
    "\n",
    "logger = logging.getLogger()\n",
    "logger.info(\"================== Starting the Organization Process ==================\")\n",
    "source_loc = \"D:\\\\Learnings\\\\Songs_audiosep_spleeter\"\n",
    "dest_loc = \"D:\\\\Learnings\\\\Songs_Vocals_Isolated\"\n",
    "\n",
    "sub_folders = os.listdir(source_loc)\n",
    "songs = [song for song in sub_folders if not \"Vocal-Saperation\" in song]\n",
    "\n",
    "logger.info(\"Songs List: {0}\".format(songs))\n",
    "for song in songs:\n",
    "    logger.info(\"====>  Running For Song : {0}\".format(song))\n",
    "    song_recordings = os.listdir(os.path.join(source_loc,song))\n",
    "    for recording in song_recordings:\n",
    "        logger.info(\"- Recording : {0}\".format(recording))\n",
    "        files = os.listdir(os.path.join(source_loc, song, recording))\n",
    "        if \"vocals.wav\" in files:\n",
    "            # move it to the destination location\n",
    "            logger.info(\"vocal found. Moving the file\")\n",
    "            source_rec_vocal = os.path.join(source_loc, song, recording, \"vocals.wav\")\n",
    "            dest_rec_vocal = os.path.join(dest_loc, song, recording+\"_vocal.wav\")\n",
    "            os.makedirs(os.path.join(dest_loc, song),exist_ok=True)\n",
    "            shutil.move(source_rec_vocal, dest_rec_vocal)\n",
    "            logger.info(\"Moved the File to destination\")\n",
    "        else:\n",
    "            logger.error(\"vocal Not found for recording : {0}\".format(recording))\n"
   ]
  },
  {
   "cell_type": "code",
   "execution_count": 31,
   "metadata": {},
   "outputs": [],
   "source": [
    "sub_folders = os.listdir(source_loc)\n",
    "songs = [song for song in sub_folders if not \"Vocal-Saperation\" in song]"
   ]
  },
  {
   "cell_type": "code",
   "execution_count": 36,
   "metadata": {},
   "outputs": [
    {
     "data": {
      "text/plain": [
       "'D:/Learnings/Songs_audiosep_spleeter/askjdhgasd.mp4'"
      ]
     },
     "execution_count": 36,
     "metadata": {},
     "output_type": "execute_result"
    }
   ],
   "source": [
    "os.path.join(source_loc,song)"
   ]
  },
  {
   "cell_type": "code",
   "execution_count": 38,
   "metadata": {},
   "outputs": [],
   "source": [
    "song=\"sub_path\"\n",
    "song2 = \"asjhgdiahsd.mp4\""
   ]
  },
  {
   "cell_type": "code",
   "execution_count": 42,
   "metadata": {},
   "outputs": [
    {
     "data": {
      "text/plain": [
       "'D:\\\\Learnings\\\\Songs_audiosep_spleeter\\\\asdjad\\\\sub_path\\\\asjhgdiahsd.mp4'"
      ]
     },
     "execution_count": 42,
     "metadata": {},
     "output_type": "execute_result"
    }
   ],
   "source": [
    "os.path.join('D:\\\\Learnings\\\\Songs_audiosep_spleeter',\"asdjad\", song,song2)"
   ]
  },
  {
   "cell_type": "code",
   "execution_count": 56,
   "metadata": {},
   "outputs": [],
   "source": [
    "recording = \"rec-001\"\n",
    "source_loc = \"D:\\\\Learnings\\\\Songs_audiosep_spleeter\"\n",
    "dest_loc = \"D:\\\\Learnings\\\\Songs_Vocals_Isolated\""
   ]
  },
  {
   "cell_type": "code",
   "execution_count": 57,
   "metadata": {},
   "outputs": [
    {
     "data": {
      "text/plain": [
       "'D:\\\\Learnings\\\\Songs_audiosep_spleeter\\\\sub_path\\\\rec-001\\\\vocals.wav'"
      ]
     },
     "execution_count": 57,
     "metadata": {},
     "output_type": "execute_result"
    }
   ],
   "source": [
    "os.path.join(source_loc, song, recording, \"vocals.wav\")"
   ]
  },
  {
   "cell_type": "code",
   "execution_count": 59,
   "metadata": {},
   "outputs": [
    {
     "data": {
      "text/plain": [
       "'D:\\\\Learnings\\\\Songs_Vocals_Isolated\\\\sub_path\\\\rec-001_vocal.wav'"
      ]
     },
     "execution_count": 59,
     "metadata": {},
     "output_type": "execute_result"
    }
   ],
   "source": [
    "os.path.join(dest_loc, song, recording+\"_vocal.wav\")"
   ]
  },
  {
   "cell_type": "markdown",
   "metadata": {},
   "source": [
    "# Code for finding if 'Youtube version' of song (i.e. label) present in each folder or not"
   ]
  },
  {
   "cell_type": "code",
   "execution_count": 26,
   "metadata": {},
   "outputs": [
    {
     "name": "stdout",
     "output_type": "stream",
     "text": [
      "['kuch kuch hota hai-kuch kuch hota hai-Hindi', 'ninnu kori-hey badhulu cheppavey-Telugu', 'sarileru neekevvaru-sarileru neekevvaru-Telugu', 'sarileru neekevvaru-suryudivo chandrudivo-Telugu', 'satyamurthy-seethakalam-Telugu', 'tholi prema-allasani vaari-Telugu']\n"
     ]
    },
    {
     "data": {
      "text/plain": [
       "6"
      ]
     },
     "execution_count": 26,
     "metadata": {},
     "output_type": "execute_result"
    }
   ],
   "source": [
    "import os\n",
    "\n",
    "src_loc = \"D:\\\\Learnings\\\\Songs_Vocals_Isolated\"\n",
    "song_folders = [folder for folder in os.listdir(src_loc) if folder != \"vocal_isolation.log\"]\n",
    "songs_with_no_label = []\n",
    "for song in song_folders:\n",
    "    contains_you_original = False\n",
    "    for file in os.listdir(src_loc + \"\\\\\" +song):\n",
    "        if \"You_Original\" in file:\n",
    "            contains_you_original = True\n",
    "    if not contains_you_original:\n",
    "        songs_with_no_label.append(song)\n",
    "\n",
    "print(songs_with_no_label)\n",
    "len(songs_with_no_label)"
   ]
  },
  {
   "cell_type": "markdown",
   "metadata": {},
   "source": [
    "## Comparing Songs Converted List to find the missing Songs"
   ]
  },
  {
   "cell_type": "code",
   "execution_count": 4,
   "metadata": {},
   "outputs": [
    {
     "data": {
      "text/plain": [
       "2"
      ]
     },
     "execution_count": 4,
     "metadata": {},
     "output_type": "execute_result"
    }
   ],
   "source": [
    "import shutil\n",
    "orig_loc = \"D:\\\\Learnings\\\\Self\\\\SpringBoard-Nishanth\\\\Main-Course\\\\99-CapstonProject\\\\01-HummingProject\\\\01-DataCollection\\\\Songs_AutoDownload\\\\\"\n",
    "source_loc = \"D:\\\\Learnings\\\\Songs_Vocals_Isolated\\\\\"\n",
    "missing_dir = \"D:\\\\Learnings\\\\missing_songs\\\\\"\n",
    "missing_recordings = []\n",
    "for song in os.listdir(orig_loc):\n",
    "    src_record_list = os.listdir(source_loc + song)\n",
    "    src_rec_list_mod = [os.path.splitext(file)[0] for file in src_record_list]\n",
    "    for recording in os.listdir(orig_loc + song):\n",
    "        recording_comp = os.path.splitext(recording)[0] + \"_vocal\"\n",
    "        if not recording_comp in src_rec_list_mod:\n",
    "            missing_recordings.append(recording)\n",
    "            shutil.copy(orig_loc + song + \"\\\\\" + recording , missing_dir + recording)\n",
    "len(missing_recordings)"
   ]
  },
  {
   "cell_type": "code",
   "execution_count": 45,
   "metadata": {},
   "outputs": [
    {
     "data": {
      "text/plain": [
       "'You_Original-yeh_jawaani_hai_deewani-kabira-Hindi_vocal'"
      ]
     },
     "execution_count": 45,
     "metadata": {},
     "output_type": "execute_result"
    }
   ],
   "source": [
    "recording_comp"
   ]
  },
  {
   "cell_type": "code",
   "execution_count": 2,
   "metadata": {},
   "outputs": [
    {
     "data": {
      "text/plain": [
       "'song-001-telugu'"
      ]
     },
     "execution_count": 2,
     "metadata": {},
     "output_type": "execute_result"
    }
   ],
   "source": [
    "import os\n",
    "file = \"song-001-telugu.mp4\"\n",
    "os.path.splitext(file)[0]"
   ]
  },
  {
   "cell_type": "markdown",
   "metadata": {},
   "source": [
    "### Rename each song (folder) and recording (file) with a small names\n",
    "\n",
    "like song1_R1, song1_R2, song2_R1,....,You_Original_song1"
   ]
  },
  {
   "cell_type": "code",
   "execution_count": 44,
   "metadata": {},
   "outputs": [],
   "source": [
    "import os\n",
    "import shutil\n",
    "\n",
    "songs_orig_loc = \"D:\\\\Learnings\\\\Songs_Vocals_Isolated\"\n",
    "songs = os.listdir(songs_orig_loc)\n",
    "\n",
    "song_count = 0\n",
    "for song in songs:\n",
    "    song_count +=1\n",
    "    recordings_in_song = os.listdir(os.path.join(songs_orig_loc, song))\n",
    "    found = False\n",
    "    for recording in recordings_in_song:\n",
    "        if \"You_Original\" in recording:\n",
    "            # rename: You_Original_song(n)\n",
    "            old_file_name = os.path.splitext(recording)[0]\n",
    "            ext = os.path.splitext(recording)[1]\n",
    "            new_file_name = \"You_Original-song\" + str(song_count)\n",
    "            old_file = os.path.join(songs_orig_loc, song, recording)\n",
    "            new_file = os.path.join(songs_orig_loc, song , new_file_name + ext)\n",
    "            os.rename(old_file, new_file)\n",
    "        else:\n",
    "            # rename: song(n)_r(i)\n",
    "            old_file_name = os.path.splitext(recording)[0]\n",
    "            ext = os.path.splitext(recording)[1]\n",
    "            new_file_name = \"song-\" + str(song_count) + \"_r\" + old_file_name[-7]\n",
    "            old_file = os.path.join(songs_orig_loc, song, recording)\n",
    "            new_file = os.path.join(songs_orig_loc, song , new_file_name + ext)\n",
    "            os.rename(old_file, new_file)\n",
    "           \n",
    "    # rename dir:\n",
    "    old_song = os.path.join(songs_orig_loc, song)\n",
    "    new_song = os.path.join(songs_orig_loc, \"song-\" + str(song_count))\n",
    "    os.rename(old_song, new_song)"
   ]
  },
  {
   "cell_type": "code",
   "execution_count": 6,
   "metadata": {},
   "outputs": [
    {
     "data": {
      "text/plain": [
       "'D:\\\\Learnings\\\\Songs_Vocals_IsolatedNinnu-Kori'"
      ]
     },
     "execution_count": 6,
     "metadata": {},
     "output_type": "execute_result"
    }
   ],
   "source": []
  },
  {
   "cell_type": "code",
   "execution_count": 31,
   "metadata": {},
   "outputs": [],
   "source": [
    "direc = \"C:\\\\Users\\\\nvpapara\\\\Desktop\\\\make_2\"\n",
    "song = \"song-12\"\n",
    "rec = \"rec-002.txt\"\n",
    "# os.rename(os.path.join(direc, song) , os.path.join(direc, \"song-12\"))\n",
    "ext = os.path.splitext(rec)[1]\n",
    "filename = os.path.splitext(rec)[0]\n",
    "new_file_name = song + \"_r\" + filename[-1]\n",
    "old_file = os.path.join(direc, song, rec)\n",
    "new_file = os.path.join(direc, song, new_file_name + ext)\n",
    "os.rename(old_file, new_file)"
   ]
  },
  {
   "cell_type": "code",
   "execution_count": 27,
   "metadata": {},
   "outputs": [
    {
     "data": {
      "text/plain": [
       "'song-12_r2'"
      ]
     },
     "execution_count": 27,
     "metadata": {},
     "output_type": "execute_result"
    }
   ],
   "source": [
    "direc = \"C:\\\\Users\\\\nvpapara\\\\Desktop\\\\make_2\"\n",
    "song = \"song-12\"\n",
    "rec = \"aaj_jaane_ki_zid_na_karo-Hindi_UserRecoding_2_vocal.wav\"\n",
    "ext = os.path.splitext(rec)[1]\n",
    "filename = os.path.splitext(rec)[0]\n",
    "new_file_name = song + \"_r\" + filename[-7]\n",
    "new_file_name\n",
    "# old_file = os.path.join(direc, song, rec)\n",
    "# new_file = os.path.join(direc, song, )"
   ]
  },
  {
   "cell_type": "code",
   "execution_count": null,
   "metadata": {},
   "outputs": [],
   "source": []
  }
 ],
 "metadata": {
  "kernelspec": {
   "display_name": "Python 3",
   "language": "python",
   "name": "python3"
  },
  "language_info": {
   "codemirror_mode": {
    "name": "ipython",
    "version": 3
   },
   "file_extension": ".py",
   "mimetype": "text/x-python",
   "name": "python",
   "nbconvert_exporter": "python",
   "pygments_lexer": "ipython3",
   "version": "3.8.3"
  }
 },
 "nbformat": 4,
 "nbformat_minor": 4
}
