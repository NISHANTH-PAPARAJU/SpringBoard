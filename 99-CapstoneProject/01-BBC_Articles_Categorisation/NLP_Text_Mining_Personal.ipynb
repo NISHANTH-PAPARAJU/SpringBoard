{
 "cells": [
  {
   "cell_type": "markdown",
   "metadata": {},
   "source": [
    "# NLP Text mining using nltk library"
   ]
  },
  {
   "cell_type": "code",
   "execution_count": 1,
   "metadata": {},
   "outputs": [],
   "source": [
    "import nltk\n",
    "import numpy as np\n",
    "import pandas as pd\n",
    "import matplotlib.pyplot as plt\n",
    "import os\n",
    "%matplotlib inline"
   ]
  },
  {
   "cell_type": "markdown",
   "metadata": {},
   "source": [
    "**Corpus:** bunch of text. ex: article, blog, book content, etc\n",
    "\n",
    "we will do the text mining in three stages:\n",
    "\n",
    "**1. Corpus Cleaning**\n",
    "\n",
    "**2. DTM (Document Term Matrix) with TFIDF**\n",
    "\n",
    "**3. Model Building**"
   ]
  },
  {
   "cell_type": "markdown",
   "metadata": {},
   "source": [
    "### Corpus Cleaning"
   ]
  },
  {
   "cell_type": "markdown",
   "metadata": {},
   "source": [
    "Steps:\n",
    "    1. Tokenize\n",
    "    2. Convert Multi Lingual Text\n",
    "    3. Convert the corpus to one case (lower or Upper)\n",
    "    4. remove punctuations\n",
    "    5. remove white space\n",
    "    6. remove stop words\n",
    "    7. lemmatization / Stemming\n",
    "    8. De-Tokenize"
   ]
  },
  {
   "cell_type": "code",
   "execution_count": 2,
   "metadata": {},
   "outputs": [],
   "source": [
    "from nltk.corpus import stopwords\n",
    "from nltk.tokenize import word_tokenize\n",
    "from nltk.tokenize.treebank import TreebankWordDetokenizer\n",
    "from nltk.stem import wordnet\n",
    "from nltk.stem import WordNetLemmatizer\n",
    "from nltk.stem import PorterStemmer\n",
    "import string\n",
    "stop_words = stopwords.words('english')"
   ]
  },
  {
   "cell_type": "code",
   "execution_count": 3,
   "metadata": {},
   "outputs": [],
   "source": [
    "def clean_corpus(corpus, tocase='lower', remove_punc=True, punctuations=list(string.punctuation), remove_whitespace =True,\n",
    "                 stopwords=stop_words, lemmatize=False):\n",
    "    \"\"\"\n",
    "    Takes the corpus as input and performs the corpus cleaning as required,\n",
    "    then returns the detokenized corpus.\n",
    "    \"\"\"\n",
    "    cleaned_corpus = corpus\n",
    "    # Tokenize\n",
    "    tokens = word_tokenize(corpus)\n",
    "    \n",
    "    #Convert Multi Lingual Text\n",
    "    # will be done later\n",
    "    \n",
    "    # Convert the corpus to one case (lower or Upper)\n",
    "    valid_tokens = [token.lower() for token in tokens]\n",
    "    \n",
    "    # Remove Punctuations\n",
    "    if remove_punc:\n",
    "        valid_tokens = [token for token in valid_tokens if token not in punctuations]\n",
    "    \n",
    "    # Remove White Space\n",
    "    # will be done later\n",
    "    \n",
    "    # Remove stop words\n",
    "    valid_tokens = [token for token in valid_tokens if token not in stop_words]\n",
    "    \n",
    "    #lemmatization / stemming\n",
    "    if lemmatize:\n",
    "        word_lem = WordNetLemmatizer()\n",
    "        valid_tokens = [word_lem.lemmatize(token) for token in valid_tokens]\n",
    "    else:\n",
    "        pst = PorterStemmer()\n",
    "        valid_tokens = [pst.stem(token) for token in valid_tokens]\n",
    "    \n",
    "    # De-tokenize\n",
    "    cleaned_corpus = \"\".join([\" \"+i if not i.startswith(\"'\") and i not in '!%\\'()*+,-./:;<=>?@[\\\\]^_`{|}~'\n",
    "                              else i for i in valid_tokens]).strip()\n",
    "    return cleaned_corpus\n",
    "    "
   ]
  },
  {
   "cell_type": "code",
   "execution_count": 4,
   "metadata": {},
   "outputs": [
    {
     "data": {
      "text/plain": [
       "\"senctence tokenized cleaning 3 performed detokeized sent back second paragraph corpus let's check efficient enough\""
      ]
     },
     "execution_count": 4,
     "metadata": {},
     "output_type": "execute_result"
    }
   ],
   "source": [
    "text = \"\"\"\n",
    "       The senctence here ~ is Tokenized, Cleaning is #3 performed - & then ^ it is detokeized and sent back.\n",
    "       \n",
    "       This is the Second paragraph of the corpus.\n",
    "       Let's Check if this is Efficient enough.\n",
    "       \"\"\"\n",
    "clean_corpus(text, lemmatize=True)"
   ]
  },
  {
   "cell_type": "code",
   "execution_count": 5,
   "metadata": {},
   "outputs": [],
   "source": [
    "bbc_tags = []\n",
    "bbc_data = []\n",
    "files_path = \"00-Data/rawData/bbc-fulltext/bbc/\"\n",
    "for folder in os.listdir(files_path):\n",
    "    if folder.lower() not in \"readme.txt\":\n",
    "        for file in os.listdir(os.path.join(files_path, folder)):\n",
    "            ofile = open(os.path.join(files_path, folder, file))\n",
    "            file_content = ofile.read()\n",
    "            if file_content is not None:\n",
    "                bbc_tags.append(folder)\n",
    "                bbc_data.append(file_content)"
   ]
  },
  {
   "cell_type": "code",
   "execution_count": 6,
   "metadata": {},
   "outputs": [],
   "source": [
    "bbc_df = pd.DataFrame({'Category': bbc_tags, 'text': bbc_data})"
   ]
  },
  {
   "cell_type": "code",
   "execution_count": 7,
   "metadata": {},
   "outputs": [],
   "source": [
    "bbc_df['cleaned_text_stem'] = list(map((lambda text : clean_corpus(text)), bbc_df['text']))"
   ]
  },
  {
   "cell_type": "code",
   "execution_count": 8,
   "metadata": {},
   "outputs": [],
   "source": [
    "bbc_df['cleaned_text_lemm'] = list(map((lambda text : clean_corpus(text, lemmatize=True)), bbc_df['text']))"
   ]
  },
  {
   "cell_type": "code",
   "execution_count": 9,
   "metadata": {},
   "outputs": [
    {
     "data": {
      "text/html": [
       "<div>\n",
       "<style scoped>\n",
       "    .dataframe tbody tr th:only-of-type {\n",
       "        vertical-align: middle;\n",
       "    }\n",
       "\n",
       "    .dataframe tbody tr th {\n",
       "        vertical-align: top;\n",
       "    }\n",
       "\n",
       "    .dataframe thead th {\n",
       "        text-align: right;\n",
       "    }\n",
       "</style>\n",
       "<table border=\"1\" class=\"dataframe\">\n",
       "  <thead>\n",
       "    <tr style=\"text-align: right;\">\n",
       "      <th></th>\n",
       "      <th>Category</th>\n",
       "      <th>text</th>\n",
       "      <th>cleaned_text_stem</th>\n",
       "      <th>cleaned_text_lemm</th>\n",
       "    </tr>\n",
       "  </thead>\n",
       "  <tbody>\n",
       "    <tr>\n",
       "      <th>0</th>\n",
       "      <td>business</td>\n",
       "      <td>Ad sales boost Time Warner profit\\n\\nQuarterly...</td>\n",
       "      <td>ad sale boost time warner profit quarterli pro...</td>\n",
       "      <td>ad sale boost time warner profit quarterly pro...</td>\n",
       "    </tr>\n",
       "    <tr>\n",
       "      <th>1</th>\n",
       "      <td>business</td>\n",
       "      <td>Dollar gains on Greenspan speech\\n\\nThe dollar...</td>\n",
       "      <td>dollar gain greenspan speech dollar hit highes...</td>\n",
       "      <td>dollar gain greenspan speech dollar hit highes...</td>\n",
       "    </tr>\n",
       "    <tr>\n",
       "      <th>2</th>\n",
       "      <td>business</td>\n",
       "      <td>Yukos unit buyer faces loan claim\\n\\nThe owner...</td>\n",
       "      <td>yuko unit buyer face loan claim owner embattl ...</td>\n",
       "      <td>yukos unit buyer face loan claim owner embattl...</td>\n",
       "    </tr>\n",
       "    <tr>\n",
       "      <th>3</th>\n",
       "      <td>business</td>\n",
       "      <td>High fuel prices hit BA's profits\\n\\nBritish A...</td>\n",
       "      <td>high fuel price hit ba's profit british airway...</td>\n",
       "      <td>high fuel price hit ba's profit british airway...</td>\n",
       "    </tr>\n",
       "    <tr>\n",
       "      <th>4</th>\n",
       "      <td>business</td>\n",
       "      <td>Pernod takeover talk lifts Domecq\\n\\nShares in...</td>\n",
       "      <td>pernod takeov talk lift domecq share uk drink ...</td>\n",
       "      <td>pernod takeover talk lift domecq share uk drin...</td>\n",
       "    </tr>\n",
       "  </tbody>\n",
       "</table>\n",
       "</div>"
      ],
      "text/plain": [
       "   Category                                               text  \\\n",
       "0  business  Ad sales boost Time Warner profit\\n\\nQuarterly...   \n",
       "1  business  Dollar gains on Greenspan speech\\n\\nThe dollar...   \n",
       "2  business  Yukos unit buyer faces loan claim\\n\\nThe owner...   \n",
       "3  business  High fuel prices hit BA's profits\\n\\nBritish A...   \n",
       "4  business  Pernod takeover talk lifts Domecq\\n\\nShares in...   \n",
       "\n",
       "                                   cleaned_text_stem  \\\n",
       "0  ad sale boost time warner profit quarterli pro...   \n",
       "1  dollar gain greenspan speech dollar hit highes...   \n",
       "2  yuko unit buyer face loan claim owner embattl ...   \n",
       "3  high fuel price hit ba's profit british airway...   \n",
       "4  pernod takeov talk lift domecq share uk drink ...   \n",
       "\n",
       "                                   cleaned_text_lemm  \n",
       "0  ad sale boost time warner profit quarterly pro...  \n",
       "1  dollar gain greenspan speech dollar hit highes...  \n",
       "2  yukos unit buyer face loan claim owner embattl...  \n",
       "3  high fuel price hit ba's profit british airway...  \n",
       "4  pernod takeover talk lift domecq share uk drin...  "
      ]
     },
     "execution_count": 9,
     "metadata": {},
     "output_type": "execute_result"
    }
   ],
   "source": [
    "bbc_df.head()"
   ]
  },
  {
   "cell_type": "code",
   "execution_count": 11,
   "metadata": {},
   "outputs": [
    {
     "data": {
      "text/html": [
       "<div>\n",
       "<style scoped>\n",
       "    .dataframe tbody tr th:only-of-type {\n",
       "        vertical-align: middle;\n",
       "    }\n",
       "\n",
       "    .dataframe tbody tr th {\n",
       "        vertical-align: top;\n",
       "    }\n",
       "\n",
       "    .dataframe thead th {\n",
       "        text-align: right;\n",
       "    }\n",
       "</style>\n",
       "<table border=\"1\" class=\"dataframe\">\n",
       "  <thead>\n",
       "    <tr style=\"text-align: right;\">\n",
       "      <th></th>\n",
       "      <th>Category</th>\n",
       "      <th>text</th>\n",
       "      <th>cleaned_text_stem</th>\n",
       "      <th>cleaned_text_lemm</th>\n",
       "      <th>text_stem_tokens</th>\n",
       "      <th>text_lemm_tokens</th>\n",
       "    </tr>\n",
       "  </thead>\n",
       "  <tbody>\n",
       "    <tr>\n",
       "      <th>0</th>\n",
       "      <td>business</td>\n",
       "      <td>Ad sales boost Time Warner profit\\n\\nQuarterly...</td>\n",
       "      <td>ad sale boost time warner profit quarterli pro...</td>\n",
       "      <td>ad sale boost time warner profit quarterly pro...</td>\n",
       "      <td>[ad, sale, boost, time, warner, profit, quarte...</td>\n",
       "      <td>[ad, sale, boost, time, warner, profit, quarte...</td>\n",
       "    </tr>\n",
       "    <tr>\n",
       "      <th>1</th>\n",
       "      <td>business</td>\n",
       "      <td>Dollar gains on Greenspan speech\\n\\nThe dollar...</td>\n",
       "      <td>dollar gain greenspan speech dollar hit highes...</td>\n",
       "      <td>dollar gain greenspan speech dollar hit highes...</td>\n",
       "      <td>[dollar, gain, greenspan, speech, dollar, hit,...</td>\n",
       "      <td>[dollar, gain, greenspan, speech, dollar, hit,...</td>\n",
       "    </tr>\n",
       "    <tr>\n",
       "      <th>2</th>\n",
       "      <td>business</td>\n",
       "      <td>Yukos unit buyer faces loan claim\\n\\nThe owner...</td>\n",
       "      <td>yuko unit buyer face loan claim owner embattl ...</td>\n",
       "      <td>yukos unit buyer face loan claim owner embattl...</td>\n",
       "      <td>[yuko, unit, buyer, face, loan, claim, owner, ...</td>\n",
       "      <td>[yukos, unit, buyer, face, loan, claim, owner,...</td>\n",
       "    </tr>\n",
       "    <tr>\n",
       "      <th>3</th>\n",
       "      <td>business</td>\n",
       "      <td>High fuel prices hit BA's profits\\n\\nBritish A...</td>\n",
       "      <td>high fuel price hit ba's profit british airway...</td>\n",
       "      <td>high fuel price hit ba's profit british airway...</td>\n",
       "      <td>[high, fuel, price, hit, ba, 's, profit, briti...</td>\n",
       "      <td>[high, fuel, price, hit, ba, 's, profit, briti...</td>\n",
       "    </tr>\n",
       "    <tr>\n",
       "      <th>4</th>\n",
       "      <td>business</td>\n",
       "      <td>Pernod takeover talk lifts Domecq\\n\\nShares in...</td>\n",
       "      <td>pernod takeov talk lift domecq share uk drink ...</td>\n",
       "      <td>pernod takeover talk lift domecq share uk drin...</td>\n",
       "      <td>[pernod, takeov, talk, lift, domecq, share, uk...</td>\n",
       "      <td>[pernod, takeover, talk, lift, domecq, share, ...</td>\n",
       "    </tr>\n",
       "  </tbody>\n",
       "</table>\n",
       "</div>"
      ],
      "text/plain": [
       "   Category                                               text  \\\n",
       "0  business  Ad sales boost Time Warner profit\\n\\nQuarterly...   \n",
       "1  business  Dollar gains on Greenspan speech\\n\\nThe dollar...   \n",
       "2  business  Yukos unit buyer faces loan claim\\n\\nThe owner...   \n",
       "3  business  High fuel prices hit BA's profits\\n\\nBritish A...   \n",
       "4  business  Pernod takeover talk lifts Domecq\\n\\nShares in...   \n",
       "\n",
       "                                   cleaned_text_stem  \\\n",
       "0  ad sale boost time warner profit quarterli pro...   \n",
       "1  dollar gain greenspan speech dollar hit highes...   \n",
       "2  yuko unit buyer face loan claim owner embattl ...   \n",
       "3  high fuel price hit ba's profit british airway...   \n",
       "4  pernod takeov talk lift domecq share uk drink ...   \n",
       "\n",
       "                                   cleaned_text_lemm  \\\n",
       "0  ad sale boost time warner profit quarterly pro...   \n",
       "1  dollar gain greenspan speech dollar hit highes...   \n",
       "2  yukos unit buyer face loan claim owner embattl...   \n",
       "3  high fuel price hit ba's profit british airway...   \n",
       "4  pernod takeover talk lift domecq share uk drin...   \n",
       "\n",
       "                                    text_stem_tokens  \\\n",
       "0  [ad, sale, boost, time, warner, profit, quarte...   \n",
       "1  [dollar, gain, greenspan, speech, dollar, hit,...   \n",
       "2  [yuko, unit, buyer, face, loan, claim, owner, ...   \n",
       "3  [high, fuel, price, hit, ba, 's, profit, briti...   \n",
       "4  [pernod, takeov, talk, lift, domecq, share, uk...   \n",
       "\n",
       "                                    text_lemm_tokens  \n",
       "0  [ad, sale, boost, time, warner, profit, quarte...  \n",
       "1  [dollar, gain, greenspan, speech, dollar, hit,...  \n",
       "2  [yukos, unit, buyer, face, loan, claim, owner,...  \n",
       "3  [high, fuel, price, hit, ba, 's, profit, briti...  \n",
       "4  [pernod, takeover, talk, lift, domecq, share, ...  "
      ]
     },
     "execution_count": 11,
     "metadata": {},
     "output_type": "execute_result"
    }
   ],
   "source": [
    "bbc_df['text_stem_tokens'] = bbc_df['cleaned_text_stem'].apply(word_tokenize)\n",
    "bbc_df['text_lemm_tokens'] = bbc_df['cleaned_text_lemm'].apply(word_tokenize)\n",
    "bbc_df.head()"
   ]
  },
  {
   "cell_type": "markdown",
   "metadata": {},
   "source": [
    "## 2. DTM (Document Term Matrix) with TFIDF"
   ]
  },
  {
   "cell_type": "code",
   "execution_count": 13,
   "metadata": {},
   "outputs": [],
   "source": [
    "from sklearn.preprocessing import LabelEncoder\n",
    "from sklearn.model_selection import train_test_split\n",
    "from sklearn.model_selection import GridSearchCV\n",
    "from sklearn.feature_extraction.text import TfidfVectorizer\n",
    "from sklearn.linear_model import LogisticRegression"
   ]
  },
  {
   "cell_type": "code",
   "execution_count": 14,
   "metadata": {},
   "outputs": [
    {
     "data": {
      "text/html": [
       "<div>\n",
       "<style scoped>\n",
       "    .dataframe tbody tr th:only-of-type {\n",
       "        vertical-align: middle;\n",
       "    }\n",
       "\n",
       "    .dataframe tbody tr th {\n",
       "        vertical-align: top;\n",
       "    }\n",
       "\n",
       "    .dataframe thead th {\n",
       "        text-align: right;\n",
       "    }\n",
       "</style>\n",
       "<table border=\"1\" class=\"dataframe\">\n",
       "  <thead>\n",
       "    <tr style=\"text-align: right;\">\n",
       "      <th></th>\n",
       "      <th>Category</th>\n",
       "      <th>text</th>\n",
       "      <th>cleaned_text_stem</th>\n",
       "      <th>cleaned_text_lemm</th>\n",
       "      <th>text_stem_tokens</th>\n",
       "      <th>text_lemm_tokens</th>\n",
       "    </tr>\n",
       "  </thead>\n",
       "  <tbody>\n",
       "    <tr>\n",
       "      <th>0</th>\n",
       "      <td>business</td>\n",
       "      <td>Ad sales boost Time Warner profit\\n\\nQuarterly...</td>\n",
       "      <td>ad sale boost time warner profit quarterli pro...</td>\n",
       "      <td>ad sale boost time warner profit quarterly pro...</td>\n",
       "      <td>[ad, sale, boost, time, warner, profit, quarte...</td>\n",
       "      <td>[ad, sale, boost, time, warner, profit, quarte...</td>\n",
       "    </tr>\n",
       "    <tr>\n",
       "      <th>1</th>\n",
       "      <td>business</td>\n",
       "      <td>Dollar gains on Greenspan speech\\n\\nThe dollar...</td>\n",
       "      <td>dollar gain greenspan speech dollar hit highes...</td>\n",
       "      <td>dollar gain greenspan speech dollar hit highes...</td>\n",
       "      <td>[dollar, gain, greenspan, speech, dollar, hit,...</td>\n",
       "      <td>[dollar, gain, greenspan, speech, dollar, hit,...</td>\n",
       "    </tr>\n",
       "    <tr>\n",
       "      <th>2</th>\n",
       "      <td>business</td>\n",
       "      <td>Yukos unit buyer faces loan claim\\n\\nThe owner...</td>\n",
       "      <td>yuko unit buyer face loan claim owner embattl ...</td>\n",
       "      <td>yukos unit buyer face loan claim owner embattl...</td>\n",
       "      <td>[yuko, unit, buyer, face, loan, claim, owner, ...</td>\n",
       "      <td>[yukos, unit, buyer, face, loan, claim, owner,...</td>\n",
       "    </tr>\n",
       "    <tr>\n",
       "      <th>3</th>\n",
       "      <td>business</td>\n",
       "      <td>High fuel prices hit BA's profits\\n\\nBritish A...</td>\n",
       "      <td>high fuel price hit ba's profit british airway...</td>\n",
       "      <td>high fuel price hit ba's profit british airway...</td>\n",
       "      <td>[high, fuel, price, hit, ba, 's, profit, briti...</td>\n",
       "      <td>[high, fuel, price, hit, ba, 's, profit, briti...</td>\n",
       "    </tr>\n",
       "    <tr>\n",
       "      <th>4</th>\n",
       "      <td>business</td>\n",
       "      <td>Pernod takeover talk lifts Domecq\\n\\nShares in...</td>\n",
       "      <td>pernod takeov talk lift domecq share uk drink ...</td>\n",
       "      <td>pernod takeover talk lift domecq share uk drin...</td>\n",
       "      <td>[pernod, takeov, talk, lift, domecq, share, uk...</td>\n",
       "      <td>[pernod, takeover, talk, lift, domecq, share, ...</td>\n",
       "    </tr>\n",
       "  </tbody>\n",
       "</table>\n",
       "</div>"
      ],
      "text/plain": [
       "   Category                                               text  \\\n",
       "0  business  Ad sales boost Time Warner profit\\n\\nQuarterly...   \n",
       "1  business  Dollar gains on Greenspan speech\\n\\nThe dollar...   \n",
       "2  business  Yukos unit buyer faces loan claim\\n\\nThe owner...   \n",
       "3  business  High fuel prices hit BA's profits\\n\\nBritish A...   \n",
       "4  business  Pernod takeover talk lifts Domecq\\n\\nShares in...   \n",
       "\n",
       "                                   cleaned_text_stem  \\\n",
       "0  ad sale boost time warner profit quarterli pro...   \n",
       "1  dollar gain greenspan speech dollar hit highes...   \n",
       "2  yuko unit buyer face loan claim owner embattl ...   \n",
       "3  high fuel price hit ba's profit british airway...   \n",
       "4  pernod takeov talk lift domecq share uk drink ...   \n",
       "\n",
       "                                   cleaned_text_lemm  \\\n",
       "0  ad sale boost time warner profit quarterly pro...   \n",
       "1  dollar gain greenspan speech dollar hit highes...   \n",
       "2  yukos unit buyer face loan claim owner embattl...   \n",
       "3  high fuel price hit ba's profit british airway...   \n",
       "4  pernod takeover talk lift domecq share uk drin...   \n",
       "\n",
       "                                    text_stem_tokens  \\\n",
       "0  [ad, sale, boost, time, warner, profit, quarte...   \n",
       "1  [dollar, gain, greenspan, speech, dollar, hit,...   \n",
       "2  [yuko, unit, buyer, face, loan, claim, owner, ...   \n",
       "3  [high, fuel, price, hit, ba, 's, profit, briti...   \n",
       "4  [pernod, takeov, talk, lift, domecq, share, uk...   \n",
       "\n",
       "                                    text_lemm_tokens  \n",
       "0  [ad, sale, boost, time, warner, profit, quarte...  \n",
       "1  [dollar, gain, greenspan, speech, dollar, hit,...  \n",
       "2  [yukos, unit, buyer, face, loan, claim, owner,...  \n",
       "3  [high, fuel, price, hit, ba, 's, profit, briti...  \n",
       "4  [pernod, takeover, talk, lift, domecq, share, ...  "
      ]
     },
     "execution_count": 14,
     "metadata": {},
     "output_type": "execute_result"
    }
   ],
   "source": [
    "bbc_df_mod = bbc_df.copy()\n",
    "bbc_df_mod.head()"
   ]
  },
  {
   "cell_type": "code",
   "execution_count": 58,
   "metadata": {},
   "outputs": [],
   "source": [
    "def vectorize(vec, X_train_, X_test_):\n",
    "    print(\"Vectorization Started......\\n\")\n",
    "    X_train_vec = vec.fit_transform(X_train_)\n",
    "    X_test_vec = vec.transform(X_test_)\n",
    "    print(\"Vectorization completed.\\n\")\n",
    "    return X_train_vec, X_test_vec"
   ]
  },
  {
   "cell_type": "markdown",
   "metadata": {},
   "source": [
    "**Encode Label**"
   ]
  },
  {
   "cell_type": "code",
   "execution_count": 22,
   "metadata": {},
   "outputs": [
    {
     "data": {
      "text/plain": [
       "array(['business', 'entertainment', 'politics', 'sport', 'tech'],\n",
       "      dtype=object)"
      ]
     },
     "execution_count": 22,
     "metadata": {},
     "output_type": "execute_result"
    }
   ],
   "source": [
    "enc = LabelEncoder()\n",
    "bbc_df['Category'] = enc.fit_transform(bbc_df['Category'])\n",
    "labels = (enc.classes_)\n",
    "labels"
   ]
  },
  {
   "cell_type": "code",
   "execution_count": 33,
   "metadata": {},
   "outputs": [
    {
     "data": {
      "text/html": [
       "<div>\n",
       "<style scoped>\n",
       "    .dataframe tbody tr th:only-of-type {\n",
       "        vertical-align: middle;\n",
       "    }\n",
       "\n",
       "    .dataframe tbody tr th {\n",
       "        vertical-align: top;\n",
       "    }\n",
       "\n",
       "    .dataframe thead th {\n",
       "        text-align: right;\n",
       "    }\n",
       "</style>\n",
       "<table border=\"1\" class=\"dataframe\">\n",
       "  <thead>\n",
       "    <tr style=\"text-align: right;\">\n",
       "      <th></th>\n",
       "      <th>Category</th>\n",
       "      <th>text</th>\n",
       "      <th>cleaned_text_stem</th>\n",
       "      <th>cleaned_text_lemm</th>\n",
       "      <th>text_stem_tokens</th>\n",
       "      <th>text_lemm_tokens</th>\n",
       "    </tr>\n",
       "  </thead>\n",
       "  <tbody>\n",
       "    <tr>\n",
       "      <th>0</th>\n",
       "      <td>0</td>\n",
       "      <td>Ad sales boost Time Warner profit\\n\\nQuarterly...</td>\n",
       "      <td>ad sale boost time warner profit quarterli pro...</td>\n",
       "      <td>ad sale boost time warner profit quarterly pro...</td>\n",
       "      <td>[ad, sale, boost, time, warner, profit, quarte...</td>\n",
       "      <td>[ad, sale, boost, time, warner, profit, quarte...</td>\n",
       "    </tr>\n",
       "    <tr>\n",
       "      <th>1</th>\n",
       "      <td>0</td>\n",
       "      <td>Dollar gains on Greenspan speech\\n\\nThe dollar...</td>\n",
       "      <td>dollar gain greenspan speech dollar hit highes...</td>\n",
       "      <td>dollar gain greenspan speech dollar hit highes...</td>\n",
       "      <td>[dollar, gain, greenspan, speech, dollar, hit,...</td>\n",
       "      <td>[dollar, gain, greenspan, speech, dollar, hit,...</td>\n",
       "    </tr>\n",
       "    <tr>\n",
       "      <th>2</th>\n",
       "      <td>0</td>\n",
       "      <td>Yukos unit buyer faces loan claim\\n\\nThe owner...</td>\n",
       "      <td>yuko unit buyer face loan claim owner embattl ...</td>\n",
       "      <td>yukos unit buyer face loan claim owner embattl...</td>\n",
       "      <td>[yuko, unit, buyer, face, loan, claim, owner, ...</td>\n",
       "      <td>[yukos, unit, buyer, face, loan, claim, owner,...</td>\n",
       "    </tr>\n",
       "    <tr>\n",
       "      <th>3</th>\n",
       "      <td>0</td>\n",
       "      <td>High fuel prices hit BA's profits\\n\\nBritish A...</td>\n",
       "      <td>high fuel price hit ba's profit british airway...</td>\n",
       "      <td>high fuel price hit ba's profit british airway...</td>\n",
       "      <td>[high, fuel, price, hit, ba, 's, profit, briti...</td>\n",
       "      <td>[high, fuel, price, hit, ba, 's, profit, briti...</td>\n",
       "    </tr>\n",
       "    <tr>\n",
       "      <th>4</th>\n",
       "      <td>0</td>\n",
       "      <td>Pernod takeover talk lifts Domecq\\n\\nShares in...</td>\n",
       "      <td>pernod takeov talk lift domecq share uk drink ...</td>\n",
       "      <td>pernod takeover talk lift domecq share uk drin...</td>\n",
       "      <td>[pernod, takeov, talk, lift, domecq, share, uk...</td>\n",
       "      <td>[pernod, takeover, talk, lift, domecq, share, ...</td>\n",
       "    </tr>\n",
       "  </tbody>\n",
       "</table>\n",
       "</div>"
      ],
      "text/plain": [
       "   Category                                               text  \\\n",
       "0         0  Ad sales boost Time Warner profit\\n\\nQuarterly...   \n",
       "1         0  Dollar gains on Greenspan speech\\n\\nThe dollar...   \n",
       "2         0  Yukos unit buyer faces loan claim\\n\\nThe owner...   \n",
       "3         0  High fuel prices hit BA's profits\\n\\nBritish A...   \n",
       "4         0  Pernod takeover talk lifts Domecq\\n\\nShares in...   \n",
       "\n",
       "                                   cleaned_text_stem  \\\n",
       "0  ad sale boost time warner profit quarterli pro...   \n",
       "1  dollar gain greenspan speech dollar hit highes...   \n",
       "2  yuko unit buyer face loan claim owner embattl ...   \n",
       "3  high fuel price hit ba's profit british airway...   \n",
       "4  pernod takeov talk lift domecq share uk drink ...   \n",
       "\n",
       "                                   cleaned_text_lemm  \\\n",
       "0  ad sale boost time warner profit quarterly pro...   \n",
       "1  dollar gain greenspan speech dollar hit highes...   \n",
       "2  yukos unit buyer face loan claim owner embattl...   \n",
       "3  high fuel price hit ba's profit british airway...   \n",
       "4  pernod takeover talk lift domecq share uk drin...   \n",
       "\n",
       "                                    text_stem_tokens  \\\n",
       "0  [ad, sale, boost, time, warner, profit, quarte...   \n",
       "1  [dollar, gain, greenspan, speech, dollar, hit,...   \n",
       "2  [yuko, unit, buyer, face, loan, claim, owner, ...   \n",
       "3  [high, fuel, price, hit, ba, 's, profit, briti...   \n",
       "4  [pernod, takeov, talk, lift, domecq, share, uk...   \n",
       "\n",
       "                                    text_lemm_tokens  \n",
       "0  [ad, sale, boost, time, warner, profit, quarte...  \n",
       "1  [dollar, gain, greenspan, speech, dollar, hit,...  \n",
       "2  [yukos, unit, buyer, face, loan, claim, owner,...  \n",
       "3  [high, fuel, price, hit, ba, 's, profit, briti...  \n",
       "4  [pernod, takeover, talk, lift, domecq, share, ...  "
      ]
     },
     "execution_count": 33,
     "metadata": {},
     "output_type": "execute_result"
    }
   ],
   "source": [
    "bbc_df.head()"
   ]
  },
  {
   "cell_type": "code",
   "execution_count": 46,
   "metadata": {},
   "outputs": [
    {
     "data": {
      "text/plain": [
       "(1780, 445, 1780, 445)"
      ]
     },
     "execution_count": 46,
     "metadata": {},
     "output_type": "execute_result"
    }
   ],
   "source": [
    "X_train_stem, X_test_stem, y_train_stem, y_test_stem = train_test_split(bbc_df['cleaned_text_stem'],\n",
    "                                                                    bbc_df['Category'], test_size=0.2, random_state = 12)\n",
    "len(X_train_stem), len(X_test_stem), len(y_train_stem), len(y_test_stem)"
   ]
  },
  {
   "cell_type": "code",
   "execution_count": 47,
   "metadata": {},
   "outputs": [
    {
     "data": {
      "text/plain": [
       "(1780, 445, 1780, 445)"
      ]
     },
     "execution_count": 47,
     "metadata": {},
     "output_type": "execute_result"
    }
   ],
   "source": [
    "X_train_lemm, X_test_lemm, y_train_lemm, y_test_lemm = train_test_split(bbc_df['cleaned_text_lemm'],\n",
    "                                                                    bbc_df['Category'], test_size=0.2, random_state = 12)\n",
    "len(X_train_lemm), len(X_test_lemm), len(y_train_lemm), len(y_test_lemm)"
   ]
  },
  {
   "cell_type": "code",
   "execution_count": 59,
   "metadata": {},
   "outputs": [
    {
     "name": "stdout",
     "output_type": "stream",
     "text": [
      "Vectorization Started......\n",
      "\n",
      "Vectorization completed.\n",
      "\n",
      "Vectorization Started......\n",
      "\n",
      "Vectorization completed.\n",
      "\n"
     ]
    }
   ],
   "source": [
    "X_train_stem_vec, X_test_stem_vec = vectorize(TfidfVectorizer(), X_train_stem, X_test_stem)\n",
    "X_train_lemm_vec, X_test_lemm_vec = vectorize(TfidfVectorizer(), X_train_lemm, X_test_lemm)"
   ]
  },
  {
   "cell_type": "markdown",
   "metadata": {},
   "source": [
    "## 3. Model Building"
   ]
  },
  {
   "cell_type": "code",
   "execution_count": 63,
   "metadata": {},
   "outputs": [],
   "source": [
    "from sklearn.linear_model import LogisticRegression\n",
    "from sklearn.ensemble import RandomForestClassifier\n",
    "from sklearn.svm import SVC\n",
    "from sklearn.naive_bayes import GaussianNB\n",
    "from sklearn.naive_bayes import MultinomialNB\n",
    "from sklearn.tree import DecisionTreeClassifier\n",
    "from sklearn.metrics import accuracy_score, precision_score, recall_score, f1_score, confusion_matrix"
   ]
  },
  {
   "cell_type": "code",
   "execution_count": 80,
   "metadata": {},
   "outputs": [],
   "source": [
    "models = {'Naive_Bayes': MultinomialNB(),\n",
    "          'Decision_Tree': DecisionTreeClassifier(),\n",
    "          'Logistic_regression': LogisticRegression(),\n",
    "          'Random_Forest': RandomForestClassifier(),\n",
    "          'SVC': SVC()}"
   ]
  },
  {
   "cell_type": "code",
   "execution_count": 85,
   "metadata": {},
   "outputs": [],
   "source": [
    "def evaluate_models(models_, mX_train, mX_test, my_train, my_test):\n",
    "    \"\"\"\n",
    "    Takes models, features & labels as inputs and returns the metrics as outputs.\n",
    "    For Classification models only.\n",
    "    \"\"\"\n",
    "    evaluations = {}\n",
    "    for name, model in models_.items():\n",
    "        print('Model Building for: ', name)\n",
    "        model.fit(mX_train, my_train)\n",
    "        my_pred = model.predict(mX_test)\n",
    "        acc = accuracy_score(my_test, my_pred)\n",
    "        pre = precision_score(my_test, my_pred, average='weighted')\n",
    "        rec = recall_score(my_test, my_pred, average='weighted')\n",
    "        f1 = f1_score(my_test, my_pred, average='weighted')\n",
    "        evaluations[name] = {'accuracy': acc,\n",
    "                             'precision': pre,\n",
    "                             'recall': rec,\n",
    "                             'f1': f1}\n",
    "    for model_name, metrics in evaluations.items():\n",
    "        print('*'*10, model_name, '*'*10)\n",
    "        print(metrics)\n",
    "    return evaluations"
   ]
  },
  {
   "cell_type": "markdown",
   "metadata": {},
   "source": [
    "**For Stemmed Data**"
   ]
  },
  {
   "cell_type": "code",
   "execution_count": 86,
   "metadata": {},
   "outputs": [
    {
     "name": "stdout",
     "output_type": "stream",
     "text": [
      "Model Building for:  Naive_Bayes\n",
      "Model Building for:  Decision_Tree\n",
      "Model Building for:  Logistic_regression\n",
      "Model Building for:  Random_Forest\n",
      "Model Building for:  SVC\n",
      "********** Naive_Bayes **********\n",
      "{'accuracy': 0.9617977528089887, 'precision': 0.9631049657955838, 'recall': 0.9617977528089887, 'f1': 0.9617182102059925}\n",
      "********** Decision_Tree **********\n",
      "{'accuracy': 0.8292134831460675, 'precision': 0.8347615209670171, 'recall': 0.8292134831460675, 'f1': 0.8291432335379542}\n",
      "********** Logistic_regression **********\n",
      "{'accuracy': 0.9752808988764045, 'precision': 0.9752766087923209, 'recall': 0.9752808988764045, 'f1': 0.9752319845293916}\n",
      "********** Random_Forest **********\n",
      "{'accuracy': 0.952808988764045, 'precision': 0.9542989959338058, 'recall': 0.952808988764045, 'f1': 0.9527667189067466}\n",
      "********** SVC **********\n",
      "{'accuracy': 0.9730337078651685, 'precision': 0.9733740386631895, 'recall': 0.9730337078651685, 'f1': 0.9730455477133734}\n"
     ]
    }
   ],
   "source": [
    "evals_stem = evaluate_models(models, X_train_stem_vec, X_test_stem_vec, y_train_stem, y_test_stem)"
   ]
  },
  {
   "cell_type": "code",
   "execution_count": 87,
   "metadata": {},
   "outputs": [
    {
     "name": "stdout",
     "output_type": "stream",
     "text": [
      "Model Building for:  Naive_Bayes\n",
      "Model Building for:  Decision_Tree\n",
      "Model Building for:  Logistic_regression\n",
      "Model Building for:  Random_Forest\n",
      "Model Building for:  SVC\n",
      "********** Naive_Bayes **********\n",
      "{'accuracy': 0.9595505617977528, 'precision': 0.9612119883405167, 'recall': 0.9595505617977528, 'f1': 0.9594871295681345}\n",
      "********** Decision_Tree **********\n",
      "{'accuracy': 0.8224719101123595, 'precision': 0.8233665766628923, 'recall': 0.8224719101123595, 'f1': 0.8225640274466407}\n",
      "********** Logistic_regression **********\n",
      "{'accuracy': 0.9775280898876404, 'precision': 0.9775955787055953, 'recall': 0.9775280898876404, 'f1': 0.9774674474693473}\n",
      "********** Random_Forest **********\n",
      "{'accuracy': 0.9573033707865168, 'precision': 0.9580477308751878, 'recall': 0.9573033707865168, 'f1': 0.9571817585631225}\n",
      "********** SVC **********\n",
      "{'accuracy': 0.9752808988764045, 'precision': 0.9753693637321044, 'recall': 0.9752808988764045, 'f1': 0.9752354806260389}\n"
     ]
    }
   ],
   "source": [
    "eval_lemm = evaluate_models(models, X_train_lemm_vec, X_test_lemm_vec, y_train_lemm, y_test_lemm)"
   ]
  },
  {
   "cell_type": "markdown",
   "metadata": {},
   "source": [
    "> **Observations:** Performing Lemmatization appears to be marginally better than Stemming"
   ]
  },
  {
   "cell_type": "code",
   "execution_count": 97,
   "metadata": {},
   "outputs": [],
   "source": [
    "label_decoder = {}\n",
    "for i in range(len(enc.classes_)):\n",
    "    label_decoder[i] = enc.classes_[i]"
   ]
  },
  {
   "cell_type": "markdown",
   "metadata": {},
   "source": [
    "> **Testing a few Articles Manually........**"
   ]
  },
  {
   "cell_type": "code",
   "execution_count": 134,
   "metadata": {},
   "outputs": [],
   "source": [
    "def predict_article_class(pmodel, X):\n",
    "    vec = TfidfVectorizer()\n",
    "    vec.fit_transform(X_train_lemm)\n",
    "    X_clean = pd.Series(clean_corpus(X))\n",
    "    X_clean_vec = vec.transform(X_clean)\n",
    "    y_pred = pmodel.predict(X_clean_vec)\n",
    "    print(\"Predicted Label:\", label_decoder[y_pred[0]])"
   ]
  },
  {
   "cell_type": "code",
   "execution_count": 106,
   "metadata": {},
   "outputs": [
    {
     "data": {
      "text/plain": [
       "1329    call kenteri clear kosta kenteri lawyer call d...\n",
       "91      iranian mp threaten mobil deal turkey's bigges...\n",
       "733     farrel due make us tv debut actor colin farrel...\n",
       "1430    parri relish anfield challeng bbc sport reflec...\n",
       "784     produc scoop stage award produc beaten mari po...\n",
       "                              ...                        \n",
       "251     bt offer equal access rival bt move pre-empt p...\n",
       "1262    uk head wrong way say howard toni blair chanc ...\n",
       "1871    'no re-draft eu patent law propos european law...\n",
       "1006    kilroy launch'verita parti ex-bbc chat show ho...\n",
       "821     smith lose us box offic crown new comedi diari...\n",
       "Name: cleaned_text_stem, Length: 445, dtype: object"
      ]
     },
     "execution_count": 106,
     "metadata": {},
     "output_type": "execute_result"
    }
   ],
   "source": [
    "X_test_stem"
   ]
  },
  {
   "cell_type": "code",
   "execution_count": 111,
   "metadata": {},
   "outputs": [],
   "source": [
    "sample_test_indices = [1329,91,733,1430,784,1262]"
   ]
  },
  {
   "cell_type": "code",
   "execution_count": 114,
   "metadata": {},
   "outputs": [
    {
     "data": {
      "text/plain": [
       "LogisticRegression()"
      ]
     },
     "execution_count": 114,
     "metadata": {},
     "output_type": "execute_result"
    }
   ],
   "source": [
    "test_classifier = LogisticRegression()\n",
    "test_classifier.fit(X_train_lemm_vec, y_train_lemm)"
   ]
  },
  {
   "cell_type": "markdown",
   "metadata": {},
   "source": [
    "**Test 1**"
   ]
  },
  {
   "cell_type": "code",
   "execution_count": 115,
   "metadata": {},
   "outputs": [
    {
     "data": {
      "text/plain": [
       "'Call for Kenteris to be cleared\\n\\nKostas Kenteris\\' lawyer has called for the doping charges against the Greek sprinter to be dropped.\\n\\nGregory Ioannidis has submitted new evidence to a Greek athletics tribunal which he claims proves the former Olympic champion has no case to answer. Kenteris and compatriot Katerina Thanou were given provisional suspensions in December for failing to take drugs tests before the Athens Olympics. The Greek tribunal is expected to give its verdict early next week. Kenteris and Thanou withdrew from the Athens Olympics last August after missing drugs tests on the eve of the opening ceremony. They were also alleged to have avoided tests in Tel Aviv and Chicago before the Games.\\n\\nBut Ioannidis said: \"Everything overwhelmingly shows that the charges should be dropped.\" Ioannidis also said he has presented evidence that will throw a different light on the events leading up to the pair\\'s sensational withdrawal from the Athens Games. The lawyer added that he has proof the authorities \"knew\" Kenteris was in Germany at the time he was alleged to have missed a test in Chicago. Nick Davies, spokesman for athletics\\' ruling body the IAAF, which handed out the provisional bans, said: \"We can\\'t comment because we were not present at the hearing and don\\'t know what was said behind closed doors. \"We expect a verdict from the Greek Athletics Federation before the end of February and will obviously be making a statement then.\" Kenteris won 200m gold at the 2000 Sydney Olympics, while Thanou won silver in the 100m.\\n'"
      ]
     },
     "execution_count": 115,
     "metadata": {},
     "output_type": "execute_result"
    }
   ],
   "source": [
    "bbc_df['text'].iloc[sample_test_indices[0]]"
   ]
  },
  {
   "cell_type": "code",
   "execution_count": 117,
   "metadata": {},
   "outputs": [
    {
     "name": "stdout",
     "output_type": "stream",
     "text": [
      "True Label:  sport\n"
     ]
    }
   ],
   "source": [
    "print(\"True Label: \", label_decoder[bbc_df['Category'].iloc[sample_test_indices[0]]])"
   ]
  },
  {
   "cell_type": "code",
   "execution_count": 135,
   "metadata": {},
   "outputs": [
    {
     "name": "stdout",
     "output_type": "stream",
     "text": [
      "Predicted Label: sport\n"
     ]
    }
   ],
   "source": [
    "predict_article_class(test_classifier, bbc_df['text'][sample_test_indices[0]])"
   ]
  },
  {
   "cell_type": "markdown",
   "metadata": {},
   "source": [
    "**Test 2**"
   ]
  },
  {
   "cell_type": "code",
   "execution_count": 138,
   "metadata": {},
   "outputs": [
    {
     "data": {
      "text/plain": [
       "'Iranian MPs threaten mobile deal\\n\\nTurkey\\'s biggest private mobile firm could bail out of a $3bn ($1.6bn) deal to build a network in Iran after MPs there slashed its stake in the project.\\n\\nConservatives in parliament say Turkcell\\'s stake in Irancell, the new network, should be cut from 70% to 49%. They have already given themselves a veto over all foreign investment deals, following allegations about Turkish firms\\' involvement in Israel. Turkcell now says it may give up on the deal altogether.\\n\\nIran currently has only one heavily congested mobile network, with long waiting lists for new subscribers. Turkcell signed a contract for the new network in September. The new operator planned to offer subscriptions for about $180, well below the existing firm\\'s $500 price tag. But a parliamentary commission has now ruled that Turkcell\\'s 70% controlling stake is too high. They say that Turkcell is a security risk because of alleged business ties with Israel. Parliament as a whole - dominated by religious conservatives - will vote on the ruling on Tuesday.\\n\\nTurkcell said the ruling would \"make more difficult... Turkcell\\'s financial consolidation of Irancell\" because its stake would be reduced to less than 50%. \"If management control and financial consolidation of Irancell cannot be achieved... the realisation of the project will become risky,\" it warned in a statement. The firm has refused to comment on whether it has business dealings in Israel, although like almost all GSM operators worldwide it has an interconnection deal with Israeli networks so that its customers can use their phones there. The two countries strengthened ties in both defence and economic issues in 2004. Israeli industry minister Ehud Olmert was reported in June to have attended a meeting between Ruhi Dogusoy, Turkcell\\'s chief operating officer, and executives from Israeli telecoms firms. Telecoms is one of two areas specifically targeted by the new veto law on foreign investments, passed earlier in September. The other is airports, a source of controversy after the army closed Tehran\\'s new Imam Khomeini International Airport on its opening day in May 2004. Again, the allegation was that the part-Turkish TAV consortium which built and ran it had links with Israel.\\n'"
      ]
     },
     "execution_count": 138,
     "metadata": {},
     "output_type": "execute_result"
    }
   ],
   "source": [
    "bbc_df['text'].iloc[sample_test_indices[1]]"
   ]
  },
  {
   "cell_type": "code",
   "execution_count": 139,
   "metadata": {},
   "outputs": [
    {
     "name": "stdout",
     "output_type": "stream",
     "text": [
      "True Label:  business\n"
     ]
    }
   ],
   "source": [
    "print(\"True Label: \", label_decoder[bbc_df['Category'].iloc[sample_test_indices[1]]])"
   ]
  },
  {
   "cell_type": "code",
   "execution_count": 140,
   "metadata": {},
   "outputs": [
    {
     "name": "stdout",
     "output_type": "stream",
     "text": [
      "Predicted Label: business\n"
     ]
    }
   ],
   "source": [
    "predict_article_class(test_classifier, bbc_df['text'][sample_test_indices[1]])"
   ]
  },
  {
   "cell_type": "markdown",
   "metadata": {},
   "source": [
    "**Test 3**"
   ]
  },
  {
   "cell_type": "code",
   "execution_count": 142,
   "metadata": {},
   "outputs": [
    {
     "data": {
      "text/plain": [
       "\"Farrell due to make US TV debut\\n\\nActor Colin Farrell is to make his debut on US television in medical sitcom Scrubs, according to Hollywood newspaper Daily Variety.\\n\\nThe film star, who recently played the title role in historical blockbuster Alexander, will make a cameo appearance as an unruly Irishman. The episode featuring the 28-year-old will be screened on 25 January. Farrell's appearance is said to be a result of his friendship with Zach Braff, who stars in the programme. It will be the actor's first appearance on the small screen since he appeared in BBC series Ballykissangel in 1999. The gentle Sunday night drama came to an end in 2001.\\n\\nHe has since become one of Hollywood's fastest-rising stars, with a string roles in major league films such as Minority Report, Phone Booth and Daredevil. Farrell is pencilled in to play the role of Crockett in a film version of 1980s police drama Miami Vice. Scrubs, which appears on the NBC network in the US and has been shown on Channel 4 on British television, is an off-beat comedy about a group of hospital doctors. Other film stars to have appeared in Scrubs include Heather Graham, while Friends actor Matthew Perry has guest-starred and directed an episode of the show. Its leading star, Zach Braff, has recently been seen on the big screen in Garden State, which he also directed.\\n\""
      ]
     },
     "execution_count": 142,
     "metadata": {},
     "output_type": "execute_result"
    }
   ],
   "source": [
    "bbc_df['text'].iloc[sample_test_indices[2]]"
   ]
  },
  {
   "cell_type": "code",
   "execution_count": 143,
   "metadata": {},
   "outputs": [
    {
     "name": "stdout",
     "output_type": "stream",
     "text": [
      "True Label:  entertainment\n"
     ]
    }
   ],
   "source": [
    "print(\"True Label: \", label_decoder[bbc_df['Category'].iloc[sample_test_indices[2]]])"
   ]
  },
  {
   "cell_type": "code",
   "execution_count": 144,
   "metadata": {},
   "outputs": [
    {
     "name": "stdout",
     "output_type": "stream",
     "text": [
      "Predicted Label: entertainment\n"
     ]
    }
   ],
   "source": [
    "predict_article_class(test_classifier, bbc_df['text'][sample_test_indices[2]])"
   ]
  },
  {
   "cell_type": "markdown",
   "metadata": {},
   "source": [
    "**Test 4**"
   ]
  },
  {
   "cell_type": "code",
   "execution_count": 146,
   "metadata": {},
   "outputs": [
    {
     "data": {
      "text/plain": [
       "'Parry relishes Anfield challenge\\n\\nBBC Sport reflects on the future for Liverpool after our exclusive interview with chief executive Rick Parry.\\n\\nChief executive Parry is the man at the helm as Liverpool reach the most crucial point in their recent history. Parry has to deliver a new 60,000-seat stadium in Stanley Park by 2007 amid claims of costs spiralling above Â£120m. He is also searching for an investment package of a size and stature that will restore Liverpool to their place at European football\\'s top table. But it is a challenge that appears to sit easily with Parry, who has forged a reputation as one of football\\'s most respected administrators since his days at the fledgling Premier League.\\n\\nLiverpool have not won the championship since 1990, a fact that causes deep discomfort inside Anfield as they attempt to muscle in on the top three of Chelsea, Manchester United and Arsenal. Throw in the small matter of warding off every top club in world football as they eye captain Steven Gerrard, and you can see Parry is a man with a lot on his plate. But in the comfort of a conference room deep inside Liverpool\\'s heartbeat - The Kop end - Parry spoke to us with brutal honesty about the crucial months ahead. He only dodged one question - when asked to reveal the name of the mystery investor currently courting Liverpool, a polite smile deflected the inquiry. But to his credit, he met everything else head on in measured tones that underscore the belief that Liverpool still mean business.\\n\\nBy business he means becoming title challengers again, and locking the pieces together that will help return the trophy to Liverpool is Parry\\'s mission. Parry has already successfully put one of those planks in place in the form of new manager Rafael Benitez. And his enthusiasm for the Spaniard\\'s personality and methods is an indication of his clear feeling that he has struck gold. Benitez\\'s early work has given Parry renewed optimism about the years ahead. But it remains a massive task at a club with a unique history and expectations. This will not come as news to Parry, a lifelong Liverpool supporter, but his quiet determination suggests he is no mood to be found wanting...\\n\\nCaptain Gerrard is central to Liverpool\\'s plans and Parry\\'s insistence that all offers will be refused is a firm statement of intent. As ever, the player will have the final say, and Parry acknowledges that, but he is determined to provide the framework and environment for Liverpool and Gerrard to flourish.\\n\\nIn terms of the search for new investment, Hawkpoint were appointed as advisors to flush out interest in March 2004. Thailand Prime Minister Thaksin Shiniwatra came and went, while the most serious statement of intent came from tycoon and lifelong fan Steve Morgan. Morgan had a succession of bids rejected, having come close in the summer only for talks to break down over potential costs for the new stadium. BBC Sport understands Morgan is still ready and willing to invest in Liverpool, and Parry has kept the door ajar despite currently seeking investment elsewhere.\\n\\nMorgan, however, has had no formal contact with Liverpool or their advisors since last December, blaming indecision at board level as he publicly withdrew his Â£70m offer. He was also convinced his interest was being used to lure in others, so any new approach would now have to come from Liverpool. Morgan will certainly not be making another call. So speculation continues about the new benefactor, with trails leading to the Middle East and America, but all met with an understandable veil of secrecy from Anfield.\\n\\nParry meanwhile sees the new ground as crucial to Liverpool\\'s future, but is refusing to become emotionally attached to the idea. He is determined the ground will only be built on an affordable basis and will not make future Liverpool management hostages to the new stadium. Parry will pull back the moment the figures do not stack up, but there has been a vital new development in North London that has re-shaped Liverpool\\'s thinking.\\n\\nLiverpool have publicly refused to entertain the idea of stadium sponsorship and potential naming rights - but the realism of Arsenal\\'s stunning Â£100m deal for their new Emirates Stadium at Ashburton has changed the landscape. Parry labelled the deal \"an eye-opener\" and admits Liverpool would be missing a trick not to explore the possibilities. He knows some traditionalist Liverpool fans will reel at any attempt to call the new stadium anything other than just \\'Anfield\\', but the maths of modern-day football decree that multi-millions for stadium and team could ease the pain.\\n\\nI would take Â£50m if we had no investment, but if we did, keep him. As for the stadium, if it gets us cash what difference does it make really?\\n\\nÂ£50m for Gerrard? I don\\'t care who you are, the Directors would take the money and it is the way it should be. We cannot let that sum of money go, despite Gerrard\\'s quality.\\n\\nThrough a cleverly worded statement, the club has effectively forced Gerrard to publicly make the decision for himself, which I think is the right thing to do.\\n\\nCritical time for Liverpool with regards to Gerrard. Ideally we would want to secure his future to the club for the long term. I am hoping he doesn\\'t walk out of the club like Michael Owen did for very little cash.\\n\\nÂ£50m realistically would allow Rafa to completely rebuild the squad, however, if we can afford to do this AND keep Gerrard we will be better for it. I would however be happy with Gerrard\\'s transfer for any fee over Â£35m.\\n\\nParry\\'s statements are clever in that any future Gerrard transfer cannot be construed as a lack of ambition by the club to not try and keep their best players. Upping the ante is another smart move by Parry.\\n\\nI would keep Gerrard. No amount of money could replace his obvious love of the club and determination to succeed.\\n\\nThe key is if Gerrard comes out and says that he is happy. Clearly, if he isn\\'t, then we would be foolish not to sell. The worrying thing is who would you buy (or who would come) pending possible non-Champions League football.\\n'"
      ]
     },
     "execution_count": 146,
     "metadata": {},
     "output_type": "execute_result"
    }
   ],
   "source": [
    "bbc_df['text'].iloc[sample_test_indices[3]]"
   ]
  },
  {
   "cell_type": "code",
   "execution_count": 147,
   "metadata": {},
   "outputs": [
    {
     "name": "stdout",
     "output_type": "stream",
     "text": [
      "True Label:  sport\n"
     ]
    }
   ],
   "source": [
    "print(\"True Label: \", label_decoder[bbc_df['Category'].iloc[sample_test_indices[3]]])"
   ]
  },
  {
   "cell_type": "code",
   "execution_count": 148,
   "metadata": {},
   "outputs": [
    {
     "name": "stdout",
     "output_type": "stream",
     "text": [
      "Predicted Label: sport\n"
     ]
    }
   ],
   "source": [
    "predict_article_class(test_classifier, bbc_df['text'][sample_test_indices[3]])"
   ]
  },
  {
   "cell_type": "markdown",
   "metadata": {},
   "source": [
    "**Test 5**"
   ]
  },
  {
   "cell_type": "code",
   "execution_count": 150,
   "metadata": {},
   "outputs": [
    {
     "data": {
      "text/plain": [
       "\"The Producers scoops stage awards\\n\\nThe Producers has beaten Mary Poppins in the battle of the blockbuster West End musicals at the Olivier Awards.\\n\\nThe Producers won three prizes at the UK's most prestigious annual theatre awards, while Mary Poppins won two. Mel Brooks' hit show triumphed in the battle for best new musical, where it was up against Mary Poppins and Andrew Lloyd Webber's The Woman in White. Alan Bennett's The History Boys was the big winner in the straight theatre categories, picking up three trophies. But all eyes were on the musical prizes after The Producers, Mary Poppins and The Woman in White all had high-profile openings in the last six months.\\n\\nThe Producers' Nathan Lane, a last-minute replacement for Richard Dreyfuss, beat his former co-star Lee Evans to win best musical actor. Lane has already left the production. A smash hit on Broadway before moving to London, the show also won best musical performance in a supporting role for Conleth Hill, who plays director Roger DeBris. Mary Poppins' awards came for best choreography and best musical actress for its star Laura Michelle Kelly. It led the nominations going into Sunday's ceremony at London's Hilton hotel, up for nine awards. Both shows are stage adaptations of 1960s films. The History Boys, set in a grammar school in the early 1980s and partly based on Bennett's experiences as a teacher, was named best new play.\\n\\nIt also won best actor for Richard Griffiths, who beat his Harry Potter film co-star Michael Gambon, nominated for Endgame, as well as Jonathan Pryce and Ben Whishaw. The play also won National Theatre artistic director Nicholas Hytner best director and Bennett got a special award for outstanding contribution to British theatre. Dame Judi Dench, who starred in All's Well That Ends Well at the Gielgud, lost out in the best supporting role category to Amanda Harris, who played Emilia in Othello for the Royal Shakespeare Company. The Olivier Awards have been handed out by the Society of London since 1976.\\n\\n- Best lighting design - His Dark Materials designed by Paule Constable at the Olivier \\n - Best sound design - The Woman in White designed by Mick Potter at the Palace \\n - Best new opera - Lady Macbeth of Mtsensk at the Royal Opera House \\n - Outstanding achievement in opera - Thomas Ades and the Royal Opera House for the world premiere of The Tempest \\n - Best costume design - All's Well That Ends Well designed by Deirdre Clancy at the Gielgud \\n - Best Revival - Hamlet by William Shakespeare at The Old Vic \\n - Best set design - His Dark Materials designed by Giles Cadle at the Olivier \\n - Outstanding musical production - Grand Hotel at the Donmar Warehouse \\n - Best supporting role in a musical - Conleth Hill for The Producers at Theatre Royal, Drury Lane \\n - Best theatre choreographer - Matthew Bourne and Stephen Mear for Mary Poppins at the Prince Edward \\n - Best actor - Richard Griffiths for The History Boys at the Lyttelton \\n - Outstanding achievement or performance in an affiliate theatre - Andrew Scott for A Girl in A Car With A Man at the Jerwood Theatre Upstairs at the Royal Court \\n - Best new dance production - Rambert Dance Company's Swamp at Sadler's Wells \\n - Outstanding achievement in dance - San Francisco Ballet for their season at Sadler's Wells \\n - Best performance in a supporting role - Amanda Harris for Othello at Trafalgar Studios \\n - Best actress - Clare Higgins for Hecuba at the Donmar Warehouse \\n - Best musical actor - Nathan Lane for The Producers at Theatre Royal, Drury Lane \\n - Best musical actress - Laura Michelle Kelly for Mary Poppins at the Prince Edward \\n - Best director - Nicholas Hytner for The History Boys at the Lyttelton \\n - Best new play - The History Boys by Alan Bennett at the Lyttelton \\n - Best new musical - The Producers at Theatre Royal, Drury Lane \\n - Special award - Alan Bennett for his outstanding contribution to British theatre\\n\""
      ]
     },
     "execution_count": 150,
     "metadata": {},
     "output_type": "execute_result"
    }
   ],
   "source": [
    "bbc_df['text'].iloc[sample_test_indices[4]]"
   ]
  },
  {
   "cell_type": "code",
   "execution_count": 152,
   "metadata": {},
   "outputs": [
    {
     "name": "stdout",
     "output_type": "stream",
     "text": [
      "True Label:  entertainment\n"
     ]
    }
   ],
   "source": [
    "print(\"True Label: \", label_decoder[bbc_df['Category'].iloc[sample_test_indices[4]]])"
   ]
  },
  {
   "cell_type": "code",
   "execution_count": 153,
   "metadata": {},
   "outputs": [
    {
     "name": "stdout",
     "output_type": "stream",
     "text": [
      "Predicted Label: entertainment\n"
     ]
    }
   ],
   "source": [
    "predict_article_class(test_classifier, bbc_df['text'][sample_test_indices[4]])"
   ]
  },
  {
   "cell_type": "markdown",
   "metadata": {},
   "source": [
    "**Test 6**"
   ]
  },
  {
   "cell_type": "code",
   "execution_count": 156,
   "metadata": {},
   "outputs": [
    {
     "data": {
      "text/plain": [
       "'UK heading wrong way, says Howard\\n\\nTony Blair has had the chance to tackle the problems facing Britain and has failed, Michael Howard has said.\\n\\n\"Britain is heading in the wrong direction\", the Conservative leader said in his New Year message. Mr Blair\\'s government was a \"bossy, interfering government that takes decisions that should be made by individuals,\" he added. But Labour\\'s campaign spokesman Fraser Kemp responded: \"Britain is working, don\\'t let the Tories wreck it again\". Mr Howard also paid tribute to the nation\\'s character for its generous response to the Asian quake disaster. The catastrophe was overshadowing the hopes for the future at this usually positive time of the year, Mr Howard said.\\n\\n\"We watched the scenes of destruction with a sense of disbelief. The scale, the speed, the ferocity of what happened on Boxing Day is difficult to grasp. \"Yet Britain\\'s response has shone a light on our nation\\'s character. The last week has shown that the warm, caring heart of Britain beats as strong as ever.\" He went on to reflect on the values that \"most Britons hold dear\". Looking ahead to the coming general election, he pledged to \"turn these beliefs into reality\" and set out the choices he says are facing Britain. \"How much tax do people want to pay? Who will give taxpayers value for money, the clean hospitals and good, disciplined schools they want? \"Who can be trusted to get a grip on the disorder on our streets and the chaos in our immigration system?\"\\n\\nMr Blair has failed to tackle these problems, he claimed, saying he has the \"wrong solution\" to them.\\n\\n\"The result is big government and higher taxes eroding incentives, undermining enterprise and denying people choice. \"Worst of all, it is a government that has wasted people\\'s money and failed to tackle the problems families face today.\" The Tories, he said, can cut crime and improve public services without asking people to pay more taxes. \"We can have progress without losing what makes Britain great - its tolerance, the respect for the rule of law, the ability of everyone to fulfil their potential. \"We simply need to change direction. The election will give Britain the chance to change.\" This is the record Mr Blair will have to defend in the coming months, he said, urging voters to hold him to account.\\n\\nBut Labour spokesman Mr Kemp said: \"It would be more appropriate for this message to come out on 1 April, not 1 January.\" \"Let us never forget that when Michael Howard was in government Britain suffered mass unemployment, 15% interest rates, record home repossessions, and the introduction of the poll tax. \"With Labour Britain is working. Rather than alluding to false promises Michael Howard should be starting 2005 with an apology to the British people for the misery that the government, of which he was a member, inflicted upon the country.\\n'"
      ]
     },
     "execution_count": 156,
     "metadata": {},
     "output_type": "execute_result"
    }
   ],
   "source": [
    "bbc_df['text'].iloc[sample_test_indices[5]]"
   ]
  },
  {
   "cell_type": "code",
   "execution_count": 158,
   "metadata": {},
   "outputs": [
    {
     "name": "stdout",
     "output_type": "stream",
     "text": [
      "True Label:  politics\n"
     ]
    }
   ],
   "source": [
    "print(\"True Label: \", label_decoder[bbc_df['Category'].iloc[sample_test_indices[5]]])"
   ]
  },
  {
   "cell_type": "code",
   "execution_count": 159,
   "metadata": {},
   "outputs": [
    {
     "name": "stdout",
     "output_type": "stream",
     "text": [
      "Predicted Label: politics\n"
     ]
    }
   ],
   "source": [
    "predict_article_class(test_classifier, bbc_df['text'][sample_test_indices[5]])"
   ]
  },
  {
   "cell_type": "code",
   "execution_count": null,
   "metadata": {},
   "outputs": [],
   "source": []
  }
 ],
 "metadata": {
  "kernelspec": {
   "display_name": "Python 3",
   "language": "python",
   "name": "python3"
  },
  "language_info": {
   "codemirror_mode": {
    "name": "ipython",
    "version": 3
   },
   "file_extension": ".py",
   "mimetype": "text/x-python",
   "name": "python",
   "nbconvert_exporter": "python",
   "pygments_lexer": "ipython3",
   "version": "3.8.3"
  }
 },
 "nbformat": 4,
 "nbformat_minor": 4
}
