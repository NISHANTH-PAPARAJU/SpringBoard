{
  "nbformat": 4,
  "nbformat_minor": 0,
  "metadata": {
    "colab": {
      "name": "AGNewsClassification.ipynb",
      "provenance": [],
      "collapsed_sections": [],
      "mount_file_id": "1tA_RTHmDY17irnCNAKAjPYcPhn2WppSj",
      "authorship_tag": "ABX9TyNmPR8U4KuKlxEiUe6yVUlq",
      "include_colab_link": true
    },
    "kernelspec": {
      "name": "python3",
      "display_name": "Python 3"
    }
  },
  "cells": [
    {
      "cell_type": "markdown",
      "metadata": {
        "id": "view-in-github",
        "colab_type": "text"
      },
      "source": [
        "<a href=\"https://colab.research.google.com/github/NISHANTH-PAPARAJU/SpringBoard/blob/main/99-CapstoneProject/03-AGNewsClassification/AGNewsClassification.ipynb\" target=\"_parent\"><img src=\"https://colab.research.google.com/assets/colab-badge.svg\" alt=\"Open In Colab\"/></a>"
      ]
    },
    {
      "cell_type": "markdown",
      "metadata": {
        "id": "tm751cWFE0Tz"
      },
      "source": [
        "# AG News Classication"
      ]
    },
    {
      "cell_type": "markdown",
      "metadata": {
        "id": "JJmE7wtbE9JW"
      },
      "source": [
        "Steps:\r\n",
        "  1. Exploratory Data Analysis (EDA)\r\n",
        "  2. Data Preprocessing\r\n",
        "  3. Decide Strategy\r\n",
        "  4. Generate Word Embeddings (TFIDF, Word2Vec)\r\n",
        "  5. Evaluate the Best model (ML models, LSTM, Transformers) on Data Subset. (Metric - Accuracy)\r\n",
        "  6. Tuning the Best Model\r\n",
        "  7. Pickle the models for future use\r\n",
        "  8. Predictions\r\n"
      ]
    },
    {
      "cell_type": "markdown",
      "metadata": {
        "id": "EITVV1kVjS3x"
      },
      "source": [
        "## 1.Exploratory Data Analysis (EDA)"
      ]
    },
    {
      "cell_type": "code",
      "metadata": {
        "id": "VbK0uCcTElDi",
        "colab": {
          "base_uri": "https://localhost:8080/"
        },
        "outputId": "1a7b5c00-7010-425e-d007-ce8808118616"
      },
      "source": [
        "import pandas as pd\r\n",
        "import numpy as np\r\n",
        "import matplotlib.pyplot as plt\r\n",
        "import seaborn as sns\r\n",
        "import re\r\n",
        "import nltk\r\n",
        "from nltk.corpus import stopwords\r\n",
        "from nltk.tokenize import word_tokenize, WordPunctTokenizer\r\n",
        "from nltk.stem import PorterStemmer\r\n",
        "from nltk.stem import WordNetLemmatizer\r\n",
        "import string\r\n",
        "import time\r\n",
        "nltk.download('stopwords')\r\n",
        "nltk.download('punkt')\r\n",
        "nltk.download('wordnet')\r\n",
        "stop_words = stopwords.words('english')"
      ],
      "execution_count": 63,
      "outputs": [
        {
          "output_type": "stream",
          "text": [
            "[nltk_data] Downloading package stopwords to /root/nltk_data...\n",
            "[nltk_data]   Package stopwords is already up-to-date!\n",
            "[nltk_data] Downloading package punkt to /root/nltk_data...\n",
            "[nltk_data]   Package punkt is already up-to-date!\n",
            "[nltk_data] Downloading package wordnet to /root/nltk_data...\n",
            "[nltk_data]   Package wordnet is already up-to-date!\n"
          ],
          "name": "stdout"
        }
      ]
    },
    {
      "cell_type": "code",
      "metadata": {
        "id": "134XFrOaFvmn"
      },
      "source": [
        "from sklearn.feature_extraction.text import TfidfVectorizer\r\n",
        "from gensim.models import word2vec"
      ],
      "execution_count": 2,
      "outputs": []
    },
    {
      "cell_type": "markdown",
      "metadata": {
        "id": "WMq_LrKfk_z6"
      },
      "source": [
        "Open Readme & Classes Files and read through them."
      ]
    },
    {
      "cell_type": "code",
      "metadata": {
        "id": "7-mFbBgtEtzT"
      },
      "source": [
        "with open('/content/drive/MyDrive/Colab Notebooks/Data/AGNews/readme.txt', 'r') as f:\r\n",
        "  readme = f.read()\r\n",
        "with open('/content/drive/MyDrive/Colab Notebooks/Data/AGNews/classes.txt', 'r') as f:\r\n",
        "  classes = f.read()"
      ],
      "execution_count": 3,
      "outputs": []
    },
    {
      "cell_type": "code",
      "metadata": {
        "colab": {
          "base_uri": "https://localhost:8080/",
          "height": 142
        },
        "id": "eHtAHRgvlP-b",
        "outputId": "71bc7f34-bc67-4a20-a6e3-112a0eb75eb5"
      },
      "source": [
        "readme"
      ],
      "execution_count": 4,
      "outputs": [
        {
          "output_type": "execute_result",
          "data": {
            "application/vnd.google.colaboratory.intrinsic+json": {
              "type": "string"
            },
            "text/plain": [
              "'AG\\'s News Topic Classification Dataset\\n\\nVersion 3, Updated 09/09/2015\\n\\n\\nORIGIN\\n\\nAG is a collection of more than 1 million news articles. News articles have been gathered from more than 2000  news sources by ComeToMyHead in more than 1 year of activity. ComeToMyHead is an academic news search engine which has been running since July, 2004. The dataset is provided by the academic comunity for research purposes in data mining (clustering, classification, etc), information retrieval (ranking, search, etc), xml, data compression, data streaming, and any other non-commercial activity. For more information, please refer to the link http://www.di.unipi.it/~gulli/AG_corpus_of_news_articles.html .\\n\\nThe AG\\'s news topic classification dataset is constructed by Xiang Zhang (xiang.zhang@nyu.edu) from the dataset above. It is used as a text classification benchmark in the following paper: Xiang Zhang, Junbo Zhao, Yann LeCun. Character-level Convolutional Networks for Text Classification. Advances in Neural Information Processing Systems 28 (NIPS 2015).\\n\\n\\nDESCRIPTION\\n\\nThe AG\\'s news topic classification dataset is constructed by choosing 4 largest classes from the original corpus. Each class contains 30,000 training samples and 1,900 testing samples. The total number of training samples is 120,000 and testing 7,600.\\n\\nThe file classes.txt contains a list of classes corresponding to each label.\\n\\nThe files train.csv and test.csv contain all the training samples as comma-sparated values. There are 3 columns in them, corresponding to class index (1 to 4), title and description. The title and description are escaped using double quotes (\"), and any internal double quote is escaped by 2 double quotes (\"\"). New lines are escaped by a backslash followed with an \"n\" character, that is \"\\\\n\".\\n'"
            ]
          },
          "metadata": {
            "tags": []
          },
          "execution_count": 4
        }
      ]
    },
    {
      "cell_type": "code",
      "metadata": {
        "colab": {
          "base_uri": "https://localhost:8080/",
          "height": 35
        },
        "id": "W2byhDL8lSjj",
        "outputId": "17cb74c8-dc1a-4647-916f-50aa6f866097"
      },
      "source": [
        "classes"
      ],
      "execution_count": 5,
      "outputs": [
        {
          "output_type": "execute_result",
          "data": {
            "application/vnd.google.colaboratory.intrinsic+json": {
              "type": "string"
            },
            "text/plain": [
              "'World\\nSports\\nBusiness\\nSci/Tech\\n'"
            ]
          },
          "metadata": {
            "tags": []
          },
          "execution_count": 5
        }
      ]
    },
    {
      "cell_type": "code",
      "metadata": {
        "colab": {
          "base_uri": "https://localhost:8080/"
        },
        "id": "mHIpVvhZlT4-",
        "outputId": "f496401e-9da0-4b32-f8c5-e6078f80ce18"
      },
      "source": [
        "labels = classes.split(sep='\\n')\r\n",
        "labels.pop() #Removing the Empty item at the last\r\n",
        "labels"
      ],
      "execution_count": 6,
      "outputs": [
        {
          "output_type": "execute_result",
          "data": {
            "text/plain": [
              "['World', 'Sports', 'Business', 'Sci/Tech']"
            ]
          },
          "metadata": {
            "tags": []
          },
          "execution_count": 6
        }
      ]
    },
    {
      "cell_type": "markdown",
      "metadata": {
        "id": "afRVcjRKlymR"
      },
      "source": [
        "> **Inferences**:\r\n",
        ">*   There are 4 classes/labels ('World', 'Sports', 'Business', 'Sci Tech')\r\n",
        "\r\n"
      ]
    },
    {
      "cell_type": "markdown",
      "metadata": {
        "id": "d-WEEIhTmpzT"
      },
      "source": [
        "### Load the dataset"
      ]
    },
    {
      "cell_type": "code",
      "metadata": {
        "colab": {
          "base_uri": "https://localhost:8080/",
          "height": 195
        },
        "id": "UB_GFwJzljNq",
        "outputId": "3d634d79-9c41-4457-ea2b-a327d4fc118b"
      },
      "source": [
        "train_df = pd.read_csv('/content/drive/MyDrive/Colab Notebooks/Data/AGNews/train.csv', names=['Category', 'HeadLine', 'Short Description'])\r\n",
        "train_df.head()"
      ],
      "execution_count": 7,
      "outputs": [
        {
          "output_type": "execute_result",
          "data": {
            "text/html": [
              "<div>\n",
              "<style scoped>\n",
              "    .dataframe tbody tr th:only-of-type {\n",
              "        vertical-align: middle;\n",
              "    }\n",
              "\n",
              "    .dataframe tbody tr th {\n",
              "        vertical-align: top;\n",
              "    }\n",
              "\n",
              "    .dataframe thead th {\n",
              "        text-align: right;\n",
              "    }\n",
              "</style>\n",
              "<table border=\"1\" class=\"dataframe\">\n",
              "  <thead>\n",
              "    <tr style=\"text-align: right;\">\n",
              "      <th></th>\n",
              "      <th>Category</th>\n",
              "      <th>HeadLine</th>\n",
              "      <th>Short Description</th>\n",
              "    </tr>\n",
              "  </thead>\n",
              "  <tbody>\n",
              "    <tr>\n",
              "      <th>0</th>\n",
              "      <td>3</td>\n",
              "      <td>Wall St. Bears Claw Back Into the Black (Reuters)</td>\n",
              "      <td>Reuters - Short-sellers, Wall Street's dwindli...</td>\n",
              "    </tr>\n",
              "    <tr>\n",
              "      <th>1</th>\n",
              "      <td>3</td>\n",
              "      <td>Carlyle Looks Toward Commercial Aerospace (Reu...</td>\n",
              "      <td>Reuters - Private investment firm Carlyle Grou...</td>\n",
              "    </tr>\n",
              "    <tr>\n",
              "      <th>2</th>\n",
              "      <td>3</td>\n",
              "      <td>Oil and Economy Cloud Stocks' Outlook (Reuters)</td>\n",
              "      <td>Reuters - Soaring crude prices plus worries\\ab...</td>\n",
              "    </tr>\n",
              "    <tr>\n",
              "      <th>3</th>\n",
              "      <td>3</td>\n",
              "      <td>Iraq Halts Oil Exports from Main Southern Pipe...</td>\n",
              "      <td>Reuters - Authorities have halted oil export\\f...</td>\n",
              "    </tr>\n",
              "    <tr>\n",
              "      <th>4</th>\n",
              "      <td>3</td>\n",
              "      <td>Oil prices soar to all-time record, posing new...</td>\n",
              "      <td>AFP - Tearaway world oil prices, toppling reco...</td>\n",
              "    </tr>\n",
              "  </tbody>\n",
              "</table>\n",
              "</div>"
            ],
            "text/plain": [
              "   Category  ...                                  Short Description\n",
              "0         3  ...  Reuters - Short-sellers, Wall Street's dwindli...\n",
              "1         3  ...  Reuters - Private investment firm Carlyle Grou...\n",
              "2         3  ...  Reuters - Soaring crude prices plus worries\\ab...\n",
              "3         3  ...  Reuters - Authorities have halted oil export\\f...\n",
              "4         3  ...  AFP - Tearaway world oil prices, toppling reco...\n",
              "\n",
              "[5 rows x 3 columns]"
            ]
          },
          "metadata": {
            "tags": []
          },
          "execution_count": 7
        }
      ]
    },
    {
      "cell_type": "code",
      "metadata": {
        "colab": {
          "base_uri": "https://localhost:8080/",
          "height": 195
        },
        "id": "NTGCR1wxnGQa",
        "outputId": "81cd323a-3c3e-48b9-9471-773380f75adb"
      },
      "source": [
        "test_df = pd.read_csv('/content/drive/MyDrive/Colab Notebooks/Data/AGNews/test.csv',names=['Category', 'HeadLine', 'Short Description'])\r\n",
        "test_df.head()"
      ],
      "execution_count": 8,
      "outputs": [
        {
          "output_type": "execute_result",
          "data": {
            "text/html": [
              "<div>\n",
              "<style scoped>\n",
              "    .dataframe tbody tr th:only-of-type {\n",
              "        vertical-align: middle;\n",
              "    }\n",
              "\n",
              "    .dataframe tbody tr th {\n",
              "        vertical-align: top;\n",
              "    }\n",
              "\n",
              "    .dataframe thead th {\n",
              "        text-align: right;\n",
              "    }\n",
              "</style>\n",
              "<table border=\"1\" class=\"dataframe\">\n",
              "  <thead>\n",
              "    <tr style=\"text-align: right;\">\n",
              "      <th></th>\n",
              "      <th>Category</th>\n",
              "      <th>HeadLine</th>\n",
              "      <th>Short Description</th>\n",
              "    </tr>\n",
              "  </thead>\n",
              "  <tbody>\n",
              "    <tr>\n",
              "      <th>0</th>\n",
              "      <td>3</td>\n",
              "      <td>Fears for T N pension after talks</td>\n",
              "      <td>Unions representing workers at Turner   Newall...</td>\n",
              "    </tr>\n",
              "    <tr>\n",
              "      <th>1</th>\n",
              "      <td>4</td>\n",
              "      <td>The Race is On: Second Private Team Sets Launc...</td>\n",
              "      <td>SPACE.com - TORONTO, Canada -- A second\\team o...</td>\n",
              "    </tr>\n",
              "    <tr>\n",
              "      <th>2</th>\n",
              "      <td>4</td>\n",
              "      <td>Ky. Company Wins Grant to Study Peptides (AP)</td>\n",
              "      <td>AP - A company founded by a chemistry research...</td>\n",
              "    </tr>\n",
              "    <tr>\n",
              "      <th>3</th>\n",
              "      <td>4</td>\n",
              "      <td>Prediction Unit Helps Forecast Wildfires (AP)</td>\n",
              "      <td>AP - It's barely dawn when Mike Fitzpatrick st...</td>\n",
              "    </tr>\n",
              "    <tr>\n",
              "      <th>4</th>\n",
              "      <td>4</td>\n",
              "      <td>Calif. Aims to Limit Farm-Related Smog (AP)</td>\n",
              "      <td>AP - Southern California's smog-fighting agenc...</td>\n",
              "    </tr>\n",
              "  </tbody>\n",
              "</table>\n",
              "</div>"
            ],
            "text/plain": [
              "   Category  ...                                  Short Description\n",
              "0         3  ...  Unions representing workers at Turner   Newall...\n",
              "1         4  ...  SPACE.com - TORONTO, Canada -- A second\\team o...\n",
              "2         4  ...  AP - A company founded by a chemistry research...\n",
              "3         4  ...  AP - It's barely dawn when Mike Fitzpatrick st...\n",
              "4         4  ...  AP - Southern California's smog-fighting agenc...\n",
              "\n",
              "[5 rows x 3 columns]"
            ]
          },
          "metadata": {
            "tags": []
          },
          "execution_count": 8
        }
      ]
    },
    {
      "cell_type": "markdown",
      "metadata": {
        "id": "ScXiX7rlqGKg"
      },
      "source": [
        "### Dataset count analysis"
      ]
    },
    {
      "cell_type": "code",
      "metadata": {
        "colab": {
          "base_uri": "https://localhost:8080/"
        },
        "id": "gyYwSfq9nR4s",
        "outputId": "42799ec2-a40d-4ec6-8df1-c4ffac454fd8"
      },
      "source": [
        "print(f'Training Data: {train_df.shape} | Testing Data: {test_df.shape}')"
      ],
      "execution_count": 9,
      "outputs": [
        {
          "output_type": "stream",
          "text": [
            "Training Data: (120000, 3) | Testing Data: (7600, 3)\n"
          ],
          "name": "stdout"
        }
      ]
    },
    {
      "cell_type": "code",
      "metadata": {
        "colab": {
          "base_uri": "https://localhost:8080/"
        },
        "id": "xqVsSzlGnc0-",
        "outputId": "d7ed2359-381c-4e2e-b149-2badd5ff8525"
      },
      "source": [
        "train_df['Category'].value_counts()"
      ],
      "execution_count": 10,
      "outputs": [
        {
          "output_type": "execute_result",
          "data": {
            "text/plain": [
              "4    30000\n",
              "3    30000\n",
              "2    30000\n",
              "1    30000\n",
              "Name: Category, dtype: int64"
            ]
          },
          "metadata": {
            "tags": []
          },
          "execution_count": 10
        }
      ]
    },
    {
      "cell_type": "code",
      "metadata": {
        "colab": {
          "base_uri": "https://localhost:8080/",
          "height": 280
        },
        "id": "-XcrXNVsn9Y-",
        "outputId": "5e6b25bc-ac62-4ffe-e50e-a17cd37c9edf"
      },
      "source": [
        "train_df['Category'].value_counts().plot(kind='bar')"
      ],
      "execution_count": 11,
      "outputs": [
        {
          "output_type": "execute_result",
          "data": {
            "text/plain": [
              "<matplotlib.axes._subplots.AxesSubplot at 0x7fabc4c9ee80>"
            ]
          },
          "metadata": {
            "tags": []
          },
          "execution_count": 11
        },
        {
          "output_type": "display_data",
          "data": {
            "image/png": "[encoded data removed]",
            "text/plain": [
              "<Figure size 432x288 with 1 Axes>"
            ]
          },
          "metadata": {
            "tags": [],
            "needs_background": "light"
          }
        }
      ]
    },
    {
      "cell_type": "code",
      "metadata": {
        "colab": {
          "base_uri": "https://localhost:8080/"
        },
        "id": "ysjuHLx0o08M",
        "outputId": "647744b3-b8a6-42ce-a963-70154d8bcd9d"
      },
      "source": [
        "test_df['Category'].value_counts()"
      ],
      "execution_count": 12,
      "outputs": [
        {
          "output_type": "execute_result",
          "data": {
            "text/plain": [
              "3    1900\n",
              "2    1900\n",
              "1    1900\n",
              "4    1900\n",
              "Name: Category, dtype: int64"
            ]
          },
          "metadata": {
            "tags": []
          },
          "execution_count": 12
        }
      ]
    },
    {
      "cell_type": "code",
      "metadata": {
        "colab": {
          "base_uri": "https://localhost:8080/",
          "height": 280
        },
        "id": "oBgPudjUpRgm",
        "outputId": "473036d8-26db-4d70-f6bf-931b681f6110"
      },
      "source": [
        "test_df['Category'].value_counts().plot(kind='bar')"
      ],
      "execution_count": 13,
      "outputs": [
        {
          "output_type": "execute_result",
          "data": {
            "text/plain": [
              "<matplotlib.axes._subplots.AxesSubplot at 0x7fabc4c1fac8>"
            ]
          },
          "metadata": {
            "tags": []
          },
          "execution_count": 13
        },
        {
          "output_type": "display_data",
          "data": {
            "image/png": "[encoded data removed]",
            "text/plain": [
              "<Figure size 432x288 with 1 Axes>"
            ]
          },
          "metadata": {
            "tags": [],
            "needs_background": "light"
          }
        }
      ]
    },
    {
      "cell_type": "markdown",
      "metadata": {
        "id": "3Tj-_NYIoFPR"
      },
      "source": [
        "> **Inferences**:\r\n",
        "> * The training dataset consists of 120000 samples, with a well balanced class size of 30000 samples per class.\r\n",
        "* The test dataset consists of 7600 Samples, with a well balanced class size of 1900 samples per class.\r\n",
        "* In the real world problem it is highly unlikely to get a such well balanced data. However, the multi class classification (4 classes) is more closer to the real world problems."
      ]
    },
    {
      "cell_type": "markdown",
      "metadata": {
        "id": "yp9wY5HQqOZp"
      },
      "source": [
        "### Visual Analysis of News Articles"
      ]
    },
    {
      "cell_type": "markdown",
      "metadata": {
        "id": "1gxLViQetGpJ"
      },
      "source": [
        "#### Short Descriptions"
      ]
    },
    {
      "cell_type": "code",
      "metadata": {
        "colab": {
          "base_uri": "https://localhost:8080/",
          "height": 35
        },
        "id": "xyjj8oiSoBc3",
        "outputId": "0814adb0-6b70-469f-e34f-6b3a72c246e6"
      },
      "source": [
        "train_df.iloc[0][2]"
      ],
      "execution_count": 14,
      "outputs": [
        {
          "output_type": "execute_result",
          "data": {
            "application/vnd.google.colaboratory.intrinsic+json": {
              "type": "string"
            },
            "text/plain": [
              "\"Reuters - Short-sellers, Wall Street's dwindling\\\\band of ultra-cynics, are seeing green again.\""
            ]
          },
          "metadata": {
            "tags": []
          },
          "execution_count": 14
        }
      ]
    },
    {
      "cell_type": "code",
      "metadata": {
        "colab": {
          "base_uri": "https://localhost:8080/",
          "height": 53
        },
        "id": "7sBGZEDAqS2H",
        "outputId": "a85b65d2-a606-472d-b793-214147af641e"
      },
      "source": [
        "train_df.iloc[500][2]"
      ],
      "execution_count": 15,
      "outputs": [
        {
          "output_type": "execute_result",
          "data": {
            "application/vnd.google.colaboratory.intrinsic+json": {
              "type": "string"
            },
            "text/plain": [
              "\"AP - Democratic presidential candidate John Kerry does not plan to visit Florida in the aftermath of Hurricane Charley because he's concerned his campaign entourage could distract from recovery efforts, he said Saturday.\""
            ]
          },
          "metadata": {
            "tags": []
          },
          "execution_count": 15
        }
      ]
    },
    {
      "cell_type": "code",
      "metadata": {
        "colab": {
          "base_uri": "https://localhost:8080/",
          "height": 53
        },
        "id": "cSlf-vN5qU8c",
        "outputId": "15c235cb-df65-4f0f-9740-c96992a62235"
      },
      "source": [
        "train_df.iloc[2121][2]"
      ],
      "execution_count": 16,
      "outputs": [
        {
          "output_type": "execute_result",
          "data": {
            "application/vnd.google.colaboratory.intrinsic+json": {
              "type": "string"
            },
            "text/plain": [
              "'IN a desperate attempt to spark some public interest in an England team that appears to be quickly losing its appeal, Sven-Gran Eriksson announced his starting line-up for the friendly against Ukraine at St James #39; Park a day earlier than expected. '"
            ]
          },
          "metadata": {
            "tags": []
          },
          "execution_count": 16
        }
      ]
    },
    {
      "cell_type": "code",
      "metadata": {
        "colab": {
          "base_uri": "https://localhost:8080/",
          "height": 53
        },
        "id": "R6Z6MalYqXPo",
        "outputId": "5ca5f46a-7b33-482a-c42c-4c495c71c7f0"
      },
      "source": [
        "train_df.iloc[12121][2]"
      ],
      "execution_count": 17,
      "outputs": [
        {
          "output_type": "execute_result",
          "data": {
            "application/vnd.google.colaboratory.intrinsic+json": {
              "type": "string"
            },
            "text/plain": [
              "\" UNITED NATIONS (Reuters) - Days before a U.N. deadline for  Sudan to disarm and prosecute those responsible for violence in  the country's Darfur region, nations are looking to the African  Union rather than any U.N. sanctions to curb further killing.\""
            ]
          },
          "metadata": {
            "tags": []
          },
          "execution_count": 17
        }
      ]
    },
    {
      "cell_type": "code",
      "metadata": {
        "colab": {
          "base_uri": "https://localhost:8080/",
          "height": 53
        },
        "id": "gXeQ7E0dqdmm",
        "outputId": "dd290403-7994-419e-d17c-36614e1b09ca"
      },
      "source": [
        "train_df.iloc[32323][2]"
      ],
      "execution_count": 18,
      "outputs": [
        {
          "output_type": "execute_result",
          "data": {
            "application/vnd.google.colaboratory.intrinsic+json": {
              "type": "string"
            },
            "text/plain": [
              "'Terry Francona deployed three Gold Glove winners in his infield for the first time yesterday at Yankee Stadium in hope that their defensive expertise would aid the cause of sinkerball pitcher Derek Lowe stats, news.'"
            ]
          },
          "metadata": {
            "tags": []
          },
          "execution_count": 18
        }
      ]
    },
    {
      "cell_type": "markdown",
      "metadata": {
        "id": "d3b0VV-vtX6J"
      },
      "source": [
        "#### Headlines"
      ]
    },
    {
      "cell_type": "code",
      "metadata": {
        "colab": {
          "base_uri": "https://localhost:8080/",
          "height": 35
        },
        "id": "XSNXjnpptU9e",
        "outputId": "27587924-e4a5-47ef-a6db-08c299aea216"
      },
      "source": [
        "train_df.iloc[0][1]"
      ],
      "execution_count": 19,
      "outputs": [
        {
          "output_type": "execute_result",
          "data": {
            "application/vnd.google.colaboratory.intrinsic+json": {
              "type": "string"
            },
            "text/plain": [
              "'Wall St. Bears Claw Back Into the Black (Reuters)'"
            ]
          },
          "metadata": {
            "tags": []
          },
          "execution_count": 19
        }
      ]
    },
    {
      "cell_type": "code",
      "metadata": {
        "colab": {
          "base_uri": "https://localhost:8080/",
          "height": 35
        },
        "id": "Z4FALskAtU2H",
        "outputId": "5832bebb-cbc9-4200-b916-bbe6bb49a962"
      },
      "source": [
        "train_df.iloc[500][1]"
      ],
      "execution_count": 20,
      "outputs": [
        {
          "output_type": "execute_result",
          "data": {
            "application/vnd.google.colaboratory.intrinsic+json": {
              "type": "string"
            },
            "text/plain": [
              "'Kerry Campaign Helping With Fla. Recovery (AP)'"
            ]
          },
          "metadata": {
            "tags": []
          },
          "execution_count": 20
        }
      ]
    },
    {
      "cell_type": "code",
      "metadata": {
        "colab": {
          "base_uri": "https://localhost:8080/",
          "height": 35
        },
        "id": "7GqqN0k-tUvO",
        "outputId": "b1091e42-5948-4036-8f1b-1313cc5bccbe"
      },
      "source": [
        "train_df.iloc[2121][1]"
      ],
      "execution_count": 21,
      "outputs": [
        {
          "output_type": "execute_result",
          "data": {
            "application/vnd.google.colaboratory.intrinsic+json": {
              "type": "string"
            },
            "text/plain": [
              "'Are England fans are changing their Toon?'"
            ]
          },
          "metadata": {
            "tags": []
          },
          "execution_count": 21
        }
      ]
    },
    {
      "cell_type": "code",
      "metadata": {
        "colab": {
          "base_uri": "https://localhost:8080/",
          "height": 35
        },
        "id": "zCa89HTctUX3",
        "outputId": "c976a198-7539-4f7e-8f7e-4ff7da4a332b"
      },
      "source": [
        "train_df.iloc[12121][1]"
      ],
      "execution_count": 22,
      "outputs": [
        {
          "output_type": "execute_result",
          "data": {
            "application/vnd.google.colaboratory.intrinsic+json": {
              "type": "string"
            },
            "text/plain": [
              "'African Union Force Seen as Main Hope for Darfur'"
            ]
          },
          "metadata": {
            "tags": []
          },
          "execution_count": 22
        }
      ]
    },
    {
      "cell_type": "code",
      "metadata": {
        "colab": {
          "base_uri": "https://localhost:8080/",
          "height": 35
        },
        "id": "0meMYBwNti0H",
        "outputId": "4f9a0a6f-8378-4a2e-f443-ae5f238e4cd9"
      },
      "source": [
        "train_df.iloc[32323][1]"
      ],
      "execution_count": 23,
      "outputs": [
        {
          "output_type": "execute_result",
          "data": {
            "application/vnd.google.colaboratory.intrinsic+json": {
              "type": "string"
            },
            "text/plain": [
              "'Lowe throws stinker, Yanks turn it around: Red Sox #39; momentum &lt;b&gt;...&lt;/b&gt;'"
            ]
          },
          "metadata": {
            "tags": []
          },
          "execution_count": 23
        }
      ]
    },
    {
      "cell_type": "markdown",
      "metadata": {
        "id": "fQBfZqS2qyfG"
      },
      "source": [
        "> **Inferences**:\r\n",
        "> * It looks that the starting words in Short Descriptions and last word in headlines is related to the news agency that the news article is taken from. But this is inconsistant, so cannot be removed.\r\n",
        "* There are common punctuations and stopwords which could be removed."
      ]
    },
    {
      "cell_type": "markdown",
      "metadata": {
        "id": "5zdYg0mGuYgk"
      },
      "source": [
        "## 2.Data Preprocessing"
      ]
    },
    {
      "cell_type": "markdown",
      "metadata": {
        "id": "bUaw39JqutHh"
      },
      "source": [
        "### Function to Clean Text"
      ]
    },
    {
      "cell_type": "code",
      "metadata": {
        "id": "XjMzKdadqqnn"
      },
      "source": [
        "def clean_corpus(corpus, tocase='lower', remove_punc=True, punctuations=list(string.punctuation), remove_whitespace =True,\r\n",
        "                 stopwords=stop_words, remove_numbers=True, remove_urls=True, lemmatize=False):\r\n",
        "    \"\"\"\r\n",
        "    Takes the corpus as input and performs the corpus cleaning as required,\r\n",
        "    then returns the detokenized corpus.\r\n",
        "    \"\"\"\r\n",
        "    cleaned_corpus = corpus\r\n",
        "    # Tokenize\r\n",
        "    tokens = word_tokenize(corpus)\r\n",
        "    \r\n",
        "    #Convert Multi Lingual Text\r\n",
        "    # will be done later\r\n",
        "    \r\n",
        "    # Convert the corpus to one case (lower or Upper)\r\n",
        "    valid_tokens = [token.lower() for token in tokens]\r\n",
        "    \r\n",
        "    # Remove Punctuations\r\n",
        "    if remove_punc:\r\n",
        "        valid_tokens = [token for token in valid_tokens if token not in punctuations]\r\n",
        "    \r\n",
        "    # Remove White Space\r\n",
        "        # will be done later\r\n",
        "        \r\n",
        "    # Remove Other Special Characters.\r\n",
        "    if remove_numbers:\r\n",
        "        valid_tokens = [token for token in valid_tokens if re.search('[0-9]+', token) is None]\r\n",
        "    \r\n",
        "    # Remove urls.\r\n",
        "    if remove_urls:\r\n",
        "        valid_tokens = [token for token in valid_tokens if re.search('https+|http+', token) is None]\r\n",
        "    \r\n",
        "    # Remove stop words\r\n",
        "    valid_tokens = [token for token in valid_tokens if token not in stop_words]\r\n",
        "    \r\n",
        "    #lemmatization / stemming\r\n",
        "    if lemmatize:\r\n",
        "        word_lem = WordNetLemmatizer()\r\n",
        "        valid_tokens = [word_lem.lemmatize(token) for token in valid_tokens]\r\n",
        "    else:\r\n",
        "        pst = PorterStemmer()\r\n",
        "        valid_tokens = [pst.stem(token) for token in valid_tokens]\r\n",
        "    \r\n",
        "    # De-tokenize\r\n",
        "    cleaned_corpus = \"\".join([\" \"+i if not i.startswith(\"'\") and i not in '!%\\'()*+,-./:;<=>?@[\\\\]^_`{|}~'\r\n",
        "                              else i for i in valid_tokens]).strip()\r\n",
        "    return cleaned_corpus\r\n",
        "    "
      ],
      "execution_count": 24,
      "outputs": []
    },
    {
      "cell_type": "code",
      "metadata": {
        "colab": {
          "base_uri": "https://localhost:8080/",
          "height": 35
        },
        "id": "kQCpIl7_tRN0",
        "outputId": "0efbfaa3-ed40-4131-e9a5-1461fd66575e"
      },
      "source": [
        "clean_corpus(train_df.iloc[32323][1])"
      ],
      "execution_count": 25,
      "outputs": [
        {
          "output_type": "execute_result",
          "data": {
            "application/vnd.google.colaboratory.intrinsic+json": {
              "type": "string"
            },
            "text/plain": [
              "'low throw stinker yank turn around red sox momentum lt b gt ... lt /b gt'"
            ]
          },
          "metadata": {
            "tags": []
          },
          "execution_count": 25
        }
      ]
    },
    {
      "cell_type": "markdown",
      "metadata": {
        "id": "LKe9wJN5zIbE"
      },
      "source": [
        "### Apply the function on the data"
      ]
    },
    {
      "cell_type": "code",
      "metadata": {
        "colab": {
          "base_uri": "https://localhost:8080/"
        },
        "id": "t-f46VcvvT_U",
        "outputId": "c2da7771-7a19-4ecd-9f24-21b28a22b381"
      },
      "source": [
        "start = time.time()\r\n",
        "train_df['Clean Headline'] = train_df['HeadLine'].apply(clean_corpus)\r\n",
        "train_df['Clean Description'] = train_df['Short Description'].apply(clean_corpus)\r\n",
        "train_df['Clean Clubbed Article'] = train_df['Clean Headline'] + \" \" + train_df['Clean Description']\r\n",
        "end = time.time()\r\n",
        "print('Time Taken for processiong: ', (start - end))"
      ],
      "execution_count": 26,
      "outputs": [
        {
          "output_type": "stream",
          "text": [
            "Time Taken for processiong:  -128.51331233978271\n"
          ],
          "name": "stdout"
        }
      ]
    },
    {
      "cell_type": "code",
      "metadata": {
        "colab": {
          "base_uri": "https://localhost:8080/"
        },
        "id": "-RDT7Da10e3i",
        "outputId": "8b3f2b60-e999-4af7-d669-c1786ef8b278"
      },
      "source": [
        "start = time.time()\r\n",
        "test_df['Clean Headline'] = test_df['HeadLine'].apply(clean_corpus)\r\n",
        "test_df['Clean Description'] = test_df['Short Description'].apply(clean_corpus)\r\n",
        "test_df['Clean Clubbed Article'] = test_df['Clean Headline'] + \" \" + test_df['Clean Description']\r\n",
        "end = time.time()\r\n",
        "print('Time Taken for processiong: ', (end - start), ' secs')"
      ],
      "execution_count": 27,
      "outputs": [
        {
          "output_type": "stream",
          "text": [
            "Time Taken for processiong:  8.003159046173096  secs\n"
          ],
          "name": "stdout"
        }
      ]
    },
    {
      "cell_type": "markdown",
      "metadata": {
        "id": "qjAJjO_W4gp1"
      },
      "source": [
        "## 3.Decide Strategy"
      ]
    },
    {
      "cell_type": "code",
      "metadata": {
        "id": "Q7sN2eoY4Wc7"
      },
      "source": [
        "clubbed_articles = train_df['Clean Clubbed Article'].apply(lambda art: len(word_tokenize(art)))"
      ],
      "execution_count": 28,
      "outputs": []
    },
    {
      "cell_type": "code",
      "metadata": {
        "colab": {
          "base_uri": "https://localhost:8080/",
          "height": 265
        },
        "id": "57N5wCmO5tmY",
        "outputId": "738ee481-9ca7-4a50-dda2-9f9e1eac7c84"
      },
      "source": [
        "plt.hist(clubbed_articles, bins=10);"
      ],
      "execution_count": 29,
      "outputs": [
        {
          "output_type": "display_data",
          "data": {
            "image/png": "[encoded data removed]",
            "text/plain": [
              "<Figure size 432x288 with 1 Axes>"
            ]
          },
          "metadata": {
            "tags": [],
            "needs_background": "light"
          }
        }
      ]
    },
    {
      "cell_type": "code",
      "metadata": {
        "colab": {
          "base_uri": "https://localhost:8080/"
        },
        "id": "2_7eJAwY8XVz",
        "outputId": "fe540594-4890-4400-f31e-6ee1c02844cd"
      },
      "source": [
        "print(\"maximum no of words in Clubbed article (training data): \", max(clubbed_articles))\r\n",
        "print(\"minimum no of words in Clubbed article (training data): \", min(clubbed_articles))"
      ],
      "execution_count": 30,
      "outputs": [
        {
          "output_type": "stream",
          "text": [
            "maximum no of words in Clubbed article (training data):  160\n",
            "minimum no of words in Clubbed article (training data):  7\n"
          ],
          "name": "stdout"
        }
      ]
    },
    {
      "cell_type": "markdown",
      "metadata": {
        "id": "HguKDYH88L85"
      },
      "source": [
        ">**Inferences:**\r\n",
        ">* Minimum no of words is 7 and the maximum number of words is 160, so there are no empty dataset and the maximum number is also well with in limits of 512 words to apply transformers.\r\n",
        "* As the clubbed article (clubbing Headline and Description) is well within limits. We can make use of the clubbed article for training our model.\r\n",
        "* Stategy:\r\n",
        "  - Take Headline & Description as input\r\n",
        "  - Clean the articles and club them together\r\n",
        "  - perform word embedding (using w2v/Glove/fasttest)\r\n",
        "  - Take a subset of data from the training set.\r\n",
        "  - Evaluate different models on this subset.\r\n",
        "  - pick the best model and then do training of the entire dataset.\r\n",
        "\r\n"
      ]
    },
    {
      "cell_type": "markdown",
      "metadata": {
        "id": "ltPSSSiYAX1C"
      },
      "source": [
        "## 4.Generate Word Embeddings (TFIDF, Word2Vec)"
      ]
    },
    {
      "cell_type": "markdown",
      "metadata": {
        "id": "pCyj4XCiFVmm"
      },
      "source": [
        "### TFIDF"
      ]
    },
    {
      "cell_type": "code",
      "metadata": {
        "id": "yIBc8z_-8ELP"
      },
      "source": [
        "def vectorize(vec, X_train, X_test):\r\n",
        "    print(\"Vectorization Started...........\")\r\n",
        "    X_train_vec = vec.fit_transform(X_train)\r\n",
        "    X_test_vec = vec.transform(X_test)\r\n",
        "    print(\"Vectorization Completed.\")\r\n",
        "    return X_train_vec, X_test_vec, vec"
      ],
      "execution_count": 31,
      "outputs": []
    },
    {
      "cell_type": "code",
      "metadata": {
        "id": "Dd8bYXSy8KoO"
      },
      "source": [
        "def transform_X(vec, X_):\r\n",
        "    X_trans = vec.transform(X_)\r\n",
        "    return X_trans"
      ],
      "execution_count": 32,
      "outputs": []
    },
    {
      "cell_type": "code",
      "metadata": {
        "colab": {
          "base_uri": "https://localhost:8080/"
        },
        "id": "Rg6spgpAGmdo",
        "outputId": "097fc34c-5f5b-4e77-cee4-a0f73ad8cd7d"
      },
      "source": [
        "X_train = train_df['Clean Clubbed Article']\r\n",
        "y_train = train_df['Category']\r\n",
        "\r\n",
        "X_test = test_df['Clean Clubbed Article']\r\n",
        "y_test = test_df['Category']\r\n",
        "\r\n",
        "X_train.shape, y_train.shape, X_test.shape, y_test.shape"
      ],
      "execution_count": 33,
      "outputs": [
        {
          "output_type": "execute_result",
          "data": {
            "text/plain": [
              "((120000,), (120000,), (7600,), (7600,))"
            ]
          },
          "metadata": {
            "tags": []
          },
          "execution_count": 33
        }
      ]
    },
    {
      "cell_type": "code",
      "metadata": {
        "colab": {
          "base_uri": "https://localhost:8080/"
        },
        "id": "8iTIf2sRF1GZ",
        "outputId": "674c11ff-bca9-449e-a61c-7f92a2c6b442"
      },
      "source": [
        "tfidf = TfidfVectorizer()\r\n",
        "\r\n",
        "X_train_tfidf, X_test_tfidf, tfidf_vec = vectorize(TfidfVectorizer(), X_train, X_test)"
      ],
      "execution_count": 34,
      "outputs": [
        {
          "output_type": "stream",
          "text": [
            "Vectorization Started...........\n",
            "Vectorization Completed.\n"
          ],
          "name": "stdout"
        }
      ]
    },
    {
      "cell_type": "markdown",
      "metadata": {
        "id": "xvk1tVGuYjDG"
      },
      "source": [
        "#### Document Term Matrix"
      ]
    },
    {
      "cell_type": "code",
      "metadata": {
        "colab": {
          "base_uri": "https://localhost:8080/",
          "height": 244
        },
        "id": "v7OiDb0eaVpH",
        "outputId": "e570245a-caa6-4330-a19f-a31094ca38c2"
      },
      "source": [
        "# Unable to process as entire data at once as it is crashing the system due to limited RAM.\r\n",
        "pd.DataFrame(X_train_tfidf[:5].toarray(), columns=tfidf_vec.get_feature_names())"
      ],
      "execution_count": 35,
      "outputs": [
        {
          "output_type": "execute_result",
          "data": {
            "text/html": [
              "<div>\n",
              "<style scoped>\n",
              "    .dataframe tbody tr th:only-of-type {\n",
              "        vertical-align: middle;\n",
              "    }\n",
              "\n",
              "    .dataframe tbody tr th {\n",
              "        vertical-align: top;\n",
              "    }\n",
              "\n",
              "    .dataframe thead th {\n",
              "        text-align: right;\n",
              "    }\n",
              "</style>\n",
              "<table border=\"1\" class=\"dataframe\">\n",
              "  <thead>\n",
              "    <tr style=\"text-align: right;\">\n",
              "      <th></th>\n",
              "      <th>_but</th>\n",
              "      <th>_decemb</th>\n",
              "      <th>_new</th>\n",
              "      <th>_not</th>\n",
              "      <th>_nov</th>\n",
              "      <th>_top</th>\n",
              "      <th>aa</th>\n",
              "      <th>aaa</th>\n",
              "      <th>aac</th>\n",
              "      <th>aacb</th>\n",
              "      <th>aachen</th>\n",
              "      <th>aai</th>\n",
              "      <th>aaii</th>\n",
              "      <th>aal</th>\n",
              "      <th>aalborg</th>\n",
              "      <th>aaliyah</th>\n",
              "      <th>aap</th>\n",
              "      <th>aapl</th>\n",
              "      <th>aapt</th>\n",
              "      <th>aard</th>\n",
              "      <th>aardsma</th>\n",
              "      <th>aaron</th>\n",
              "      <th>aarp</th>\n",
              "      <th>aarrett</th>\n",
              "      <th>aasketbal</th>\n",
              "      <th>aathar</th>\n",
              "      <th>aattack</th>\n",
              "      <th>aau</th>\n",
              "      <th>ab</th>\n",
              "      <th>aba</th>\n",
              "      <th>ababa</th>\n",
              "      <th>abacha</th>\n",
              "      <th>abaco</th>\n",
              "      <th>abagnal</th>\n",
              "      <th>abaku</th>\n",
              "      <th>abandon</th>\n",
              "      <th>abandonment</th>\n",
              "      <th>abar</th>\n",
              "      <th>abat</th>\n",
              "      <th>abaya</th>\n",
              "      <th>...</th>\n",
              "      <th>zopyro</th>\n",
              "      <th>zoran</th>\n",
              "      <th>zorba</th>\n",
              "      <th>zorilla</th>\n",
              "      <th>zoroastrian</th>\n",
              "      <th>zotinca</th>\n",
              "      <th>zovko</th>\n",
              "      <th>zoysa</th>\n",
              "      <th>zpl</th>\n",
              "      <th>zseri</th>\n",
              "      <th>zsuzsanna</th>\n",
              "      <th>zte</th>\n",
              "      <th>ztl</th>\n",
              "      <th>zu</th>\n",
              "      <th>zubrin</th>\n",
              "      <th>zucchini</th>\n",
              "      <th>zuckerman</th>\n",
              "      <th>zuhua</th>\n",
              "      <th>zukauska</th>\n",
              "      <th>zulf</th>\n",
              "      <th>zuloaga</th>\n",
              "      <th>zuma</th>\n",
              "      <th>zundel</th>\n",
              "      <th>zuo</th>\n",
              "      <th>zurab</th>\n",
              "      <th>zurich</th>\n",
              "      <th>zurin</th>\n",
              "      <th>zvezda</th>\n",
              "      <th>zviadauri</th>\n",
              "      <th>zvidauri</th>\n",
              "      <th>zvonareva</th>\n",
              "      <th>zwick</th>\n",
              "      <th>zwiki</th>\n",
              "      <th>zydruna</th>\n",
              "      <th>zygmunt</th>\n",
              "      <th>zyman</th>\n",
              "      <th>zyprexa</th>\n",
              "      <th>zz</th>\n",
              "      <th>zzz</th>\n",
              "      <th>zzzzzz</th>\n",
              "    </tr>\n",
              "  </thead>\n",
              "  <tbody>\n",
              "    <tr>\n",
              "      <th>0</th>\n",
              "      <td>0.0</td>\n",
              "      <td>0.0</td>\n",
              "      <td>0.0</td>\n",
              "      <td>0.0</td>\n",
              "      <td>0.0</td>\n",
              "      <td>0.0</td>\n",
              "      <td>0.0</td>\n",
              "      <td>0.0</td>\n",
              "      <td>0.0</td>\n",
              "      <td>0.0</td>\n",
              "      <td>0.0</td>\n",
              "      <td>0.0</td>\n",
              "      <td>0.0</td>\n",
              "      <td>0.0</td>\n",
              "      <td>0.0</td>\n",
              "      <td>0.0</td>\n",
              "      <td>0.0</td>\n",
              "      <td>0.0</td>\n",
              "      <td>0.0</td>\n",
              "      <td>0.0</td>\n",
              "      <td>0.0</td>\n",
              "      <td>0.0</td>\n",
              "      <td>0.0</td>\n",
              "      <td>0.0</td>\n",
              "      <td>0.0</td>\n",
              "      <td>0.0</td>\n",
              "      <td>0.0</td>\n",
              "      <td>0.0</td>\n",
              "      <td>0.0</td>\n",
              "      <td>0.0</td>\n",
              "      <td>0.0</td>\n",
              "      <td>0.0</td>\n",
              "      <td>0.0</td>\n",
              "      <td>0.0</td>\n",
              "      <td>0.0</td>\n",
              "      <td>0.0</td>\n",
              "      <td>0.0</td>\n",
              "      <td>0.0</td>\n",
              "      <td>0.0</td>\n",
              "      <td>0.0</td>\n",
              "      <td>...</td>\n",
              "      <td>0.0</td>\n",
              "      <td>0.0</td>\n",
              "      <td>0.0</td>\n",
              "      <td>0.0</td>\n",
              "      <td>0.0</td>\n",
              "      <td>0.0</td>\n",
              "      <td>0.0</td>\n",
              "      <td>0.0</td>\n",
              "      <td>0.0</td>\n",
              "      <td>0.0</td>\n",
              "      <td>0.0</td>\n",
              "      <td>0.0</td>\n",
              "      <td>0.0</td>\n",
              "      <td>0.0</td>\n",
              "      <td>0.0</td>\n",
              "      <td>0.0</td>\n",
              "      <td>0.0</td>\n",
              "      <td>0.0</td>\n",
              "      <td>0.0</td>\n",
              "      <td>0.0</td>\n",
              "      <td>0.0</td>\n",
              "      <td>0.0</td>\n",
              "      <td>0.0</td>\n",
              "      <td>0.0</td>\n",
              "      <td>0.0</td>\n",
              "      <td>0.0</td>\n",
              "      <td>0.0</td>\n",
              "      <td>0.0</td>\n",
              "      <td>0.0</td>\n",
              "      <td>0.0</td>\n",
              "      <td>0.0</td>\n",
              "      <td>0.0</td>\n",
              "      <td>0.0</td>\n",
              "      <td>0.0</td>\n",
              "      <td>0.0</td>\n",
              "      <td>0.0</td>\n",
              "      <td>0.0</td>\n",
              "      <td>0.0</td>\n",
              "      <td>0.0</td>\n",
              "      <td>0.0</td>\n",
              "    </tr>\n",
              "    <tr>\n",
              "      <th>1</th>\n",
              "      <td>0.0</td>\n",
              "      <td>0.0</td>\n",
              "      <td>0.0</td>\n",
              "      <td>0.0</td>\n",
              "      <td>0.0</td>\n",
              "      <td>0.0</td>\n",
              "      <td>0.0</td>\n",
              "      <td>0.0</td>\n",
              "      <td>0.0</td>\n",
              "      <td>0.0</td>\n",
              "      <td>0.0</td>\n",
              "      <td>0.0</td>\n",
              "      <td>0.0</td>\n",
              "      <td>0.0</td>\n",
              "      <td>0.0</td>\n",
              "      <td>0.0</td>\n",
              "      <td>0.0</td>\n",
              "      <td>0.0</td>\n",
              "      <td>0.0</td>\n",
              "      <td>0.0</td>\n",
              "      <td>0.0</td>\n",
              "      <td>0.0</td>\n",
              "      <td>0.0</td>\n",
              "      <td>0.0</td>\n",
              "      <td>0.0</td>\n",
              "      <td>0.0</td>\n",
              "      <td>0.0</td>\n",
              "      <td>0.0</td>\n",
              "      <td>0.0</td>\n",
              "      <td>0.0</td>\n",
              "      <td>0.0</td>\n",
              "      <td>0.0</td>\n",
              "      <td>0.0</td>\n",
              "      <td>0.0</td>\n",
              "      <td>0.0</td>\n",
              "      <td>0.0</td>\n",
              "      <td>0.0</td>\n",
              "      <td>0.0</td>\n",
              "      <td>0.0</td>\n",
              "      <td>0.0</td>\n",
              "      <td>...</td>\n",
              "      <td>0.0</td>\n",
              "      <td>0.0</td>\n",
              "      <td>0.0</td>\n",
              "      <td>0.0</td>\n",
              "      <td>0.0</td>\n",
              "      <td>0.0</td>\n",
              "      <td>0.0</td>\n",
              "      <td>0.0</td>\n",
              "      <td>0.0</td>\n",
              "      <td>0.0</td>\n",
              "      <td>0.0</td>\n",
              "      <td>0.0</td>\n",
              "      <td>0.0</td>\n",
              "      <td>0.0</td>\n",
              "      <td>0.0</td>\n",
              "      <td>0.0</td>\n",
              "      <td>0.0</td>\n",
              "      <td>0.0</td>\n",
              "      <td>0.0</td>\n",
              "      <td>0.0</td>\n",
              "      <td>0.0</td>\n",
              "      <td>0.0</td>\n",
              "      <td>0.0</td>\n",
              "      <td>0.0</td>\n",
              "      <td>0.0</td>\n",
              "      <td>0.0</td>\n",
              "      <td>0.0</td>\n",
              "      <td>0.0</td>\n",
              "      <td>0.0</td>\n",
              "      <td>0.0</td>\n",
              "      <td>0.0</td>\n",
              "      <td>0.0</td>\n",
              "      <td>0.0</td>\n",
              "      <td>0.0</td>\n",
              "      <td>0.0</td>\n",
              "      <td>0.0</td>\n",
              "      <td>0.0</td>\n",
              "      <td>0.0</td>\n",
              "      <td>0.0</td>\n",
              "      <td>0.0</td>\n",
              "    </tr>\n",
              "    <tr>\n",
              "      <th>2</th>\n",
              "      <td>0.0</td>\n",
              "      <td>0.0</td>\n",
              "      <td>0.0</td>\n",
              "      <td>0.0</td>\n",
              "      <td>0.0</td>\n",
              "      <td>0.0</td>\n",
              "      <td>0.0</td>\n",
              "      <td>0.0</td>\n",
              "      <td>0.0</td>\n",
              "      <td>0.0</td>\n",
              "      <td>0.0</td>\n",
              "      <td>0.0</td>\n",
              "      <td>0.0</td>\n",
              "      <td>0.0</td>\n",
              "      <td>0.0</td>\n",
              "      <td>0.0</td>\n",
              "      <td>0.0</td>\n",
              "      <td>0.0</td>\n",
              "      <td>0.0</td>\n",
              "      <td>0.0</td>\n",
              "      <td>0.0</td>\n",
              "      <td>0.0</td>\n",
              "      <td>0.0</td>\n",
              "      <td>0.0</td>\n",
              "      <td>0.0</td>\n",
              "      <td>0.0</td>\n",
              "      <td>0.0</td>\n",
              "      <td>0.0</td>\n",
              "      <td>0.0</td>\n",
              "      <td>0.0</td>\n",
              "      <td>0.0</td>\n",
              "      <td>0.0</td>\n",
              "      <td>0.0</td>\n",
              "      <td>0.0</td>\n",
              "      <td>0.0</td>\n",
              "      <td>0.0</td>\n",
              "      <td>0.0</td>\n",
              "      <td>0.0</td>\n",
              "      <td>0.0</td>\n",
              "      <td>0.0</td>\n",
              "      <td>...</td>\n",
              "      <td>0.0</td>\n",
              "      <td>0.0</td>\n",
              "      <td>0.0</td>\n",
              "      <td>0.0</td>\n",
              "      <td>0.0</td>\n",
              "      <td>0.0</td>\n",
              "      <td>0.0</td>\n",
              "      <td>0.0</td>\n",
              "      <td>0.0</td>\n",
              "      <td>0.0</td>\n",
              "      <td>0.0</td>\n",
              "      <td>0.0</td>\n",
              "      <td>0.0</td>\n",
              "      <td>0.0</td>\n",
              "      <td>0.0</td>\n",
              "      <td>0.0</td>\n",
              "      <td>0.0</td>\n",
              "      <td>0.0</td>\n",
              "      <td>0.0</td>\n",
              "      <td>0.0</td>\n",
              "      <td>0.0</td>\n",
              "      <td>0.0</td>\n",
              "      <td>0.0</td>\n",
              "      <td>0.0</td>\n",
              "      <td>0.0</td>\n",
              "      <td>0.0</td>\n",
              "      <td>0.0</td>\n",
              "      <td>0.0</td>\n",
              "      <td>0.0</td>\n",
              "      <td>0.0</td>\n",
              "      <td>0.0</td>\n",
              "      <td>0.0</td>\n",
              "      <td>0.0</td>\n",
              "      <td>0.0</td>\n",
              "      <td>0.0</td>\n",
              "      <td>0.0</td>\n",
              "      <td>0.0</td>\n",
              "      <td>0.0</td>\n",
              "      <td>0.0</td>\n",
              "      <td>0.0</td>\n",
              "    </tr>\n",
              "    <tr>\n",
              "      <th>3</th>\n",
              "      <td>0.0</td>\n",
              "      <td>0.0</td>\n",
              "      <td>0.0</td>\n",
              "      <td>0.0</td>\n",
              "      <td>0.0</td>\n",
              "      <td>0.0</td>\n",
              "      <td>0.0</td>\n",
              "      <td>0.0</td>\n",
              "      <td>0.0</td>\n",
              "      <td>0.0</td>\n",
              "      <td>0.0</td>\n",
              "      <td>0.0</td>\n",
              "      <td>0.0</td>\n",
              "      <td>0.0</td>\n",
              "      <td>0.0</td>\n",
              "      <td>0.0</td>\n",
              "      <td>0.0</td>\n",
              "      <td>0.0</td>\n",
              "      <td>0.0</td>\n",
              "      <td>0.0</td>\n",
              "      <td>0.0</td>\n",
              "      <td>0.0</td>\n",
              "      <td>0.0</td>\n",
              "      <td>0.0</td>\n",
              "      <td>0.0</td>\n",
              "      <td>0.0</td>\n",
              "      <td>0.0</td>\n",
              "      <td>0.0</td>\n",
              "      <td>0.0</td>\n",
              "      <td>0.0</td>\n",
              "      <td>0.0</td>\n",
              "      <td>0.0</td>\n",
              "      <td>0.0</td>\n",
              "      <td>0.0</td>\n",
              "      <td>0.0</td>\n",
              "      <td>0.0</td>\n",
              "      <td>0.0</td>\n",
              "      <td>0.0</td>\n",
              "      <td>0.0</td>\n",
              "      <td>0.0</td>\n",
              "      <td>...</td>\n",
              "      <td>0.0</td>\n",
              "      <td>0.0</td>\n",
              "      <td>0.0</td>\n",
              "      <td>0.0</td>\n",
              "      <td>0.0</td>\n",
              "      <td>0.0</td>\n",
              "      <td>0.0</td>\n",
              "      <td>0.0</td>\n",
              "      <td>0.0</td>\n",
              "      <td>0.0</td>\n",
              "      <td>0.0</td>\n",
              "      <td>0.0</td>\n",
              "      <td>0.0</td>\n",
              "      <td>0.0</td>\n",
              "      <td>0.0</td>\n",
              "      <td>0.0</td>\n",
              "      <td>0.0</td>\n",
              "      <td>0.0</td>\n",
              "      <td>0.0</td>\n",
              "      <td>0.0</td>\n",
              "      <td>0.0</td>\n",
              "      <td>0.0</td>\n",
              "      <td>0.0</td>\n",
              "      <td>0.0</td>\n",
              "      <td>0.0</td>\n",
              "      <td>0.0</td>\n",
              "      <td>0.0</td>\n",
              "      <td>0.0</td>\n",
              "      <td>0.0</td>\n",
              "      <td>0.0</td>\n",
              "      <td>0.0</td>\n",
              "      <td>0.0</td>\n",
              "      <td>0.0</td>\n",
              "      <td>0.0</td>\n",
              "      <td>0.0</td>\n",
              "      <td>0.0</td>\n",
              "      <td>0.0</td>\n",
              "      <td>0.0</td>\n",
              "      <td>0.0</td>\n",
              "      <td>0.0</td>\n",
              "    </tr>\n",
              "    <tr>\n",
              "      <th>4</th>\n",
              "      <td>0.0</td>\n",
              "      <td>0.0</td>\n",
              "      <td>0.0</td>\n",
              "      <td>0.0</td>\n",
              "      <td>0.0</td>\n",
              "      <td>0.0</td>\n",
              "      <td>0.0</td>\n",
              "      <td>0.0</td>\n",
              "      <td>0.0</td>\n",
              "      <td>0.0</td>\n",
              "      <td>0.0</td>\n",
              "      <td>0.0</td>\n",
              "      <td>0.0</td>\n",
              "      <td>0.0</td>\n",
              "      <td>0.0</td>\n",
              "      <td>0.0</td>\n",
              "      <td>0.0</td>\n",
              "      <td>0.0</td>\n",
              "      <td>0.0</td>\n",
              "      <td>0.0</td>\n",
              "      <td>0.0</td>\n",
              "      <td>0.0</td>\n",
              "      <td>0.0</td>\n",
              "      <td>0.0</td>\n",
              "      <td>0.0</td>\n",
              "      <td>0.0</td>\n",
              "      <td>0.0</td>\n",
              "      <td>0.0</td>\n",
              "      <td>0.0</td>\n",
              "      <td>0.0</td>\n",
              "      <td>0.0</td>\n",
              "      <td>0.0</td>\n",
              "      <td>0.0</td>\n",
              "      <td>0.0</td>\n",
              "      <td>0.0</td>\n",
              "      <td>0.0</td>\n",
              "      <td>0.0</td>\n",
              "      <td>0.0</td>\n",
              "      <td>0.0</td>\n",
              "      <td>0.0</td>\n",
              "      <td>...</td>\n",
              "      <td>0.0</td>\n",
              "      <td>0.0</td>\n",
              "      <td>0.0</td>\n",
              "      <td>0.0</td>\n",
              "      <td>0.0</td>\n",
              "      <td>0.0</td>\n",
              "      <td>0.0</td>\n",
              "      <td>0.0</td>\n",
              "      <td>0.0</td>\n",
              "      <td>0.0</td>\n",
              "      <td>0.0</td>\n",
              "      <td>0.0</td>\n",
              "      <td>0.0</td>\n",
              "      <td>0.0</td>\n",
              "      <td>0.0</td>\n",
              "      <td>0.0</td>\n",
              "      <td>0.0</td>\n",
              "      <td>0.0</td>\n",
              "      <td>0.0</td>\n",
              "      <td>0.0</td>\n",
              "      <td>0.0</td>\n",
              "      <td>0.0</td>\n",
              "      <td>0.0</td>\n",
              "      <td>0.0</td>\n",
              "      <td>0.0</td>\n",
              "      <td>0.0</td>\n",
              "      <td>0.0</td>\n",
              "      <td>0.0</td>\n",
              "      <td>0.0</td>\n",
              "      <td>0.0</td>\n",
              "      <td>0.0</td>\n",
              "      <td>0.0</td>\n",
              "      <td>0.0</td>\n",
              "      <td>0.0</td>\n",
              "      <td>0.0</td>\n",
              "      <td>0.0</td>\n",
              "      <td>0.0</td>\n",
              "      <td>0.0</td>\n",
              "      <td>0.0</td>\n",
              "      <td>0.0</td>\n",
              "    </tr>\n",
              "  </tbody>\n",
              "</table>\n",
              "<p>5 rows × 46122 columns</p>\n",
              "</div>"
            ],
            "text/plain": [
              "   _but  _decemb  _new  _not  _nov  ...  zyman  zyprexa   zz  zzz  zzzzzz\n",
              "0   0.0      0.0   0.0   0.0   0.0  ...    0.0      0.0  0.0  0.0     0.0\n",
              "1   0.0      0.0   0.0   0.0   0.0  ...    0.0      0.0  0.0  0.0     0.0\n",
              "2   0.0      0.0   0.0   0.0   0.0  ...    0.0      0.0  0.0  0.0     0.0\n",
              "3   0.0      0.0   0.0   0.0   0.0  ...    0.0      0.0  0.0  0.0     0.0\n",
              "4   0.0      0.0   0.0   0.0   0.0  ...    0.0      0.0  0.0  0.0     0.0\n",
              "\n",
              "[5 rows x 46122 columns]"
            ]
          },
          "metadata": {
            "tags": []
          },
          "execution_count": 35
        }
      ]
    },
    {
      "cell_type": "markdown",
      "metadata": {
        "id": "hAL-H24nGC-l"
      },
      "source": [
        ">**Inferences**:\r\n",
        ">* As we can notice the embeddings generated with tfidf has a lot of sparcity (lot of 0's in the matrix) and it is not expected to perform well with this embedding.\r\n"
      ]
    },
    {
      "cell_type": "markdown",
      "metadata": {
        "id": "lrcmnqjFQ4aA"
      },
      "source": [
        "### Word2Vec"
      ]
    },
    {
      "cell_type": "code",
      "metadata": {
        "colab": {
          "base_uri": "https://localhost:8080/"
        },
        "id": "BVGRlmHZULeY",
        "outputId": "ed24f4e8-596e-4210-8359-4b0cb72789c2"
      },
      "source": [
        "X_train_w2v = X_train.apply(word_tokenize)\r\n",
        "X_train_w2v.iloc[:5]"
      ],
      "execution_count": 38,
      "outputs": [
        {
          "output_type": "execute_result",
          "data": {
            "text/plain": [
              "0    [wall, st., bear, claw, back, black, reuter, r...\n",
              "1    [carlyl, look, toward, commerci, aerospac, reu...\n",
              "2    [oil, economi, cloud, stock, outlook, reuter, ...\n",
              "3    [iraq, halt, oil, export, main, southern, pipe...\n",
              "4    [oil, price, soar, all-tim, record, pose, new,...\n",
              "Name: Clean Clubbed Article, dtype: object"
            ]
          },
          "metadata": {
            "tags": []
          },
          "execution_count": 38
        }
      ]
    },
    {
      "cell_type": "code",
      "metadata": {
        "id": "WSWS88jdJ9vV"
      },
      "source": [
        "feature_size = 300\r\n",
        "context_window = 5\r\n",
        "min_count = 1\r\n",
        "n_iter = 100\r\n",
        "down_sample = 0.001\r\n",
        "w2v = word2vec.Word2Vec(X_train_w2v, size=feature_size, window=context_window, min_count= min_count,\r\n",
        "                        iter=n_iter, sample=down_sample)\r\n",
        "vocab_w2v = w2v.wv.vocab.keys()"
      ],
      "execution_count": 124,
      "outputs": []
    },
    {
      "cell_type": "code",
      "metadata": {
        "colab": {
          "base_uri": "https://localhost:8080/"
        },
        "id": "OpiaWFXlKBdZ",
        "outputId": "c6acdb4d-2bb3-4bcc-d2a1-2b37f3aae149"
      },
      "source": [
        "print(\"Time Taken to vectorize-Stem(secs): \", w2v.total_train_time)\r\n",
        "print(\"Length of word vocab (stem): \", len(vocab_w2v))"
      ],
      "execution_count": 125,
      "outputs": [
        {
          "output_type": "stream",
          "text": [
            "Time Taken to vectorize-Stem(secs):  889.2707581869781\n",
            "Length of word vocab (stem):  70194\n"
          ],
          "name": "stdout"
        }
      ]
    },
    {
      "cell_type": "markdown",
      "metadata": {
        "id": "fKfkArQ6YHUs"
      },
      "source": [
        "#### Define Functions for Embeddings Generations"
      ]
    },
    {
      "cell_type": "code",
      "metadata": {
        "id": "nchKVGdLQRio"
      },
      "source": [
        "def get_aggreagated_embedding(doc, model):\r\n",
        "    \"\"\"\r\n",
        "    Takes the normalized-tokenized corpus as input and\r\n",
        "    returns the average embeddings of document usingnp the model. (Averages the word embeddings)\r\n",
        "    \"\"\"\r\n",
        "    vocab = model.wv.vocab.keys()\r\n",
        "    doc_embed = np.average([model.wv[word.lower()] for word in doc if word.lower() in vocab], axis=0)\r\n",
        "    return doc_embed"
      ],
      "execution_count": 126,
      "outputs": []
    },
    {
      "cell_type": "code",
      "metadata": {
        "id": "Io7kbZAyUtSF"
      },
      "source": [
        "def document_vectorizer(corpus, w2v_model, doc_action='clean_tokenize', lemmatize=False):\r\n",
        "    \"\"\"\r\n",
        "    Takes the list of documents (corpus), w2v_model as input\r\n",
        "    Returns the document embeddings averaged on each word.\r\n",
        "    \r\n",
        "    Attributes:\r\n",
        "      doc_action:  possible values ('clean_tokenize', 'tokenize', 'no_action')\r\n",
        "                   Default : clean_tokenize\r\n",
        "    \"\"\"\r\n",
        "    document_embeddings = []\r\n",
        "    doc_actions = ('clean_tokenize', 'tokenize', 'no_action')\r\n",
        "    if not doc_action in doc_actions:\r\n",
        "      raise NameError(\"Invalid parameter passed for doc_action attribute.\")\r\n",
        "    for doc in corpus:\r\n",
        "        norm_doc = []\r\n",
        "        if doc_action.lower() == 'clean_tokenize':\r\n",
        "          clean_doc = clean_corpus(doc, lemmatize=lemmatize)\r\n",
        "          wpt = WordPunctTokenizer()\r\n",
        "          norm_doc = wpt.tokenize(clean_doc)\r\n",
        "        elif doc_action.lower() == 'tokenize':\r\n",
        "          wpt = WordPunctTokenizer()\r\n",
        "          norm_doc = wpt.tokenize(doc)\r\n",
        "        elif doc_action.lower() == 'no_action':\r\n",
        "          norm_doc = doc\r\n",
        "        else:\r\n",
        "          raise NameError(\"Invalid parameter passed for doc_action attribute.\")\r\n",
        "        doc_embed = get_aggreagated_embedding(norm_doc, w2v_model)\r\n",
        "        document_embeddings.append(doc_embed)\r\n",
        "    return np.array(document_embeddings)"
      ],
      "execution_count": 127,
      "outputs": []
    },
    {
      "cell_type": "markdown",
      "metadata": {
        "id": "ob3YQpvUEie2"
      },
      "source": [
        "## 5.Evaluate the Best model on Subset of Data. (Metric - Accuracy)"
      ]
    },
    {
      "cell_type": "code",
      "metadata": {
        "id": "XbFRQHR7YQpc"
      },
      "source": [
        "from sklearn.linear_model import LogisticRegression\r\n",
        "from sklearn.naive_bayes import MultinomialNB\r\n",
        "from sklearn.discriminant_analysis import LinearDiscriminantAnalysis\r\n",
        "from sklearn.metrics import accuracy_score, f1_score, classification_report, plot_confusion_matrix"
      ],
      "execution_count": 128,
      "outputs": []
    },
    {
      "cell_type": "markdown",
      "metadata": {
        "id": "4YzqwBORHvho"
      },
      "source": [
        "### TFIDF"
      ]
    },
    {
      "cell_type": "markdown",
      "metadata": {
        "id": "tHWtZiY8eZgf"
      },
      "source": [
        "#### Logistic Regression"
      ]
    },
    {
      "cell_type": "code",
      "metadata": {
        "colab": {
          "base_uri": "https://localhost:8080/"
        },
        "id": "UFlRfqUcFIBA",
        "outputId": "008f9afc-af82-4159-ee25-40d88b26cd19"
      },
      "source": [
        "start = time.time()\r\n",
        "LogReg_tfidf = LogisticRegression(max_iter=300)\r\n",
        "LogReg_tfidf.fit(X_train_tfidf, y_train)\r\n",
        "end = time.time()\r\n",
        "print(\"Training time for Logistic Regression: \", (end-start), \" secs\")"
      ],
      "execution_count": 44,
      "outputs": [
        {
          "output_type": "stream",
          "text": [
            "Training time for Logistic Regression:  52.11993908882141  secs\n"
          ],
          "name": "stdout"
        }
      ]
    },
    {
      "cell_type": "code",
      "metadata": {
        "colab": {
          "base_uri": "https://localhost:8080/"
        },
        "id": "iiQTB8_cKaY-",
        "outputId": "61d2bf3a-83bd-41a1-bc79-65e6dccea318"
      },
      "source": [
        "y_preds_LogReg_tfidf = LogReg_tfidf.predict(X_test_tfidf)\r\n",
        "print(classification_report(y_test, y_preds_LogReg_tfidf))"
      ],
      "execution_count": 45,
      "outputs": [
        {
          "output_type": "stream",
          "text": [
            "              precision    recall  f1-score   support\n",
            "\n",
            "           1       0.93      0.90      0.92      1900\n",
            "           2       0.95      0.98      0.97      1900\n",
            "           3       0.89      0.88      0.88      1900\n",
            "           4       0.89      0.90      0.89      1900\n",
            "\n",
            "    accuracy                           0.92      7600\n",
            "   macro avg       0.92      0.92      0.92      7600\n",
            "weighted avg       0.92      0.92      0.92      7600\n",
            "\n"
          ],
          "name": "stdout"
        }
      ]
    },
    {
      "cell_type": "code",
      "metadata": {
        "colab": {
          "base_uri": "https://localhost:8080/",
          "height": 279
        },
        "id": "2hExjQ8Ndf3O",
        "outputId": "1c435651-80c3-4c1f-8d41-2aa167fa406b"
      },
      "source": [
        "plot_confusion_matrix(LogReg_tfidf, X_test_tfidf, y_test);"
      ],
      "execution_count": 46,
      "outputs": [
        {
          "output_type": "display_data",
          "data": {
            "image/png": "[encoded data removed]",
            "text/plain": [
              "<Figure size 432x288 with 2 Axes>"
            ]
          },
          "metadata": {
            "tags": [],
            "needs_background": "light"
          }
        }
      ]
    },
    {
      "cell_type": "code",
      "metadata": {
        "colab": {
          "base_uri": "https://localhost:8080/"
        },
        "id": "yTnHffKbdfk5",
        "outputId": "af288137-9cdf-40f9-a3d1-cefd33d26211"
      },
      "source": [
        "accuracy_score(y_test, y_preds_LogReg_tfidf)"
      ],
      "execution_count": 47,
      "outputs": [
        {
          "output_type": "execute_result",
          "data": {
            "text/plain": [
              "0.9152631578947369"
            ]
          },
          "metadata": {
            "tags": []
          },
          "execution_count": 47
        }
      ]
    },
    {
      "cell_type": "markdown",
      "metadata": {
        "id": "2k-EKCEsee5S"
      },
      "source": [
        "#### MultiNomial Naive bayes"
      ]
    },
    {
      "cell_type": "code",
      "metadata": {
        "colab": {
          "base_uri": "https://localhost:8080/"
        },
        "id": "jJu_9iU1IHQS",
        "outputId": "d9a07140-22d2-404e-8d65-8b5f01db616c"
      },
      "source": [
        "start = time.time()\r\n",
        "nb_tfidf = MultinomialNB()\r\n",
        "nb_tfidf.fit(X_train_tfidf, y_train)\r\n",
        "end = time.time()\r\n",
        "print(\"Training time for MultiNomial NB: \", (end-start), \" secs\")"
      ],
      "execution_count": 48,
      "outputs": [
        {
          "output_type": "stream",
          "text": [
            "Training time for MultiNomial NB:  0.07116174697875977  secs\n"
          ],
          "name": "stdout"
        }
      ]
    },
    {
      "cell_type": "code",
      "metadata": {
        "colab": {
          "base_uri": "https://localhost:8080/"
        },
        "id": "6hrLW-tUezXV",
        "outputId": "87cec7c8-8ebc-48d0-cfea-021bc9648af2"
      },
      "source": [
        "y_preds_MNB_tfidf = nb_tfidf.predict(X_test_tfidf)\r\n",
        "print(classification_report(y_test, y_preds_MNB_tfidf))"
      ],
      "execution_count": 49,
      "outputs": [
        {
          "output_type": "stream",
          "text": [
            "              precision    recall  f1-score   support\n",
            "\n",
            "           1       0.91      0.89      0.90      1900\n",
            "           2       0.95      0.97      0.96      1900\n",
            "           3       0.87      0.86      0.86      1900\n",
            "           4       0.87      0.88      0.88      1900\n",
            "\n",
            "    accuracy                           0.90      7600\n",
            "   macro avg       0.90      0.90      0.90      7600\n",
            "weighted avg       0.90      0.90      0.90      7600\n",
            "\n"
          ],
          "name": "stdout"
        }
      ]
    },
    {
      "cell_type": "code",
      "metadata": {
        "colab": {
          "base_uri": "https://localhost:8080/",
          "height": 279
        },
        "id": "8zNNZAixe5-F",
        "outputId": "78502f46-448f-4718-92cb-f465a09501bc"
      },
      "source": [
        "plot_confusion_matrix(nb_tfidf, X_test_tfidf, y_test);"
      ],
      "execution_count": 50,
      "outputs": [
        {
          "output_type": "display_data",
          "data": {
            "image/png": "[encoded data removed]",
            "text/plain": [
              "<Figure size 432x288 with 2 Axes>"
            ]
          },
          "metadata": {
            "tags": [],
            "needs_background": "light"
          }
        }
      ]
    },
    {
      "cell_type": "code",
      "metadata": {
        "colab": {
          "base_uri": "https://localhost:8080/"
        },
        "id": "t-pLQ4jufCEw",
        "outputId": "c215d2eb-462b-4df5-8483-573dcca5f7a4"
      },
      "source": [
        "accuracy_score(y_test, y_preds_MNB_tfidf)"
      ],
      "execution_count": 51,
      "outputs": [
        {
          "output_type": "execute_result",
          "data": {
            "text/plain": [
              "0.8997368421052632"
            ]
          },
          "metadata": {
            "tags": []
          },
          "execution_count": 51
        }
      ]
    },
    {
      "cell_type": "markdown",
      "metadata": {
        "id": "xbEZg219AhOk"
      },
      "source": [
        ">**Inferences**:\r\n",
        ">* Even the sparse tfidf vectors produced a fairly good accuracy using Logistic and NaiveBayes classifiers.\r\n",
        "* The training time for NavieBayes was shocking at the first looks. Need to investigate or analyse why it is so?\r\n",
        "\r\n"
      ]
    },
    {
      "cell_type": "markdown",
      "metadata": {
        "id": "5fpEZmkJBIHD"
      },
      "source": [
        "### Word2Vec"
      ]
    },
    {
      "cell_type": "code",
      "metadata": {
        "colab": {
          "base_uri": "https://localhost:8080/"
        },
        "id": "ZNRcNsj6f0oZ",
        "outputId": "0f22777f-1939-436f-d11f-638b2a28dfd6"
      },
      "source": [
        "start = time.time()\r\n",
        "doc_matrix_train_w2v = document_vectorizer(X_train,w2v,doc_action='tokenize')\r\n",
        "end = time.time()\r\n",
        "print(\"Time for document matrix generation: \", (end-start), \" secs\")"
      ],
      "execution_count": 129,
      "outputs": [
        {
          "output_type": "stream",
          "text": [
            "Time for document matrix generation:  13.455904006958008  secs\n"
          ],
          "name": "stdout"
        }
      ]
    },
    {
      "cell_type": "code",
      "metadata": {
        "colab": {
          "base_uri": "https://localhost:8080/"
        },
        "id": "-nOj8PvnBSwj",
        "outputId": "beaac777-189c-48c0-db68-a3e8add27e4f"
      },
      "source": [
        "start = time.time()\r\n",
        "doc_matrix_test_w2v = document_vectorizer(X_test,w2v,doc_action='tokenize')\r\n",
        "end = time.time()\r\n",
        "print(\"Time for document matrix generation: \", (end-start), \" secs\")"
      ],
      "execution_count": 137,
      "outputs": [
        {
          "output_type": "stream",
          "text": [
            "Time for document matrix generation:  0.8864202499389648  secs\n"
          ],
          "name": "stdout"
        }
      ]
    },
    {
      "cell_type": "markdown",
      "metadata": {
        "id": "CcPqBzTmJLH4"
      },
      "source": [
        "#### Logistic Regression"
      ]
    },
    {
      "cell_type": "code",
      "metadata": {
        "colab": {
          "base_uri": "https://localhost:8080/"
        },
        "id": "ce9DBFUhHZEl",
        "outputId": "516eb4bc-08e3-42a2-ad70-b12cf14a28a2"
      },
      "source": [
        "start = time.time()\r\n",
        "LogReg_w2v = LogisticRegression(max_iter=300)\r\n",
        "LogReg_w2v.fit(doc_matrix_train_w2v, y_train)\r\n",
        "end = time.time()\r\n",
        "print(\"Training time for Logistic Regression: \", (end-start), \" secs\")"
      ],
      "execution_count": 138,
      "outputs": [
        {
          "output_type": "stream",
          "text": [
            "Training time for Logistic Regression:  77.80536150932312  secs\n"
          ],
          "name": "stdout"
        },
        {
          "output_type": "stream",
          "text": [
            "/usr/local/lib/python3.6/dist-packages/sklearn/linear_model/_logistic.py:940: ConvergenceWarning: lbfgs failed to converge (status=1):\n",
            "STOP: TOTAL NO. of ITERATIONS REACHED LIMIT.\n",
            "\n",
            "Increase the number of iterations (max_iter) or scale the data as shown in:\n",
            "    https://scikit-learn.org/stable/modules/preprocessing.html\n",
            "Please also refer to the documentation for alternative solver options:\n",
            "    https://scikit-learn.org/stable/modules/linear_model.html#logistic-regression\n",
            "  extra_warning_msg=_LOGISTIC_SOLVER_CONVERGENCE_MSG)\n"
          ],
          "name": "stderr"
        }
      ]
    },
    {
      "cell_type": "code",
      "metadata": {
        "colab": {
          "base_uri": "https://localhost:8080/"
        },
        "id": "1sHd4UcTJ3NT",
        "outputId": "28d3eaec-c9dc-4173-815a-eb76b6d0519d"
      },
      "source": [
        "y_preds_LogReg_w2v = LogReg_w2v.predict(doc_matrix_test_w2v)\r\n",
        "print(classification_report(y_test, y_preds_LogReg_w2v))"
      ],
      "execution_count": 140,
      "outputs": [
        {
          "output_type": "stream",
          "text": [
            "              precision    recall  f1-score   support\n",
            "\n",
            "           1       0.90      0.89      0.90      1900\n",
            "           2       0.95      0.97      0.96      1900\n",
            "           3       0.86      0.85      0.85      1900\n",
            "           4       0.86      0.87      0.87      1900\n",
            "\n",
            "    accuracy                           0.89      7600\n",
            "   macro avg       0.89      0.89      0.89      7600\n",
            "weighted avg       0.89      0.89      0.89      7600\n",
            "\n"
          ],
          "name": "stdout"
        }
      ]
    },
    {
      "cell_type": "code",
      "metadata": {
        "colab": {
          "base_uri": "https://localhost:8080/",
          "height": 297
        },
        "id": "IsaaIcYWKJ4Z",
        "outputId": "bf4b0a91-892f-4cf0-e3d0-290963b32877"
      },
      "source": [
        "plot_confusion_matrix(LogReg_w2v, doc_matrix_test_w2v, y_test)"
      ],
      "execution_count": 141,
      "outputs": [
        {
          "output_type": "execute_result",
          "data": {
            "text/plain": [
              "<sklearn.metrics._plot.confusion_matrix.ConfusionMatrixDisplay at 0x7fab8dea4588>"
            ]
          },
          "metadata": {
            "tags": []
          },
          "execution_count": 141
        },
        {
          "output_type": "display_data",
          "data": {
            "image/png": "[encoded data removed]",
            "text/plain": [
              "<Figure size 432x288 with 2 Axes>"
            ]
          },
          "metadata": {
            "tags": [],
            "needs_background": "light"
          }
        }
      ]
    },
    {
      "cell_type": "code",
      "metadata": {
        "colab": {
          "base_uri": "https://localhost:8080/"
        },
        "id": "u47sPkMzKWTH",
        "outputId": "7437dbb0-e9bb-4a1a-bc11-d1b447a3776d"
      },
      "source": [
        "accuracy_score(y_test, y_preds_LogReg_w2v)"
      ],
      "execution_count": 142,
      "outputs": [
        {
          "output_type": "execute_result",
          "data": {
            "text/plain": [
              "0.8939473684210526"
            ]
          },
          "metadata": {
            "tags": []
          },
          "execution_count": 142
        }
      ]
    },
    {
      "cell_type": "code",
      "metadata": {
        "colab": {
          "base_uri": "https://localhost:8080/",
          "height": 385
        },
        "id": "TjK5bdCCKioy",
        "outputId": "3fdfd65b-9459-43b0-dfbd-4cf1dd6b186f"
      },
      "source": [
        "start = time.time()\r\n",
        "nb_w2v = MultinomialNB()\r\n",
        "nb_w2v.fit(doc_matrix_train_w2v, y_train)\r\n",
        "end = time.time()\r\n",
        "print(\"Training time for Naive Bayes: \", (end-start), \" secs\")"
      ],
      "execution_count": 71,
      "outputs": [
        {
          "output_type": "error",
          "ename": "ValueError",
          "evalue": "ignored",
          "traceback": [
            "\u001b[0;31m---------------------------------------------------------------------------\u001b[0m",
            "\u001b[0;31mValueError\u001b[0m                                Traceback (most recent call last)",
            "\u001b[0;32m<ipython-input-71-54adbc713155>\u001b[0m in \u001b[0;36m<module>\u001b[0;34m()\u001b[0m\n\u001b[1;32m      1\u001b[0m \u001b[0mstart\u001b[0m \u001b[0;34m=\u001b[0m \u001b[0mtime\u001b[0m\u001b[0;34m.\u001b[0m\u001b[0mtime\u001b[0m\u001b[0;34m(\u001b[0m\u001b[0;34m)\u001b[0m\u001b[0;34m\u001b[0m\u001b[0;34m\u001b[0m\u001b[0m\n\u001b[1;32m      2\u001b[0m \u001b[0mnb_w2v\u001b[0m \u001b[0;34m=\u001b[0m \u001b[0mMultinomialNB\u001b[0m\u001b[0;34m(\u001b[0m\u001b[0;34m)\u001b[0m\u001b[0;34m\u001b[0m\u001b[0;34m\u001b[0m\u001b[0m\n\u001b[0;32m----> 3\u001b[0;31m \u001b[0mnb_w2v\u001b[0m\u001b[0;34m.\u001b[0m\u001b[0mfit\u001b[0m\u001b[0;34m(\u001b[0m\u001b[0mdoc_matrix_train_w2v\u001b[0m\u001b[0;34m,\u001b[0m \u001b[0my_train\u001b[0m\u001b[0;34m)\u001b[0m\u001b[0;34m\u001b[0m\u001b[0;34m\u001b[0m\u001b[0m\n\u001b[0m\u001b[1;32m      4\u001b[0m \u001b[0mend\u001b[0m \u001b[0;34m=\u001b[0m \u001b[0mtime\u001b[0m\u001b[0;34m.\u001b[0m\u001b[0mtime\u001b[0m\u001b[0;34m(\u001b[0m\u001b[0;34m)\u001b[0m\u001b[0;34m\u001b[0m\u001b[0;34m\u001b[0m\u001b[0m\n\u001b[1;32m      5\u001b[0m \u001b[0mprint\u001b[0m\u001b[0;34m(\u001b[0m\u001b[0;34m\"Training time for Naive Bayes: \"\u001b[0m\u001b[0;34m,\u001b[0m \u001b[0;34m(\u001b[0m\u001b[0mend\u001b[0m\u001b[0;34m-\u001b[0m\u001b[0mstart\u001b[0m\u001b[0;34m)\u001b[0m\u001b[0;34m,\u001b[0m \u001b[0;34m\" secs\"\u001b[0m\u001b[0;34m)\u001b[0m\u001b[0;34m\u001b[0m\u001b[0;34m\u001b[0m\u001b[0m\n",
            "\u001b[0;32m/usr/local/lib/python3.6/dist-packages/sklearn/naive_bayes.py\u001b[0m in \u001b[0;36mfit\u001b[0;34m(self, X, y, sample_weight)\u001b[0m\n\u001b[1;32m    633\u001b[0m \u001b[0;34m\u001b[0m\u001b[0m\n\u001b[1;32m    634\u001b[0m         \u001b[0mself\u001b[0m\u001b[0;34m.\u001b[0m\u001b[0m_init_counters\u001b[0m\u001b[0;34m(\u001b[0m\u001b[0mn_effective_classes\u001b[0m\u001b[0;34m,\u001b[0m \u001b[0mn_features\u001b[0m\u001b[0;34m)\u001b[0m\u001b[0;34m\u001b[0m\u001b[0;34m\u001b[0m\u001b[0m\n\u001b[0;32m--> 635\u001b[0;31m         \u001b[0mself\u001b[0m\u001b[0;34m.\u001b[0m\u001b[0m_count\u001b[0m\u001b[0;34m(\u001b[0m\u001b[0mX\u001b[0m\u001b[0;34m,\u001b[0m \u001b[0mY\u001b[0m\u001b[0;34m)\u001b[0m\u001b[0;34m\u001b[0m\u001b[0;34m\u001b[0m\u001b[0m\n\u001b[0m\u001b[1;32m    636\u001b[0m         \u001b[0malpha\u001b[0m \u001b[0;34m=\u001b[0m \u001b[0mself\u001b[0m\u001b[0;34m.\u001b[0m\u001b[0m_check_alpha\u001b[0m\u001b[0;34m(\u001b[0m\u001b[0;34m)\u001b[0m\u001b[0;34m\u001b[0m\u001b[0;34m\u001b[0m\u001b[0m\n\u001b[1;32m    637\u001b[0m         \u001b[0mself\u001b[0m\u001b[0;34m.\u001b[0m\u001b[0m_update_feature_log_prob\u001b[0m\u001b[0;34m(\u001b[0m\u001b[0malpha\u001b[0m\u001b[0;34m)\u001b[0m\u001b[0;34m\u001b[0m\u001b[0;34m\u001b[0m\u001b[0m\n",
            "\u001b[0;32m/usr/local/lib/python3.6/dist-packages/sklearn/naive_bayes.py\u001b[0m in \u001b[0;36m_count\u001b[0;34m(self, X, Y)\u001b[0m\n\u001b[1;32m    754\u001b[0m     \u001b[0;32mdef\u001b[0m \u001b[0m_count\u001b[0m\u001b[0;34m(\u001b[0m\u001b[0mself\u001b[0m\u001b[0;34m,\u001b[0m \u001b[0mX\u001b[0m\u001b[0;34m,\u001b[0m \u001b[0mY\u001b[0m\u001b[0;34m)\u001b[0m\u001b[0;34m:\u001b[0m\u001b[0;34m\u001b[0m\u001b[0;34m\u001b[0m\u001b[0m\n\u001b[1;32m    755\u001b[0m         \u001b[0;34m\"\"\"Count and smooth feature occurrences.\"\"\"\u001b[0m\u001b[0;34m\u001b[0m\u001b[0;34m\u001b[0m\u001b[0m\n\u001b[0;32m--> 756\u001b[0;31m         \u001b[0mcheck_non_negative\u001b[0m\u001b[0;34m(\u001b[0m\u001b[0mX\u001b[0m\u001b[0;34m,\u001b[0m \u001b[0;34m\"MultinomialNB (input X)\"\u001b[0m\u001b[0;34m)\u001b[0m\u001b[0;34m\u001b[0m\u001b[0;34m\u001b[0m\u001b[0m\n\u001b[0m\u001b[1;32m    757\u001b[0m         \u001b[0mself\u001b[0m\u001b[0;34m.\u001b[0m\u001b[0mfeature_count_\u001b[0m \u001b[0;34m+=\u001b[0m \u001b[0msafe_sparse_dot\u001b[0m\u001b[0;34m(\u001b[0m\u001b[0mY\u001b[0m\u001b[0;34m.\u001b[0m\u001b[0mT\u001b[0m\u001b[0;34m,\u001b[0m \u001b[0mX\u001b[0m\u001b[0;34m)\u001b[0m\u001b[0;34m\u001b[0m\u001b[0;34m\u001b[0m\u001b[0m\n\u001b[1;32m    758\u001b[0m         \u001b[0mself\u001b[0m\u001b[0;34m.\u001b[0m\u001b[0mclass_count_\u001b[0m \u001b[0;34m+=\u001b[0m \u001b[0mY\u001b[0m\u001b[0;34m.\u001b[0m\u001b[0msum\u001b[0m\u001b[0;34m(\u001b[0m\u001b[0maxis\u001b[0m\u001b[0;34m=\u001b[0m\u001b[0;36m0\u001b[0m\u001b[0;34m)\u001b[0m\u001b[0;34m\u001b[0m\u001b[0;34m\u001b[0m\u001b[0m\n",
            "\u001b[0;32m/usr/local/lib/python3.6/dist-packages/sklearn/utils/validation.py\u001b[0m in \u001b[0;36mcheck_non_negative\u001b[0;34m(X, whom)\u001b[0m\n\u001b[1;32m    992\u001b[0m \u001b[0;34m\u001b[0m\u001b[0m\n\u001b[1;32m    993\u001b[0m     \u001b[0;32mif\u001b[0m \u001b[0mX_min\u001b[0m \u001b[0;34m<\u001b[0m \u001b[0;36m0\u001b[0m\u001b[0;34m:\u001b[0m\u001b[0;34m\u001b[0m\u001b[0;34m\u001b[0m\u001b[0m\n\u001b[0;32m--> 994\u001b[0;31m         \u001b[0;32mraise\u001b[0m \u001b[0mValueError\u001b[0m\u001b[0;34m(\u001b[0m\u001b[0;34m\"Negative values in data passed to %s\"\u001b[0m \u001b[0;34m%\u001b[0m \u001b[0mwhom\u001b[0m\u001b[0;34m)\u001b[0m\u001b[0;34m\u001b[0m\u001b[0;34m\u001b[0m\u001b[0m\n\u001b[0m\u001b[1;32m    995\u001b[0m \u001b[0;34m\u001b[0m\u001b[0m\n\u001b[1;32m    996\u001b[0m \u001b[0;34m\u001b[0m\u001b[0m\n",
            "\u001b[0;31mValueError\u001b[0m: Negative values in data passed to MultinomialNB (input X)"
          ]
        }
      ]
    },
    {
      "cell_type": "markdown",
      "metadata": {
        "id": "xN5TkPiZK2fF"
      },
      "source": [
        ">**Inferences**:\r\n",
        ">* The Multinomial NavieBayes will not accept negative values in the data. Need to research why is it so?\r\n",
        "\r\n"
      ]
    },
    {
      "cell_type": "markdown",
      "metadata": {
        "id": "LFnfKWsvLYPe"
      },
      "source": [
        "Lets now try some deep learning models before moving into transformers"
      ]
    },
    {
      "cell_type": "markdown",
      "metadata": {
        "id": "918qu7ieLjNU"
      },
      "source": [
        "#### LSTM"
      ]
    },
    {
      "cell_type": "markdown",
      "metadata": {
        "id": "3xYvxjfGT6P-"
      },
      "source": [
        "Will come back to LSTMs and transformers later."
      ]
    },
    {
      "cell_type": "markdown",
      "metadata": {
        "id": "Dcxcru_qUAP1"
      },
      "source": [
        "## 6.Tuning the Best Model"
      ]
    },
    {
      "cell_type": "markdown",
      "metadata": {
        "id": "xXth20AnUD_p"
      },
      "source": [
        "Hyper parameter tuning yet to be performed."
      ]
    },
    {
      "cell_type": "markdown",
      "metadata": {
        "id": "s4A_qjh3UM-v"
      },
      "source": [
        "## 7.Pickle the models for future use"
      ]
    },
    {
      "cell_type": "code",
      "metadata": {
        "id": "MCsAWxPMKypR"
      },
      "source": [
        "import pickle"
      ],
      "execution_count": 73,
      "outputs": []
    },
    {
      "cell_type": "code",
      "metadata": {
        "id": "qrj3nTkmSMsN"
      },
      "source": [
        "pickle.dump(LogReg_tfidf, open('/content/drive/MyDrive/Colab Notebooks/Data/AGNews/saved_models/LogReg_tfidf.pkl', 'wb'))\r\n",
        "pickle.dump(nb_tfidf, open('/content/drive/MyDrive/Colab Notebooks/Data/AGNews/saved_models/nb_tfidf.pkl', 'wb'))\r\n",
        "pickle.dump(LogReg_w2v, open('/content/drive/MyDrive/Colab Notebooks/Data/AGNews/saved_models/LogReg_w2v.pkl', 'wb'))\r\n",
        "pickle.dump(w2v, open('/content/drive/MyDrive/Colab Notebooks/Data/AGNews/saved_models/w2v.pkl', 'wb'))\r\n",
        "pickle.dump(tfidf_vec, open('/content/drive/MyDrive/Colab Notebooks/Data/AGNews/saved_models/tfidf.pkl', 'wb'))"
      ],
      "execution_count": 143,
      "outputs": []
    },
    {
      "cell_type": "code",
      "metadata": {
        "colab": {
          "base_uri": "https://localhost:8080/"
        },
        "id": "JMCyOfDbWh6K",
        "outputId": "7790853a-7b1b-4fc1-bdc7-208822367656"
      },
      "source": [
        "len(w2v.wv.vocab.keys())"
      ],
      "execution_count": 144,
      "outputs": [
        {
          "output_type": "execute_result",
          "data": {
            "text/plain": [
              "70194"
            ]
          },
          "metadata": {
            "tags": []
          },
          "execution_count": 144
        }
      ]
    },
    {
      "cell_type": "code",
      "metadata": {
        "colab": {
          "base_uri": "https://localhost:8080/"
        },
        "id": "q64fQmy8XKYB",
        "outputId": "54c59f8f-cfd1-4957-94b6-1386e25cb405"
      },
      "source": [
        "w2v_reloaded = pickle.load(open('/content/drive/MyDrive/Colab Notebooks/Data/AGNews/saved_models/w2v.pkl', 'rb'))\r\n",
        "len(w2v_reloaded.wv.vocab.keys())"
      ],
      "execution_count": 145,
      "outputs": [
        {
          "output_type": "execute_result",
          "data": {
            "text/plain": [
              "70194"
            ]
          },
          "metadata": {
            "tags": []
          },
          "execution_count": 145
        }
      ]
    },
    {
      "cell_type": "code",
      "metadata": {
        "colab": {
          "base_uri": "https://localhost:8080/"
        },
        "id": "uzRhuuihadXL",
        "outputId": "2f03a22e-7e7b-4e4f-b475-722f271a1ea6"
      },
      "source": [
        "len(tfidf_vec.vocabulary_)"
      ],
      "execution_count": 146,
      "outputs": [
        {
          "output_type": "execute_result",
          "data": {
            "text/plain": [
              "46122"
            ]
          },
          "metadata": {
            "tags": []
          },
          "execution_count": 146
        }
      ]
    },
    {
      "cell_type": "code",
      "metadata": {
        "colab": {
          "base_uri": "https://localhost:8080/"
        },
        "id": "aIxdG4DMaUA1",
        "outputId": "d9e5aea4-774a-4b45-8168-cf7c547f2d49"
      },
      "source": [
        "tfidf_vec_reload = pickle.load(open('/content/drive/MyDrive/Colab Notebooks/Data/AGNews/saved_models/tfidf.pkl', 'rb'))\r\n",
        "len(tfidf_vec_reload.vocabulary_)"
      ],
      "execution_count": 147,
      "outputs": [
        {
          "output_type": "execute_result",
          "data": {
            "text/plain": [
              "46122"
            ]
          },
          "metadata": {
            "tags": []
          },
          "execution_count": 147
        }
      ]
    },
    {
      "cell_type": "code",
      "metadata": {
        "id": "XiQfc8V-VBUS"
      },
      "source": [
        "LogReg_tfidf_reload = pickle.load(open('/content/drive/MyDrive/Colab Notebooks/Data/AGNews/saved_models/LogReg_tfidf.pkl', 'rb'))"
      ],
      "execution_count": 148,
      "outputs": []
    },
    {
      "cell_type": "code",
      "metadata": {
        "colab": {
          "base_uri": "https://localhost:8080/"
        },
        "id": "p9ALx1peVtIu",
        "outputId": "8ecba295-0dca-40ad-fdc1-391295d2ca79"
      },
      "source": [
        "y_preds_reload = LogReg_tfidf_reload.predict(X_test_tfidf)\r\n",
        "accuracy_score(y_test,y_preds_reload)"
      ],
      "execution_count": 149,
      "outputs": [
        {
          "output_type": "execute_result",
          "data": {
            "text/plain": [
              "0.9152631578947369"
            ]
          },
          "metadata": {
            "tags": []
          },
          "execution_count": 149
        }
      ]
    },
    {
      "cell_type": "markdown",
      "metadata": {
        "id": "IPfypgsvZwB5"
      },
      "source": [
        "## 8.Predictions"
      ]
    },
    {
      "cell_type": "code",
      "metadata": {
        "id": "tevF8Cs1WQBi"
      },
      "source": [
        "def predict_news_type(headline, short_desc, vec, model, embedType='w2v'):\r\n",
        "  \"\"\"\r\n",
        "  Takes the headline, short description, vectorizer, model and embedding type as input.\r\n",
        "  Then predicts the type of the news article among ['World', 'Sports', 'Business', 'Sci/Tech'].\r\n",
        "  \"\"\"\r\n",
        "  clubbed_article = headline + \" \" + short_desc\r\n",
        "  clean_clubbed_article = clean_corpus(clubbed_article)\r\n",
        "  if embedType.lower() == 'tfidf':\r\n",
        "    article_embed = vec.transform(clean_clubbed_article)\r\n",
        "  elif embedType.lower() == 'w2v':\r\n",
        "    article_embed = document_vectorizer(clean_clubbed_article, vec, doc_action='tokenize')\r\n",
        "  else:\r\n",
        "    raise NameError(\"Invalid 'embedType' specified.\")\r\n",
        "  y_pred = model.predict_proba(article_embed.reshape(1,-1))\r\n",
        "  pos = np.argmax(y_pred)\r\n",
        "  label = labels[pos]\r\n",
        "  return \"Article Type: \" + label + \" Confidence: \" + round(y_pred[pos]*100, 2) + \"%\""
      ],
      "execution_count": 150,
      "outputs": []
    },
    {
      "cell_type": "code",
      "metadata": {
        "colab": {
          "base_uri": "https://localhost:8080/",
          "height": 581
        },
        "id": "MToQ9RDYcJ-4",
        "outputId": "f2562e73-78b8-483c-f24c-5d9394d5b9ee"
      },
      "source": [
        "Headline1 = 'Tsunami confirmed by Australian agency after magnitude earthquake in South Pacific'\r\n",
        "Desc1 = 'A the Australian weather agency confirmed. Tsunami confirmed the Australian Bureau of Meteorology said in a tweet, as it warned of a marine threat to Lord Howe Island. Tsunami affecting marine area commencing after am AEDT Thu, persisting for several hours the tweet read.'\r\n",
        "predict_news_type(headline=Headline1, short_desc=Desc1, vec=w2v_reloaded, model=LogReg_w2v, embedType='w2v')"
      ],
      "execution_count": 168,
      "outputs": [
        {
          "output_type": "stream",
          "text": [
            "/usr/local/lib/python3.6/dist-packages/numpy/lib/function_base.py:380: RuntimeWarning: Mean of empty slice.\n",
            "  avg = a.mean(axis)\n",
            "/usr/local/lib/python3.6/dist-packages/numpy/core/_methods.py:170: RuntimeWarning: invalid value encountered in double_scalars\n",
            "  ret = ret.dtype.type(ret / rcount)\n",
            "/usr/local/lib/python3.6/dist-packages/ipykernel_launcher.py:29: VisibleDeprecationWarning: Creating an ndarray from ragged nested sequences (which is a list-or-tuple of lists-or-tuples-or ndarrays with different lengths or shapes) is deprecated. If you meant to do this, you must specify 'dtype=object' when creating the ndarray\n"
          ],
          "name": "stderr"
        },
        {
          "output_type": "error",
          "ename": "ValueError",
          "evalue": "ignored",
          "traceback": [
            "\u001b[0;31m---------------------------------------------------------------------------\u001b[0m",
            "\u001b[0;31mTypeError\u001b[0m                                 Traceback (most recent call last)",
            "\u001b[0;31mTypeError\u001b[0m: only size-1 arrays can be converted to Python scalars",
            "\nThe above exception was the direct cause of the following exception:\n",
            "\u001b[0;31mValueError\u001b[0m                                Traceback (most recent call last)",
            "\u001b[0;32m<ipython-input-168-e218e819f5df>\u001b[0m in \u001b[0;36m<module>\u001b[0;34m()\u001b[0m\n\u001b[1;32m      1\u001b[0m \u001b[0mHeadline1\u001b[0m \u001b[0;34m=\u001b[0m \u001b[0;34m'Tsunami confirmed by Australian agency after magnitude earthquake in South Pacific'\u001b[0m\u001b[0;34m\u001b[0m\u001b[0;34m\u001b[0m\u001b[0m\n\u001b[1;32m      2\u001b[0m \u001b[0mDesc1\u001b[0m \u001b[0;34m=\u001b[0m \u001b[0;34m'A the Australian weather agency confirmed. Tsunami confirmed the Australian Bureau of Meteorology said in a tweet, as it warned of a marine threat to Lord Howe Island. Tsunami affecting marine area commencing after am AEDT Thu, persisting for several hours the tweet read.'\u001b[0m\u001b[0;34m\u001b[0m\u001b[0;34m\u001b[0m\u001b[0m\n\u001b[0;32m----> 3\u001b[0;31m \u001b[0mpredict_news_type\u001b[0m\u001b[0;34m(\u001b[0m\u001b[0mheadline\u001b[0m\u001b[0;34m=\u001b[0m\u001b[0mHeadline1\u001b[0m\u001b[0;34m,\u001b[0m \u001b[0mshort_desc\u001b[0m\u001b[0;34m=\u001b[0m\u001b[0mDesc1\u001b[0m\u001b[0;34m,\u001b[0m \u001b[0mvec\u001b[0m\u001b[0;34m=\u001b[0m\u001b[0mw2v_reloaded\u001b[0m\u001b[0;34m,\u001b[0m \u001b[0mmodel\u001b[0m\u001b[0;34m=\u001b[0m\u001b[0mLogReg_w2v\u001b[0m\u001b[0;34m,\u001b[0m \u001b[0membedType\u001b[0m\u001b[0;34m=\u001b[0m\u001b[0;34m'w2v'\u001b[0m\u001b[0;34m)\u001b[0m\u001b[0;34m\u001b[0m\u001b[0;34m\u001b[0m\u001b[0m\n\u001b[0m",
            "\u001b[0;32m<ipython-input-150-e4baa95b7f5c>\u001b[0m in \u001b[0;36mpredict_news_type\u001b[0;34m(headline, short_desc, vec, model, embedType)\u001b[0m\n\u001b[1;32m     12\u001b[0m   \u001b[0;32melse\u001b[0m\u001b[0;34m:\u001b[0m\u001b[0;34m\u001b[0m\u001b[0;34m\u001b[0m\u001b[0m\n\u001b[1;32m     13\u001b[0m     \u001b[0;32mraise\u001b[0m \u001b[0mNameError\u001b[0m\u001b[0;34m(\u001b[0m\u001b[0;34m\"Invalid 'embedType' specified.\"\u001b[0m\u001b[0;34m)\u001b[0m\u001b[0;34m\u001b[0m\u001b[0;34m\u001b[0m\u001b[0m\n\u001b[0;32m---> 14\u001b[0;31m   \u001b[0my_pred\u001b[0m \u001b[0;34m=\u001b[0m \u001b[0mmodel\u001b[0m\u001b[0;34m.\u001b[0m\u001b[0mpredict_proba\u001b[0m\u001b[0;34m(\u001b[0m\u001b[0marticle_embed\u001b[0m\u001b[0;34m.\u001b[0m\u001b[0mreshape\u001b[0m\u001b[0;34m(\u001b[0m\u001b[0;36m1\u001b[0m\u001b[0;34m,\u001b[0m\u001b[0;34m-\u001b[0m\u001b[0;36m1\u001b[0m\u001b[0;34m)\u001b[0m\u001b[0;34m)\u001b[0m\u001b[0;34m\u001b[0m\u001b[0;34m\u001b[0m\u001b[0m\n\u001b[0m\u001b[1;32m     15\u001b[0m   \u001b[0mpos\u001b[0m \u001b[0;34m=\u001b[0m \u001b[0mnp\u001b[0m\u001b[0;34m.\u001b[0m\u001b[0margmax\u001b[0m\u001b[0;34m(\u001b[0m\u001b[0my_pred\u001b[0m\u001b[0;34m)\u001b[0m\u001b[0;34m\u001b[0m\u001b[0;34m\u001b[0m\u001b[0m\n\u001b[1;32m     16\u001b[0m   \u001b[0mlabel\u001b[0m \u001b[0;34m=\u001b[0m \u001b[0mlabels\u001b[0m\u001b[0;34m[\u001b[0m\u001b[0mpos\u001b[0m\u001b[0;34m]\u001b[0m\u001b[0;34m\u001b[0m\u001b[0;34m\u001b[0m\u001b[0m\n",
            "\u001b[0;32m/usr/local/lib/python3.6/dist-packages/sklearn/linear_model/_logistic.py\u001b[0m in \u001b[0;36mpredict_proba\u001b[0;34m(self, X)\u001b[0m\n\u001b[1;32m   1651\u001b[0m             \u001b[0;32mreturn\u001b[0m \u001b[0msuper\u001b[0m\u001b[0;34m(\u001b[0m\u001b[0;34m)\u001b[0m\u001b[0;34m.\u001b[0m\u001b[0m_predict_proba_lr\u001b[0m\u001b[0;34m(\u001b[0m\u001b[0mX\u001b[0m\u001b[0;34m)\u001b[0m\u001b[0;34m\u001b[0m\u001b[0;34m\u001b[0m\u001b[0m\n\u001b[1;32m   1652\u001b[0m         \u001b[0;32melse\u001b[0m\u001b[0;34m:\u001b[0m\u001b[0;34m\u001b[0m\u001b[0;34m\u001b[0m\u001b[0m\n\u001b[0;32m-> 1653\u001b[0;31m             \u001b[0mdecision\u001b[0m \u001b[0;34m=\u001b[0m \u001b[0mself\u001b[0m\u001b[0;34m.\u001b[0m\u001b[0mdecision_function\u001b[0m\u001b[0;34m(\u001b[0m\u001b[0mX\u001b[0m\u001b[0;34m)\u001b[0m\u001b[0;34m\u001b[0m\u001b[0;34m\u001b[0m\u001b[0m\n\u001b[0m\u001b[1;32m   1654\u001b[0m             \u001b[0;32mif\u001b[0m \u001b[0mdecision\u001b[0m\u001b[0;34m.\u001b[0m\u001b[0mndim\u001b[0m \u001b[0;34m==\u001b[0m \u001b[0;36m1\u001b[0m\u001b[0;34m:\u001b[0m\u001b[0;34m\u001b[0m\u001b[0;34m\u001b[0m\u001b[0m\n\u001b[1;32m   1655\u001b[0m                 \u001b[0;31m# Workaround for multi_class=\"multinomial\" and binary outcomes\u001b[0m\u001b[0;34m\u001b[0m\u001b[0;34m\u001b[0m\u001b[0;34m\u001b[0m\u001b[0m\n",
            "\u001b[0;32m/usr/local/lib/python3.6/dist-packages/sklearn/linear_model/_base.py\u001b[0m in \u001b[0;36mdecision_function\u001b[0;34m(self, X)\u001b[0m\n\u001b[1;32m    266\u001b[0m         \u001b[0mcheck_is_fitted\u001b[0m\u001b[0;34m(\u001b[0m\u001b[0mself\u001b[0m\u001b[0;34m)\u001b[0m\u001b[0;34m\u001b[0m\u001b[0;34m\u001b[0m\u001b[0m\n\u001b[1;32m    267\u001b[0m \u001b[0;34m\u001b[0m\u001b[0m\n\u001b[0;32m--> 268\u001b[0;31m         \u001b[0mX\u001b[0m \u001b[0;34m=\u001b[0m \u001b[0mcheck_array\u001b[0m\u001b[0;34m(\u001b[0m\u001b[0mX\u001b[0m\u001b[0;34m,\u001b[0m \u001b[0maccept_sparse\u001b[0m\u001b[0;34m=\u001b[0m\u001b[0;34m'csr'\u001b[0m\u001b[0;34m)\u001b[0m\u001b[0;34m\u001b[0m\u001b[0;34m\u001b[0m\u001b[0m\n\u001b[0m\u001b[1;32m    269\u001b[0m \u001b[0;34m\u001b[0m\u001b[0m\n\u001b[1;32m    270\u001b[0m         \u001b[0mn_features\u001b[0m \u001b[0;34m=\u001b[0m \u001b[0mself\u001b[0m\u001b[0;34m.\u001b[0m\u001b[0mcoef_\u001b[0m\u001b[0;34m.\u001b[0m\u001b[0mshape\u001b[0m\u001b[0;34m[\u001b[0m\u001b[0;36m1\u001b[0m\u001b[0;34m]\u001b[0m\u001b[0;34m\u001b[0m\u001b[0;34m\u001b[0m\u001b[0m\n",
            "\u001b[0;32m/usr/local/lib/python3.6/dist-packages/sklearn/utils/validation.py\u001b[0m in \u001b[0;36mcheck_array\u001b[0;34m(array, accept_sparse, accept_large_sparse, dtype, order, copy, force_all_finite, ensure_2d, allow_nd, ensure_min_samples, ensure_min_features, warn_on_dtype, estimator)\u001b[0m\n\u001b[1;32m    529\u001b[0m                     \u001b[0marray\u001b[0m \u001b[0;34m=\u001b[0m \u001b[0marray\u001b[0m\u001b[0;34m.\u001b[0m\u001b[0mastype\u001b[0m\u001b[0;34m(\u001b[0m\u001b[0mdtype\u001b[0m\u001b[0;34m,\u001b[0m \u001b[0mcasting\u001b[0m\u001b[0;34m=\u001b[0m\u001b[0;34m\"unsafe\"\u001b[0m\u001b[0;34m,\u001b[0m \u001b[0mcopy\u001b[0m\u001b[0;34m=\u001b[0m\u001b[0;32mFalse\u001b[0m\u001b[0;34m)\u001b[0m\u001b[0;34m\u001b[0m\u001b[0;34m\u001b[0m\u001b[0m\n\u001b[1;32m    530\u001b[0m                 \u001b[0;32melse\u001b[0m\u001b[0;34m:\u001b[0m\u001b[0;34m\u001b[0m\u001b[0;34m\u001b[0m\u001b[0m\n\u001b[0;32m--> 531\u001b[0;31m                     \u001b[0marray\u001b[0m \u001b[0;34m=\u001b[0m \u001b[0mnp\u001b[0m\u001b[0;34m.\u001b[0m\u001b[0masarray\u001b[0m\u001b[0;34m(\u001b[0m\u001b[0marray\u001b[0m\u001b[0;34m,\u001b[0m \u001b[0morder\u001b[0m\u001b[0;34m=\u001b[0m\u001b[0morder\u001b[0m\u001b[0;34m,\u001b[0m \u001b[0mdtype\u001b[0m\u001b[0;34m=\u001b[0m\u001b[0mdtype\u001b[0m\u001b[0;34m)\u001b[0m\u001b[0;34m\u001b[0m\u001b[0;34m\u001b[0m\u001b[0m\n\u001b[0m\u001b[1;32m    532\u001b[0m             \u001b[0;32mexcept\u001b[0m \u001b[0mComplexWarning\u001b[0m\u001b[0;34m:\u001b[0m\u001b[0;34m\u001b[0m\u001b[0;34m\u001b[0m\u001b[0m\n\u001b[1;32m    533\u001b[0m                 raise ValueError(\"Complex data not supported\\n\"\n",
            "\u001b[0;32m/usr/local/lib/python3.6/dist-packages/numpy/core/_asarray.py\u001b[0m in \u001b[0;36masarray\u001b[0;34m(a, dtype, order)\u001b[0m\n\u001b[1;32m     81\u001b[0m \u001b[0;34m\u001b[0m\u001b[0m\n\u001b[1;32m     82\u001b[0m     \"\"\"\n\u001b[0;32m---> 83\u001b[0;31m     \u001b[0;32mreturn\u001b[0m \u001b[0marray\u001b[0m\u001b[0;34m(\u001b[0m\u001b[0ma\u001b[0m\u001b[0;34m,\u001b[0m \u001b[0mdtype\u001b[0m\u001b[0;34m,\u001b[0m \u001b[0mcopy\u001b[0m\u001b[0;34m=\u001b[0m\u001b[0;32mFalse\u001b[0m\u001b[0;34m,\u001b[0m \u001b[0morder\u001b[0m\u001b[0;34m=\u001b[0m\u001b[0morder\u001b[0m\u001b[0;34m)\u001b[0m\u001b[0;34m\u001b[0m\u001b[0;34m\u001b[0m\u001b[0m\n\u001b[0m\u001b[1;32m     84\u001b[0m \u001b[0;34m\u001b[0m\u001b[0m\n\u001b[1;32m     85\u001b[0m \u001b[0;34m\u001b[0m\u001b[0m\n",
            "\u001b[0;31mValueError\u001b[0m: setting an array element with a sequence."
          ]
        }
      ]
    },
    {
      "cell_type": "code",
      "metadata": {
        "colab": {
          "base_uri": "https://localhost:8080/"
        },
        "id": "0-8mWyHye7FR",
        "outputId": "34f2b2c5-5838-44fd-e78a-91078da070ba"
      },
      "source": [
        "clean_sample = clean_corpus(Headline1+ ' ' + Desc1)\r\n",
        "sample = document_vectorizer(clean_sample, w2v, doc_action='tokenize')\r\n",
        "sample.shape"
      ],
      "execution_count": 169,
      "outputs": [
        {
          "output_type": "stream",
          "text": [
            "/usr/local/lib/python3.6/dist-packages/numpy/lib/function_base.py:380: RuntimeWarning: Mean of empty slice.\n",
            "  avg = a.mean(axis)\n",
            "/usr/local/lib/python3.6/dist-packages/numpy/core/_methods.py:170: RuntimeWarning: invalid value encountered in double_scalars\n",
            "  ret = ret.dtype.type(ret / rcount)\n",
            "/usr/local/lib/python3.6/dist-packages/ipykernel_launcher.py:29: VisibleDeprecationWarning: Creating an ndarray from ragged nested sequences (which is a list-or-tuple of lists-or-tuples-or ndarrays with different lengths or shapes) is deprecated. If you meant to do this, you must specify 'dtype=object' when creating the ndarray\n"
          ],
          "name": "stderr"
        },
        {
          "output_type": "execute_result",
          "data": {
            "text/plain": [
              "(260,)"
            ]
          },
          "metadata": {
            "tags": []
          },
          "execution_count": 169
        }
      ]
    },
    {
      "cell_type": "code",
      "metadata": {
        "id": "8h3-8L_WgD-B"
      },
      "source": [
        "wpt = WordPunctTokenizer()\r\n",
        "tokens = wpt.tokenize(clean_sample)"
      ],
      "execution_count": 162,
      "outputs": []
    },
    {
      "cell_type": "code",
      "metadata": {
        "colab": {
          "base_uri": "https://localhost:8080/"
        },
        "id": "67OMNOrAtTpU",
        "outputId": "400bb348-be59-4a55-cfe4-d400afffe804"
      },
      "source": [
        "tokens"
      ],
      "execution_count": 159,
      "outputs": [
        {
          "output_type": "execute_result",
          "data": {
            "text/plain": [
              "['tsunami',\n",
              " 'confirm',\n",
              " 'australian',\n",
              " 'agenc',\n",
              " 'magnitud',\n",
              " 'earthquak',\n",
              " 'south',\n",
              " 'pacif',\n",
              " 'earthquak',\n",
              " 'struck',\n",
              " 'south',\n",
              " 'pacif',\n",
              " 'gener',\n",
              " 'tsunami',\n",
              " 'australian',\n",
              " 'weather',\n",
              " 'agenc',\n",
              " 'confirm',\n",
              " 'tsunami',\n",
              " 'confirm',\n",
              " 'australian',\n",
              " 'bureau',\n",
              " 'meteorolog',\n",
              " 'said',\n",
              " 'tweet',\n",
              " 'warn',\n",
              " 'marin',\n",
              " 'threat',\n",
              " 'lord',\n",
              " 'howe',\n",
              " 'island',\n",
              " 'tsunami',\n",
              " 'affect',\n",
              " 'marin',\n",
              " 'area',\n",
              " 'commenc',\n",
              " 'aedt',\n",
              " 'thu',\n",
              " 'persist',\n",
              " 'sever',\n",
              " 'hour',\n",
              " 'tweet',\n",
              " 'read']"
            ]
          },
          "metadata": {
            "tags": []
          },
          "execution_count": 159
        }
      ]
    },
    {
      "cell_type": "code",
      "metadata": {
        "id": "0-lJdISDuaAn"
      },
      "source": [
        ""
      ],
      "execution_count": null,
      "outputs": []
    }
  ]
}