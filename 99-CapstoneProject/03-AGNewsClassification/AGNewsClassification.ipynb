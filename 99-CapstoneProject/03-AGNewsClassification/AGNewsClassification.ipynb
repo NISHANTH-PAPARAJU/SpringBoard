{
  "nbformat": 4,
  "nbformat_minor": 0,
  "metadata": {
    "colab": {
      "name": "AGNewsClassification.ipynb",
      "provenance": [],
      "collapsed_sections": [],
      "toc_visible": true,
      "mount_file_id": "1tA_RTHmDY17irnCNAKAjPYcPhn2WppSj",
      "authorship_tag": "ABX9TyOVLx+SN8eA4cCdsWFh+KWS",
      "include_colab_link": true
    },
    "kernelspec": {
      "name": "python3",
      "display_name": "Python 3"
    }
  },
  "cells": [
    {
      "cell_type": "markdown",
      "metadata": {
        "id": "view-in-github",
        "colab_type": "text"
      },
      "source": [
        "<a href=\"https://colab.research.google.com/github/NISHANTH-PAPARAJU/SpringBoard/blob/main/99-CapstoneProject/03-AGNewsClassification/AGNewsClassification.ipynb\" target=\"_parent\"><img src=\"https://colab.research.google.com/assets/colab-badge.svg\" alt=\"Open In Colab\"/></a>"
      ]
    },
    {
      "cell_type": "markdown",
      "metadata": {
        "id": "tm751cWFE0Tz"
      },
      "source": [
        "# AG News Classication"
      ]
    },
    {
      "cell_type": "markdown",
      "metadata": {
        "id": "JJmE7wtbE9JW"
      },
      "source": [
        "Steps:\r\n",
        "  1. Exploratory Data Analysis (EDA)\r\n",
        "  2. Data Preprocessing\r\n",
        "  3. Decide Strategy\r\n",
        "  4. Generate Word Embeddings (TFIDF, Word2Vec)\r\n",
        "  5. Evaluate the Best model (ML models, LSTM, Transformers) on Data Subset. (Metric - Accuracy)\r\n",
        "  6. Tuning the Best Model\r\n",
        "  7. Pickle the models for future use\r\n",
        "  8. Predictions\r\n"
      ]
    },
    {
      "cell_type": "markdown",
      "metadata": {
        "id": "EITVV1kVjS3x"
      },
      "source": [
        "## 1.Exploratory Data Analysis (EDA)"
      ]
    },
    {
      "cell_type": "code",
      "metadata": {
        "id": "VbK0uCcTElDi",
        "colab": {
          "base_uri": "https://localhost:8080/"
        },
        "outputId": "fdb9cc40-c825-4a16-f424-709e619c15b5"
      },
      "source": [
        "import pandas as pd\r\n",
        "import numpy as np\r\n",
        "import matplotlib.pyplot as plt\r\n",
        "import seaborn as sns\r\n",
        "import re\r\n",
        "import nltk\r\n",
        "from nltk.corpus import stopwords\r\n",
        "from nltk.tokenize import word_tokenize, WordPunctTokenizer\r\n",
        "from nltk.stem import PorterStemmer\r\n",
        "from nltk.stem import WordNetLemmatizer\r\n",
        "import string\r\n",
        "import time\r\n",
        "nltk.download('stopwords')\r\n",
        "nltk.download('punkt')\r\n",
        "nltk.download('wordnet')\r\n",
        "stop_words = stopwords.words('english')"
      ],
      "execution_count": 1,
      "outputs": [
        {
          "output_type": "stream",
          "text": [
            "[nltk_data] Downloading package stopwords to /root/nltk_data...\n",
            "[nltk_data]   Unzipping corpora/stopwords.zip.\n",
            "[nltk_data] Downloading package punkt to /root/nltk_data...\n",
            "[nltk_data]   Unzipping tokenizers/punkt.zip.\n",
            "[nltk_data] Downloading package wordnet to /root/nltk_data...\n",
            "[nltk_data]   Unzipping corpora/wordnet.zip.\n"
          ],
          "name": "stdout"
        }
      ]
    },
    {
      "cell_type": "code",
      "metadata": {
        "id": "134XFrOaFvmn"
      },
      "source": [
        "from sklearn.feature_extraction.text import TfidfVectorizer\r\n",
        "from gensim.models import word2vec"
      ],
      "execution_count": 2,
      "outputs": []
    },
    {
      "cell_type": "markdown",
      "metadata": {
        "id": "WMq_LrKfk_z6"
      },
      "source": [
        "Open Readme & Classes Files and read through them."
      ]
    },
    {
      "cell_type": "code",
      "metadata": {
        "id": "7-mFbBgtEtzT"
      },
      "source": [
        "with open('/content/drive/MyDrive/Colab Notebooks/Data/AGNews/readme.txt', 'r') as f:\r\n",
        "  readme = f.read()\r\n",
        "with open('/content/drive/MyDrive/Colab Notebooks/Data/AGNews/classes.txt', 'r') as f:\r\n",
        "  classes = f.read()"
      ],
      "execution_count": 3,
      "outputs": []
    },
    {
      "cell_type": "code",
      "metadata": {
        "colab": {
          "base_uri": "https://localhost:8080/",
          "height": 124
        },
        "id": "eHtAHRgvlP-b",
        "outputId": "e37e4613-e96a-4e23-b27d-6240ca95c807"
      },
      "source": [
        "readme"
      ],
      "execution_count": 4,
      "outputs": [
        {
          "output_type": "execute_result",
          "data": {
            "application/vnd.google.colaboratory.intrinsic+json": {
              "type": "string"
            },
            "text/plain": [
              "'AG\\'s News Topic Classification Dataset\\n\\nVersion 3, Updated 09/09/2015\\n\\n\\nORIGIN\\n\\nAG is a collection of more than 1 million news articles. News articles have been gathered from more than 2000  news sources by ComeToMyHead in more than 1 year of activity. ComeToMyHead is an academic news search engine which has been running since July, 2004. The dataset is provided by the academic comunity for research purposes in data mining (clustering, classification, etc), information retrieval (ranking, search, etc), xml, data compression, data streaming, and any other non-commercial activity. For more information, please refer to the link http://www.di.unipi.it/~gulli/AG_corpus_of_news_articles.html .\\n\\nThe AG\\'s news topic classification dataset is constructed by Xiang Zhang (xiang.zhang@nyu.edu) from the dataset above. It is used as a text classification benchmark in the following paper: Xiang Zhang, Junbo Zhao, Yann LeCun. Character-level Convolutional Networks for Text Classification. Advances in Neural Information Processing Systems 28 (NIPS 2015).\\n\\n\\nDESCRIPTION\\n\\nThe AG\\'s news topic classification dataset is constructed by choosing 4 largest classes from the original corpus. Each class contains 30,000 training samples and 1,900 testing samples. The total number of training samples is 120,000 and testing 7,600.\\n\\nThe file classes.txt contains a list of classes corresponding to each label.\\n\\nThe files train.csv and test.csv contain all the training samples as comma-sparated values. There are 3 columns in them, corresponding to class index (1 to 4), title and description. The title and description are escaped using double quotes (\"), and any internal double quote is escaped by 2 double quotes (\"\"). New lines are escaped by a backslash followed with an \"n\" character, that is \"\\\\n\".\\n'"
            ]
          },
          "metadata": {
            "tags": []
          },
          "execution_count": 4
        }
      ]
    },
    {
      "cell_type": "code",
      "metadata": {
        "colab": {
          "base_uri": "https://localhost:8080/",
          "height": 35
        },
        "id": "W2byhDL8lSjj",
        "outputId": "50d5746c-2555-4b05-e375-6a0a9113c16c"
      },
      "source": [
        "classes"
      ],
      "execution_count": 5,
      "outputs": [
        {
          "output_type": "execute_result",
          "data": {
            "application/vnd.google.colaboratory.intrinsic+json": {
              "type": "string"
            },
            "text/plain": [
              "'World\\nSports\\nBusiness\\nSci/Tech\\n'"
            ]
          },
          "metadata": {
            "tags": []
          },
          "execution_count": 5
        }
      ]
    },
    {
      "cell_type": "code",
      "metadata": {
        "colab": {
          "base_uri": "https://localhost:8080/"
        },
        "id": "mHIpVvhZlT4-",
        "outputId": "89c543bc-0dc6-4573-b70b-e9982dc3cc2e"
      },
      "source": [
        "labels = classes.split(sep='\\n')\r\n",
        "labels.pop() #Removing the Empty item at the last\r\n",
        "labels"
      ],
      "execution_count": 6,
      "outputs": [
        {
          "output_type": "execute_result",
          "data": {
            "text/plain": [
              "['World', 'Sports', 'Business', 'Sci/Tech']"
            ]
          },
          "metadata": {
            "tags": []
          },
          "execution_count": 6
        }
      ]
    },
    {
      "cell_type": "markdown",
      "metadata": {
        "id": "afRVcjRKlymR"
      },
      "source": [
        "> **Inferences**:\r\n",
        ">*   There are 4 classes/labels ('World', 'Sports', 'Business', 'Sci Tech')\r\n",
        "\r\n"
      ]
    },
    {
      "cell_type": "markdown",
      "metadata": {
        "id": "d-WEEIhTmpzT"
      },
      "source": [
        "### Load the dataset"
      ]
    },
    {
      "cell_type": "code",
      "metadata": {
        "colab": {
          "base_uri": "https://localhost:8080/",
          "height": 195
        },
        "id": "UB_GFwJzljNq",
        "outputId": "32ecf763-6780-4605-a6e1-9341715ed7f7"
      },
      "source": [
        "train_df = pd.read_csv('/content/drive/MyDrive/Colab Notebooks/Data/AGNews/train.csv', names=['Category', 'HeadLine', 'Short Description'])\r\n",
        "train_df.head()"
      ],
      "execution_count": 7,
      "outputs": [
        {
          "output_type": "execute_result",
          "data": {
            "text/html": [
              "<div>\n",
              "<style scoped>\n",
              "    .dataframe tbody tr th:only-of-type {\n",
              "        vertical-align: middle;\n",
              "    }\n",
              "\n",
              "    .dataframe tbody tr th {\n",
              "        vertical-align: top;\n",
              "    }\n",
              "\n",
              "    .dataframe thead th {\n",
              "        text-align: right;\n",
              "    }\n",
              "</style>\n",
              "<table border=\"1\" class=\"dataframe\">\n",
              "  <thead>\n",
              "    <tr style=\"text-align: right;\">\n",
              "      <th></th>\n",
              "      <th>Category</th>\n",
              "      <th>HeadLine</th>\n",
              "      <th>Short Description</th>\n",
              "    </tr>\n",
              "  </thead>\n",
              "  <tbody>\n",
              "    <tr>\n",
              "      <th>0</th>\n",
              "      <td>3</td>\n",
              "      <td>Wall St. Bears Claw Back Into the Black (Reuters)</td>\n",
              "      <td>Reuters - Short-sellers, Wall Street's dwindli...</td>\n",
              "    </tr>\n",
              "    <tr>\n",
              "      <th>1</th>\n",
              "      <td>3</td>\n",
              "      <td>Carlyle Looks Toward Commercial Aerospace (Reu...</td>\n",
              "      <td>Reuters - Private investment firm Carlyle Grou...</td>\n",
              "    </tr>\n",
              "    <tr>\n",
              "      <th>2</th>\n",
              "      <td>3</td>\n",
              "      <td>Oil and Economy Cloud Stocks' Outlook (Reuters)</td>\n",
              "      <td>Reuters - Soaring crude prices plus worries\\ab...</td>\n",
              "    </tr>\n",
              "    <tr>\n",
              "      <th>3</th>\n",
              "      <td>3</td>\n",
              "      <td>Iraq Halts Oil Exports from Main Southern Pipe...</td>\n",
              "      <td>Reuters - Authorities have halted oil export\\f...</td>\n",
              "    </tr>\n",
              "    <tr>\n",
              "      <th>4</th>\n",
              "      <td>3</td>\n",
              "      <td>Oil prices soar to all-time record, posing new...</td>\n",
              "      <td>AFP - Tearaway world oil prices, toppling reco...</td>\n",
              "    </tr>\n",
              "  </tbody>\n",
              "</table>\n",
              "</div>"
            ],
            "text/plain": [
              "   Category  ...                                  Short Description\n",
              "0         3  ...  Reuters - Short-sellers, Wall Street's dwindli...\n",
              "1         3  ...  Reuters - Private investment firm Carlyle Grou...\n",
              "2         3  ...  Reuters - Soaring crude prices plus worries\\ab...\n",
              "3         3  ...  Reuters - Authorities have halted oil export\\f...\n",
              "4         3  ...  AFP - Tearaway world oil prices, toppling reco...\n",
              "\n",
              "[5 rows x 3 columns]"
            ]
          },
          "metadata": {
            "tags": []
          },
          "execution_count": 7
        }
      ]
    },
    {
      "cell_type": "code",
      "metadata": {
        "colab": {
          "base_uri": "https://localhost:8080/",
          "height": 195
        },
        "id": "NTGCR1wxnGQa",
        "outputId": "be9f0a97-32cd-468b-e5df-f950f69e4909"
      },
      "source": [
        "test_df = pd.read_csv('/content/drive/MyDrive/Colab Notebooks/Data/AGNews/test.csv',names=['Category', 'HeadLine', 'Short Description'])\r\n",
        "test_df.head()"
      ],
      "execution_count": 8,
      "outputs": [
        {
          "output_type": "execute_result",
          "data": {
            "text/html": [
              "<div>\n",
              "<style scoped>\n",
              "    .dataframe tbody tr th:only-of-type {\n",
              "        vertical-align: middle;\n",
              "    }\n",
              "\n",
              "    .dataframe tbody tr th {\n",
              "        vertical-align: top;\n",
              "    }\n",
              "\n",
              "    .dataframe thead th {\n",
              "        text-align: right;\n",
              "    }\n",
              "</style>\n",
              "<table border=\"1\" class=\"dataframe\">\n",
              "  <thead>\n",
              "    <tr style=\"text-align: right;\">\n",
              "      <th></th>\n",
              "      <th>Category</th>\n",
              "      <th>HeadLine</th>\n",
              "      <th>Short Description</th>\n",
              "    </tr>\n",
              "  </thead>\n",
              "  <tbody>\n",
              "    <tr>\n",
              "      <th>0</th>\n",
              "      <td>3</td>\n",
              "      <td>Fears for T N pension after talks</td>\n",
              "      <td>Unions representing workers at Turner   Newall...</td>\n",
              "    </tr>\n",
              "    <tr>\n",
              "      <th>1</th>\n",
              "      <td>4</td>\n",
              "      <td>The Race is On: Second Private Team Sets Launc...</td>\n",
              "      <td>SPACE.com - TORONTO, Canada -- A second\\team o...</td>\n",
              "    </tr>\n",
              "    <tr>\n",
              "      <th>2</th>\n",
              "      <td>4</td>\n",
              "      <td>Ky. Company Wins Grant to Study Peptides (AP)</td>\n",
              "      <td>AP - A company founded by a chemistry research...</td>\n",
              "    </tr>\n",
              "    <tr>\n",
              "      <th>3</th>\n",
              "      <td>4</td>\n",
              "      <td>Prediction Unit Helps Forecast Wildfires (AP)</td>\n",
              "      <td>AP - It's barely dawn when Mike Fitzpatrick st...</td>\n",
              "    </tr>\n",
              "    <tr>\n",
              "      <th>4</th>\n",
              "      <td>4</td>\n",
              "      <td>Calif. Aims to Limit Farm-Related Smog (AP)</td>\n",
              "      <td>AP - Southern California's smog-fighting agenc...</td>\n",
              "    </tr>\n",
              "  </tbody>\n",
              "</table>\n",
              "</div>"
            ],
            "text/plain": [
              "   Category  ...                                  Short Description\n",
              "0         3  ...  Unions representing workers at Turner   Newall...\n",
              "1         4  ...  SPACE.com - TORONTO, Canada -- A second\\team o...\n",
              "2         4  ...  AP - A company founded by a chemistry research...\n",
              "3         4  ...  AP - It's barely dawn when Mike Fitzpatrick st...\n",
              "4         4  ...  AP - Southern California's smog-fighting agenc...\n",
              "\n",
              "[5 rows x 3 columns]"
            ]
          },
          "metadata": {
            "tags": []
          },
          "execution_count": 8
        }
      ]
    },
    {
      "cell_type": "markdown",
      "metadata": {
        "id": "ScXiX7rlqGKg"
      },
      "source": [
        "### Dataset count analysis"
      ]
    },
    {
      "cell_type": "code",
      "metadata": {
        "colab": {
          "base_uri": "https://localhost:8080/"
        },
        "id": "gyYwSfq9nR4s",
        "outputId": "683fd39c-dd38-4181-ca22-62149e1fa5c1"
      },
      "source": [
        "print(f'Training Data: {train_df.shape} | Testing Data: {test_df.shape}')"
      ],
      "execution_count": 9,
      "outputs": [
        {
          "output_type": "stream",
          "text": [
            "Training Data: (120000, 3) | Testing Data: (7600, 3)\n"
          ],
          "name": "stdout"
        }
      ]
    },
    {
      "cell_type": "code",
      "metadata": {
        "colab": {
          "base_uri": "https://localhost:8080/"
        },
        "id": "xqVsSzlGnc0-",
        "outputId": "aa8f0c15-67e9-48f8-c27c-4d4653c127d2"
      },
      "source": [
        "train_df['Category'].value_counts()"
      ],
      "execution_count": 10,
      "outputs": [
        {
          "output_type": "execute_result",
          "data": {
            "text/plain": [
              "4    30000\n",
              "3    30000\n",
              "2    30000\n",
              "1    30000\n",
              "Name: Category, dtype: int64"
            ]
          },
          "metadata": {
            "tags": []
          },
          "execution_count": 10
        }
      ]
    },
    {
      "cell_type": "code",
      "metadata": {
        "colab": {
          "base_uri": "https://localhost:8080/",
          "height": 280
        },
        "id": "-XcrXNVsn9Y-",
        "outputId": "d0178b52-8dc8-41d1-839f-c8909c9c6b39"
      },
      "source": [
        "train_df['Category'].value_counts().plot(kind='bar')"
      ],
      "execution_count": 11,
      "outputs": [
        {
          "output_type": "execute_result",
          "data": {
            "text/plain": [
              "<matplotlib.axes._subplots.AxesSubplot at 0x7f6f73594c88>"
            ]
          },
          "metadata": {
            "tags": []
          },
          "execution_count": 11
        },
        {
          "output_type": "display_data",
          "data": {
            "image/png": "[encoded data removed]",
            "text/plain": [
              "<Figure size 432x288 with 1 Axes>"
            ]
          },
          "metadata": {
            "tags": [],
            "needs_background": "light"
          }
        }
      ]
    },
    {
      "cell_type": "code",
      "metadata": {
        "colab": {
          "base_uri": "https://localhost:8080/"
        },
        "id": "ysjuHLx0o08M",
        "outputId": "8f3b09f2-9ea6-42d9-ca8b-17301930d272"
      },
      "source": [
        "test_df['Category'].value_counts()"
      ],
      "execution_count": 12,
      "outputs": [
        {
          "output_type": "execute_result",
          "data": {
            "text/plain": [
              "3    1900\n",
              "2    1900\n",
              "1    1900\n",
              "4    1900\n",
              "Name: Category, dtype: int64"
            ]
          },
          "metadata": {
            "tags": []
          },
          "execution_count": 12
        }
      ]
    },
    {
      "cell_type": "code",
      "metadata": {
        "colab": {
          "base_uri": "https://localhost:8080/",
          "height": 280
        },
        "id": "oBgPudjUpRgm",
        "outputId": "b1a262e8-469f-49a6-9021-9316df8f7a27"
      },
      "source": [
        "test_df['Category'].value_counts().plot(kind='bar')"
      ],
      "execution_count": 13,
      "outputs": [
        {
          "output_type": "execute_result",
          "data": {
            "text/plain": [
              "<matplotlib.axes._subplots.AxesSubplot at 0x7f6f79108438>"
            ]
          },
          "metadata": {
            "tags": []
          },
          "execution_count": 13
        },
        {
          "output_type": "display_data",
          "data": {
            "image/png": "[encoded data removed]",
            "text/plain": [
              "<Figure size 432x288 with 1 Axes>"
            ]
          },
          "metadata": {
            "tags": [],
            "needs_background": "light"
          }
        }
      ]
    },
    {
      "cell_type": "markdown",
      "metadata": {
        "id": "3Tj-_NYIoFPR"
      },
      "source": [
        "> **Inferences**:\r\n",
        "> * The training dataset consists of 120000 samples, with a well balanced class size of 30000 samples per class.\r\n",
        "* The test dataset consists of 7600 Samples, with a well balanced class size of 1900 samples per class.\r\n",
        "* In the real world problem it is highly unlikely to get a such well balanced data. However, the multi class classification (4 classes) is more closer to the real world problems."
      ]
    },
    {
      "cell_type": "markdown",
      "metadata": {
        "id": "yp9wY5HQqOZp"
      },
      "source": [
        "### Visual Analysis of News Articles"
      ]
    },
    {
      "cell_type": "markdown",
      "metadata": {
        "id": "1gxLViQetGpJ"
      },
      "source": [
        "#### Short Descriptions"
      ]
    },
    {
      "cell_type": "code",
      "metadata": {
        "colab": {
          "base_uri": "https://localhost:8080/",
          "height": 35
        },
        "id": "xyjj8oiSoBc3",
        "outputId": "cbee54be-674a-4e81-b8b9-f0da8e5fdbce"
      },
      "source": [
        "train_df.iloc[0][2]"
      ],
      "execution_count": 14,
      "outputs": [
        {
          "output_type": "execute_result",
          "data": {
            "application/vnd.google.colaboratory.intrinsic+json": {
              "type": "string"
            },
            "text/plain": [
              "\"Reuters - Short-sellers, Wall Street's dwindling\\\\band of ultra-cynics, are seeing green again.\""
            ]
          },
          "metadata": {
            "tags": []
          },
          "execution_count": 14
        }
      ]
    },
    {
      "cell_type": "code",
      "metadata": {
        "colab": {
          "base_uri": "https://localhost:8080/",
          "height": 53
        },
        "id": "7sBGZEDAqS2H",
        "outputId": "ec8b08a1-f3d2-4f0d-f713-66e08e3c73e8"
      },
      "source": [
        "train_df.iloc[500][2]"
      ],
      "execution_count": 15,
      "outputs": [
        {
          "output_type": "execute_result",
          "data": {
            "application/vnd.google.colaboratory.intrinsic+json": {
              "type": "string"
            },
            "text/plain": [
              "\"AP - Democratic presidential candidate John Kerry does not plan to visit Florida in the aftermath of Hurricane Charley because he's concerned his campaign entourage could distract from recovery efforts, he said Saturday.\""
            ]
          },
          "metadata": {
            "tags": []
          },
          "execution_count": 15
        }
      ]
    },
    {
      "cell_type": "code",
      "metadata": {
        "colab": {
          "base_uri": "https://localhost:8080/",
          "height": 53
        },
        "id": "cSlf-vN5qU8c",
        "outputId": "c755a744-513f-4814-9d1a-005b84f775e9"
      },
      "source": [
        "train_df.iloc[2121][2]"
      ],
      "execution_count": 16,
      "outputs": [
        {
          "output_type": "execute_result",
          "data": {
            "application/vnd.google.colaboratory.intrinsic+json": {
              "type": "string"
            },
            "text/plain": [
              "'IN a desperate attempt to spark some public interest in an England team that appears to be quickly losing its appeal, Sven-Gran Eriksson announced his starting line-up for the friendly against Ukraine at St James #39; Park a day earlier than expected. '"
            ]
          },
          "metadata": {
            "tags": []
          },
          "execution_count": 16
        }
      ]
    },
    {
      "cell_type": "code",
      "metadata": {
        "colab": {
          "base_uri": "https://localhost:8080/",
          "height": 53
        },
        "id": "R6Z6MalYqXPo",
        "outputId": "49c7f3a1-29ea-405a-d4d3-3d60fd51b3b1"
      },
      "source": [
        "train_df.iloc[12121][2]"
      ],
      "execution_count": 17,
      "outputs": [
        {
          "output_type": "execute_result",
          "data": {
            "application/vnd.google.colaboratory.intrinsic+json": {
              "type": "string"
            },
            "text/plain": [
              "\" UNITED NATIONS (Reuters) - Days before a U.N. deadline for  Sudan to disarm and prosecute those responsible for violence in  the country's Darfur region, nations are looking to the African  Union rather than any U.N. sanctions to curb further killing.\""
            ]
          },
          "metadata": {
            "tags": []
          },
          "execution_count": 17
        }
      ]
    },
    {
      "cell_type": "code",
      "metadata": {
        "colab": {
          "base_uri": "https://localhost:8080/",
          "height": 53
        },
        "id": "gXeQ7E0dqdmm",
        "outputId": "cee3bb56-2cc0-4c55-b338-62c060cdabf5"
      },
      "source": [
        "train_df.iloc[32323][2]"
      ],
      "execution_count": 18,
      "outputs": [
        {
          "output_type": "execute_result",
          "data": {
            "application/vnd.google.colaboratory.intrinsic+json": {
              "type": "string"
            },
            "text/plain": [
              "'Terry Francona deployed three Gold Glove winners in his infield for the first time yesterday at Yankee Stadium in hope that their defensive expertise would aid the cause of sinkerball pitcher Derek Lowe stats, news.'"
            ]
          },
          "metadata": {
            "tags": []
          },
          "execution_count": 18
        }
      ]
    },
    {
      "cell_type": "markdown",
      "metadata": {
        "id": "d3b0VV-vtX6J"
      },
      "source": [
        "#### Headlines"
      ]
    },
    {
      "cell_type": "code",
      "metadata": {
        "colab": {
          "base_uri": "https://localhost:8080/",
          "height": 35
        },
        "id": "XSNXjnpptU9e",
        "outputId": "67aeb6f3-830e-4303-ed5a-bfdce1b9c804"
      },
      "source": [
        "train_df.iloc[0][1]"
      ],
      "execution_count": 19,
      "outputs": [
        {
          "output_type": "execute_result",
          "data": {
            "application/vnd.google.colaboratory.intrinsic+json": {
              "type": "string"
            },
            "text/plain": [
              "'Wall St. Bears Claw Back Into the Black (Reuters)'"
            ]
          },
          "metadata": {
            "tags": []
          },
          "execution_count": 19
        }
      ]
    },
    {
      "cell_type": "code",
      "metadata": {
        "colab": {
          "base_uri": "https://localhost:8080/",
          "height": 35
        },
        "id": "Z4FALskAtU2H",
        "outputId": "3714959e-0ae3-4bf5-f4de-09d3b7f702a7"
      },
      "source": [
        "train_df.iloc[500][1]"
      ],
      "execution_count": 20,
      "outputs": [
        {
          "output_type": "execute_result",
          "data": {
            "application/vnd.google.colaboratory.intrinsic+json": {
              "type": "string"
            },
            "text/plain": [
              "'Kerry Campaign Helping With Fla. Recovery (AP)'"
            ]
          },
          "metadata": {
            "tags": []
          },
          "execution_count": 20
        }
      ]
    },
    {
      "cell_type": "code",
      "metadata": {
        "colab": {
          "base_uri": "https://localhost:8080/",
          "height": 35
        },
        "id": "7GqqN0k-tUvO",
        "outputId": "7f1411cf-358d-4033-be91-a601162cdee9"
      },
      "source": [
        "train_df.iloc[2121][1]"
      ],
      "execution_count": 21,
      "outputs": [
        {
          "output_type": "execute_result",
          "data": {
            "application/vnd.google.colaboratory.intrinsic+json": {
              "type": "string"
            },
            "text/plain": [
              "'Are England fans are changing their Toon?'"
            ]
          },
          "metadata": {
            "tags": []
          },
          "execution_count": 21
        }
      ]
    },
    {
      "cell_type": "code",
      "metadata": {
        "colab": {
          "base_uri": "https://localhost:8080/",
          "height": 35
        },
        "id": "zCa89HTctUX3",
        "outputId": "ae8d8563-2787-43b0-88bc-949b48094264"
      },
      "source": [
        "train_df.iloc[12121][1]"
      ],
      "execution_count": 22,
      "outputs": [
        {
          "output_type": "execute_result",
          "data": {
            "application/vnd.google.colaboratory.intrinsic+json": {
              "type": "string"
            },
            "text/plain": [
              "'African Union Force Seen as Main Hope for Darfur'"
            ]
          },
          "metadata": {
            "tags": []
          },
          "execution_count": 22
        }
      ]
    },
    {
      "cell_type": "code",
      "metadata": {
        "colab": {
          "base_uri": "https://localhost:8080/",
          "height": 35
        },
        "id": "0meMYBwNti0H",
        "outputId": "3c84a3b2-832b-46cd-d811-1cbe56138622"
      },
      "source": [
        "train_df.iloc[32323][1]"
      ],
      "execution_count": 23,
      "outputs": [
        {
          "output_type": "execute_result",
          "data": {
            "application/vnd.google.colaboratory.intrinsic+json": {
              "type": "string"
            },
            "text/plain": [
              "'Lowe throws stinker, Yanks turn it around: Red Sox #39; momentum &lt;b&gt;...&lt;/b&gt;'"
            ]
          },
          "metadata": {
            "tags": []
          },
          "execution_count": 23
        }
      ]
    },
    {
      "cell_type": "markdown",
      "metadata": {
        "id": "fQBfZqS2qyfG"
      },
      "source": [
        "> **Inferences**:\r\n",
        "> * It looks that the starting words in Short Descriptions and last word in headlines is related to the news agency that the news article is taken from. But this is inconsistant, so cannot be removed.\r\n",
        "* There are common punctuations and stopwords which could be removed."
      ]
    },
    {
      "cell_type": "markdown",
      "metadata": {
        "id": "5zdYg0mGuYgk"
      },
      "source": [
        "## 2.Data Preprocessing"
      ]
    },
    {
      "cell_type": "markdown",
      "metadata": {
        "id": "bUaw39JqutHh"
      },
      "source": [
        "### Function to Clean Text"
      ]
    },
    {
      "cell_type": "code",
      "metadata": {
        "id": "XjMzKdadqqnn"
      },
      "source": [
        "def clean_corpus(corpus, tocase='lower', remove_punc=True, punctuations=list(string.punctuation), remove_whitespace =True,\r\n",
        "                 stopwords=stop_words, remove_numbers=True, remove_urls=True, lemmatize=False):\r\n",
        "    \"\"\"\r\n",
        "    Takes the corpus as input and performs the corpus cleaning as required,\r\n",
        "    then returns the detokenized corpus.\r\n",
        "    \"\"\"\r\n",
        "    cleaned_corpus = corpus\r\n",
        "    # Tokenize\r\n",
        "    tokens = word_tokenize(corpus)\r\n",
        "    \r\n",
        "    #Convert Multi Lingual Text\r\n",
        "    # will be done later\r\n",
        "    \r\n",
        "    # Convert the corpus to one case (lower or Upper)\r\n",
        "    valid_tokens = [token.lower() for token in tokens]\r\n",
        "    \r\n",
        "    # Remove Punctuations\r\n",
        "    if remove_punc:\r\n",
        "        valid_tokens = [token for token in valid_tokens if token not in punctuations]\r\n",
        "    \r\n",
        "    # Remove White Space\r\n",
        "        # will be done later\r\n",
        "        \r\n",
        "    # Remove Other Special Characters.\r\n",
        "    if remove_numbers:\r\n",
        "        valid_tokens = [token for token in valid_tokens if re.search('[0-9]+', token) is None]\r\n",
        "    \r\n",
        "    # Remove urls.\r\n",
        "    if remove_urls:\r\n",
        "        valid_tokens = [token for token in valid_tokens if re.search('https+|http+', token) is None]\r\n",
        "    \r\n",
        "    # Remove stop words\r\n",
        "    valid_tokens = [token for token in valid_tokens if token not in stop_words]\r\n",
        "    \r\n",
        "    #lemmatization / stemming\r\n",
        "    if lemmatize:\r\n",
        "        word_lem = WordNetLemmatizer()\r\n",
        "        valid_tokens = [word_lem.lemmatize(token) for token in valid_tokens]\r\n",
        "    else:\r\n",
        "        pst = PorterStemmer()\r\n",
        "        valid_tokens = [pst.stem(token) for token in valid_tokens]\r\n",
        "    \r\n",
        "    # De-tokenize\r\n",
        "    cleaned_corpus = \"\".join([\" \"+i if not i.startswith(\"'\") and i not in '!%\\'()*+,-./:;<=>?@[\\\\]^_`{|}~'\r\n",
        "                              else i for i in valid_tokens]).strip()\r\n",
        "    return cleaned_corpus\r\n",
        "    "
      ],
      "execution_count": 24,
      "outputs": []
    },
    {
      "cell_type": "code",
      "metadata": {
        "colab": {
          "base_uri": "https://localhost:8080/",
          "height": 35
        },
        "id": "kQCpIl7_tRN0",
        "outputId": "92d344a8-16e6-48c1-8fb7-dacc96409564"
      },
      "source": [
        "clean_corpus(train_df.iloc[32323][1])"
      ],
      "execution_count": 25,
      "outputs": [
        {
          "output_type": "execute_result",
          "data": {
            "application/vnd.google.colaboratory.intrinsic+json": {
              "type": "string"
            },
            "text/plain": [
              "'low throw stinker yank turn around red sox momentum lt b gt ... lt /b gt'"
            ]
          },
          "metadata": {
            "tags": []
          },
          "execution_count": 25
        }
      ]
    },
    {
      "cell_type": "markdown",
      "metadata": {
        "id": "LKe9wJN5zIbE"
      },
      "source": [
        "### Apply the function on the data"
      ]
    },
    {
      "cell_type": "code",
      "metadata": {
        "colab": {
          "base_uri": "https://localhost:8080/"
        },
        "id": "t-f46VcvvT_U",
        "outputId": "fa410672-4492-4edc-a6de-ace5036839e7"
      },
      "source": [
        "start = time.time()\r\n",
        "train_df['Clean Headline'] = train_df['HeadLine'].apply(lambda row: clean_corpus(row,lemmatize=True))\r\n",
        "train_df['Clean Description'] = train_df['Short Description'].apply(lambda row: clean_corpus(row,lemmatize=True))\r\n",
        "train_df['Clean Clubbed Article'] = train_df['Clean Headline'] + \" \" + train_df['Clean Description']\r\n",
        "end = time.time()\r\n",
        "print('Time Taken for processiong: ', (start - end))"
      ],
      "execution_count": 26,
      "outputs": [
        {
          "output_type": "stream",
          "text": [
            "Time Taken for processiong:  -81.59591484069824\n"
          ],
          "name": "stdout"
        }
      ]
    },
    {
      "cell_type": "code",
      "metadata": {
        "colab": {
          "base_uri": "https://localhost:8080/"
        },
        "id": "-RDT7Da10e3i",
        "outputId": "215a5ea8-b82a-4515-f4e2-89e7be8e0fe9"
      },
      "source": [
        "start = time.time()\r\n",
        "test_df['Clean Headline'] = test_df['HeadLine'].apply(lambda row: clean_corpus(row,lemmatize=True))\r\n",
        "test_df['Clean Description'] = test_df['Short Description'].apply(lambda row: clean_corpus(row,lemmatize=True))\r\n",
        "test_df['Clean Clubbed Article'] = test_df['Clean Headline'] + \" \" + test_df['Clean Description']\r\n",
        "end = time.time()\r\n",
        "print('Time Taken for processiong: ', (end - start), ' secs')"
      ],
      "execution_count": 27,
      "outputs": [
        {
          "output_type": "stream",
          "text": [
            "Time Taken for processiong:  5.094951629638672  secs\n"
          ],
          "name": "stdout"
        }
      ]
    },
    {
      "cell_type": "markdown",
      "metadata": {
        "id": "qjAJjO_W4gp1"
      },
      "source": [
        "## 3.Decide Strategy"
      ]
    },
    {
      "cell_type": "code",
      "metadata": {
        "id": "Q7sN2eoY4Wc7"
      },
      "source": [
        "clubbed_articles = train_df['Clean Clubbed Article'].apply(lambda art: len(word_tokenize(art)))"
      ],
      "execution_count": 28,
      "outputs": []
    },
    {
      "cell_type": "code",
      "metadata": {
        "colab": {
          "base_uri": "https://localhost:8080/",
          "height": 265
        },
        "id": "57N5wCmO5tmY",
        "outputId": "a98e13e0-ef32-447d-c6d4-2731e303c2a2"
      },
      "source": [
        "plt.hist(clubbed_articles, bins=10);"
      ],
      "execution_count": 29,
      "outputs": [
        {
          "output_type": "display_data",
          "data": {
            "image/png": "[encoded data removed]",
            "text/plain": [
              "<Figure size 432x288 with 1 Axes>"
            ]
          },
          "metadata": {
            "tags": [],
            "needs_background": "light"
          }
        }
      ]
    },
    {
      "cell_type": "code",
      "metadata": {
        "colab": {
          "base_uri": "https://localhost:8080/"
        },
        "id": "2_7eJAwY8XVz",
        "outputId": "5fd8340b-8177-46cb-bbd5-ba73d42e3295"
      },
      "source": [
        "print(\"maximum no of words in Clubbed article (training data): \", max(clubbed_articles))\r\n",
        "print(\"minimum no of words in Clubbed article (training data): \", min(clubbed_articles))"
      ],
      "execution_count": 30,
      "outputs": [
        {
          "output_type": "stream",
          "text": [
            "maximum no of words in Clubbed article (training data):  160\n",
            "minimum no of words in Clubbed article (training data):  7\n"
          ],
          "name": "stdout"
        }
      ]
    },
    {
      "cell_type": "markdown",
      "metadata": {
        "id": "HguKDYH88L85"
      },
      "source": [
        ">**Inferences:**\r\n",
        ">* Minimum no of words is 7 and the maximum number of words is 160, so there are no empty dataset and the maximum number is also well with in limits of 512 words to apply transformers.\r\n",
        "* As the clubbed article (clubbing Headline and Description) is well within limits. We can make use of the clubbed article for training our model.\r\n",
        "* Stategy:\r\n",
        "  - Take Headline & Description as input\r\n",
        "  - Clean the articles and club them together\r\n",
        "  - perform word embedding (using w2v/Glove/fasttest)\r\n",
        "  - Take a subset of data from the training set.\r\n",
        "  - Evaluate different models on this subset.\r\n",
        "  - pick the best model and then do training of the entire dataset.\r\n",
        "\r\n"
      ]
    },
    {
      "cell_type": "markdown",
      "metadata": {
        "id": "ltPSSSiYAX1C"
      },
      "source": [
        "## 4.Generate Word Embeddings (TFIDF, Word2Vec)"
      ]
    },
    {
      "cell_type": "markdown",
      "metadata": {
        "id": "pCyj4XCiFVmm"
      },
      "source": [
        "### TFIDF"
      ]
    },
    {
      "cell_type": "code",
      "metadata": {
        "id": "yIBc8z_-8ELP"
      },
      "source": [
        "def vectorize(vec, X_train, X_test):\r\n",
        "    print(\"Vectorization Started...........\")\r\n",
        "    X_train_vec = vec.fit_transform(X_train)\r\n",
        "    X_test_vec = vec.transform(X_test)\r\n",
        "    print(\"Vectorization Completed.\")\r\n",
        "    return X_train_vec, X_test_vec, vec"
      ],
      "execution_count": 31,
      "outputs": []
    },
    {
      "cell_type": "code",
      "metadata": {
        "id": "Dd8bYXSy8KoO"
      },
      "source": [
        "def transform_X(vec, X_):\r\n",
        "    X_trans = vec.transform(X_)\r\n",
        "    return X_trans"
      ],
      "execution_count": 32,
      "outputs": []
    },
    {
      "cell_type": "code",
      "metadata": {
        "colab": {
          "base_uri": "https://localhost:8080/"
        },
        "id": "Rg6spgpAGmdo",
        "outputId": "30cd3e71-ac4b-43d7-b52c-0fbec285183a"
      },
      "source": [
        "X_train = train_df['Clean Clubbed Article']\r\n",
        "y_train = train_df['Category']\r\n",
        "\r\n",
        "X_test = test_df['Clean Clubbed Article']\r\n",
        "y_test = test_df['Category']\r\n",
        "\r\n",
        "X_train.shape, y_train.shape, X_test.shape, y_test.shape"
      ],
      "execution_count": 33,
      "outputs": [
        {
          "output_type": "execute_result",
          "data": {
            "text/plain": [
              "((120000,), (120000,), (7600,), (7600,))"
            ]
          },
          "metadata": {
            "tags": []
          },
          "execution_count": 33
        }
      ]
    },
    {
      "cell_type": "code",
      "metadata": {
        "colab": {
          "base_uri": "https://localhost:8080/"
        },
        "id": "8iTIf2sRF1GZ",
        "outputId": "91fc0767-9d7e-48ef-c019-f5574096b16b"
      },
      "source": [
        "tfidf = TfidfVectorizer()\r\n",
        "\r\n",
        "X_train_tfidf, X_test_tfidf, tfidf_vec = vectorize(TfidfVectorizer(), X_train, X_test)"
      ],
      "execution_count": 34,
      "outputs": [
        {
          "output_type": "stream",
          "text": [
            "Vectorization Started...........\n",
            "Vectorization Completed.\n"
          ],
          "name": "stdout"
        }
      ]
    },
    {
      "cell_type": "markdown",
      "metadata": {
        "id": "xvk1tVGuYjDG"
      },
      "source": [
        "#### Document Term Matrix"
      ]
    },
    {
      "cell_type": "code",
      "metadata": {
        "colab": {
          "base_uri": "https://localhost:8080/",
          "height": 244
        },
        "id": "v7OiDb0eaVpH",
        "outputId": "a3d90a40-1a64-4bdc-e2f1-d02cd145705b"
      },
      "source": [
        "# Unable to process as entire data at once as it is crashing the system due to limited RAM.\r\n",
        "pd.DataFrame(X_train_tfidf[:5].toarray(), columns=tfidf_vec.get_feature_names())"
      ],
      "execution_count": 35,
      "outputs": [
        {
          "output_type": "execute_result",
          "data": {
            "text/html": [
              "<div>\n",
              "<style scoped>\n",
              "    .dataframe tbody tr th:only-of-type {\n",
              "        vertical-align: middle;\n",
              "    }\n",
              "\n",
              "    .dataframe tbody tr th {\n",
              "        vertical-align: top;\n",
              "    }\n",
              "\n",
              "    .dataframe thead th {\n",
              "        text-align: right;\n",
              "    }\n",
              "</style>\n",
              "<table border=\"1\" class=\"dataframe\">\n",
              "  <thead>\n",
              "    <tr style=\"text-align: right;\">\n",
              "      <th></th>\n",
              "      <th>_but</th>\n",
              "      <th>_december</th>\n",
              "      <th>_new</th>\n",
              "      <th>_not</th>\n",
              "      <th>_nov</th>\n",
              "      <th>_top</th>\n",
              "      <th>aa</th>\n",
              "      <th>aaa</th>\n",
              "      <th>aac</th>\n",
              "      <th>aacb</th>\n",
              "      <th>aachen</th>\n",
              "      <th>aai</th>\n",
              "      <th>aaii</th>\n",
              "      <th>aal</th>\n",
              "      <th>aalborg</th>\n",
              "      <th>aaliyah</th>\n",
              "      <th>aap</th>\n",
              "      <th>aapl</th>\n",
              "      <th>aapt</th>\n",
              "      <th>aarde</th>\n",
              "      <th>aardsma</th>\n",
              "      <th>aaron</th>\n",
              "      <th>aarp</th>\n",
              "      <th>aarrett</th>\n",
              "      <th>aasketball</th>\n",
              "      <th>aathar</th>\n",
              "      <th>aattacks</th>\n",
              "      <th>aau</th>\n",
              "      <th>ab</th>\n",
              "      <th>aba</th>\n",
              "      <th>ababa</th>\n",
              "      <th>abacha</th>\n",
              "      <th>abaco</th>\n",
              "      <th>abagnale</th>\n",
              "      <th>abakus</th>\n",
              "      <th>abandon</th>\n",
              "      <th>abandoned</th>\n",
              "      <th>abandoning</th>\n",
              "      <th>abandonment</th>\n",
              "      <th>abare</th>\n",
              "      <th>...</th>\n",
              "      <th>zoran</th>\n",
              "      <th>zorba</th>\n",
              "      <th>zorilla</th>\n",
              "      <th>zoroastrianism</th>\n",
              "      <th>zos</th>\n",
              "      <th>zotinca</th>\n",
              "      <th>zovko</th>\n",
              "      <th>zoysa</th>\n",
              "      <th>zpl</th>\n",
              "      <th>zseries</th>\n",
              "      <th>zsuzsanna</th>\n",
              "      <th>zte</th>\n",
              "      <th>ztl</th>\n",
              "      <th>zu</th>\n",
              "      <th>zubrin</th>\n",
              "      <th>zucchini</th>\n",
              "      <th>zuckerman</th>\n",
              "      <th>zuhua</th>\n",
              "      <th>zukauskas</th>\n",
              "      <th>zulf</th>\n",
              "      <th>zuloaga</th>\n",
              "      <th>zuma</th>\n",
              "      <th>zundel</th>\n",
              "      <th>zuo</th>\n",
              "      <th>zurab</th>\n",
              "      <th>zurich</th>\n",
              "      <th>zurine</th>\n",
              "      <th>zvezda</th>\n",
              "      <th>zviadauri</th>\n",
              "      <th>zvidauri</th>\n",
              "      <th>zvonareva</th>\n",
              "      <th>zwick</th>\n",
              "      <th>zwiki</th>\n",
              "      <th>zydrunas</th>\n",
              "      <th>zygmunt</th>\n",
              "      <th>zyman</th>\n",
              "      <th>zyprexa</th>\n",
              "      <th>zz</th>\n",
              "      <th>zzz</th>\n",
              "      <th>zzzzzz</th>\n",
              "    </tr>\n",
              "  </thead>\n",
              "  <tbody>\n",
              "    <tr>\n",
              "      <th>0</th>\n",
              "      <td>0.0</td>\n",
              "      <td>0.0</td>\n",
              "      <td>0.0</td>\n",
              "      <td>0.0</td>\n",
              "      <td>0.0</td>\n",
              "      <td>0.0</td>\n",
              "      <td>0.0</td>\n",
              "      <td>0.0</td>\n",
              "      <td>0.0</td>\n",
              "      <td>0.0</td>\n",
              "      <td>0.0</td>\n",
              "      <td>0.0</td>\n",
              "      <td>0.0</td>\n",
              "      <td>0.0</td>\n",
              "      <td>0.0</td>\n",
              "      <td>0.0</td>\n",
              "      <td>0.0</td>\n",
              "      <td>0.0</td>\n",
              "      <td>0.0</td>\n",
              "      <td>0.0</td>\n",
              "      <td>0.0</td>\n",
              "      <td>0.0</td>\n",
              "      <td>0.0</td>\n",
              "      <td>0.0</td>\n",
              "      <td>0.0</td>\n",
              "      <td>0.0</td>\n",
              "      <td>0.0</td>\n",
              "      <td>0.0</td>\n",
              "      <td>0.0</td>\n",
              "      <td>0.0</td>\n",
              "      <td>0.0</td>\n",
              "      <td>0.0</td>\n",
              "      <td>0.0</td>\n",
              "      <td>0.0</td>\n",
              "      <td>0.0</td>\n",
              "      <td>0.0</td>\n",
              "      <td>0.0</td>\n",
              "      <td>0.0</td>\n",
              "      <td>0.0</td>\n",
              "      <td>0.0</td>\n",
              "      <td>...</td>\n",
              "      <td>0.0</td>\n",
              "      <td>0.0</td>\n",
              "      <td>0.0</td>\n",
              "      <td>0.0</td>\n",
              "      <td>0.0</td>\n",
              "      <td>0.0</td>\n",
              "      <td>0.0</td>\n",
              "      <td>0.0</td>\n",
              "      <td>0.0</td>\n",
              "      <td>0.0</td>\n",
              "      <td>0.0</td>\n",
              "      <td>0.0</td>\n",
              "      <td>0.0</td>\n",
              "      <td>0.0</td>\n",
              "      <td>0.0</td>\n",
              "      <td>0.0</td>\n",
              "      <td>0.0</td>\n",
              "      <td>0.0</td>\n",
              "      <td>0.0</td>\n",
              "      <td>0.0</td>\n",
              "      <td>0.0</td>\n",
              "      <td>0.0</td>\n",
              "      <td>0.0</td>\n",
              "      <td>0.0</td>\n",
              "      <td>0.0</td>\n",
              "      <td>0.0</td>\n",
              "      <td>0.0</td>\n",
              "      <td>0.0</td>\n",
              "      <td>0.0</td>\n",
              "      <td>0.0</td>\n",
              "      <td>0.0</td>\n",
              "      <td>0.0</td>\n",
              "      <td>0.0</td>\n",
              "      <td>0.0</td>\n",
              "      <td>0.0</td>\n",
              "      <td>0.0</td>\n",
              "      <td>0.0</td>\n",
              "      <td>0.0</td>\n",
              "      <td>0.0</td>\n",
              "      <td>0.0</td>\n",
              "    </tr>\n",
              "    <tr>\n",
              "      <th>1</th>\n",
              "      <td>0.0</td>\n",
              "      <td>0.0</td>\n",
              "      <td>0.0</td>\n",
              "      <td>0.0</td>\n",
              "      <td>0.0</td>\n",
              "      <td>0.0</td>\n",
              "      <td>0.0</td>\n",
              "      <td>0.0</td>\n",
              "      <td>0.0</td>\n",
              "      <td>0.0</td>\n",
              "      <td>0.0</td>\n",
              "      <td>0.0</td>\n",
              "      <td>0.0</td>\n",
              "      <td>0.0</td>\n",
              "      <td>0.0</td>\n",
              "      <td>0.0</td>\n",
              "      <td>0.0</td>\n",
              "      <td>0.0</td>\n",
              "      <td>0.0</td>\n",
              "      <td>0.0</td>\n",
              "      <td>0.0</td>\n",
              "      <td>0.0</td>\n",
              "      <td>0.0</td>\n",
              "      <td>0.0</td>\n",
              "      <td>0.0</td>\n",
              "      <td>0.0</td>\n",
              "      <td>0.0</td>\n",
              "      <td>0.0</td>\n",
              "      <td>0.0</td>\n",
              "      <td>0.0</td>\n",
              "      <td>0.0</td>\n",
              "      <td>0.0</td>\n",
              "      <td>0.0</td>\n",
              "      <td>0.0</td>\n",
              "      <td>0.0</td>\n",
              "      <td>0.0</td>\n",
              "      <td>0.0</td>\n",
              "      <td>0.0</td>\n",
              "      <td>0.0</td>\n",
              "      <td>0.0</td>\n",
              "      <td>...</td>\n",
              "      <td>0.0</td>\n",
              "      <td>0.0</td>\n",
              "      <td>0.0</td>\n",
              "      <td>0.0</td>\n",
              "      <td>0.0</td>\n",
              "      <td>0.0</td>\n",
              "      <td>0.0</td>\n",
              "      <td>0.0</td>\n",
              "      <td>0.0</td>\n",
              "      <td>0.0</td>\n",
              "      <td>0.0</td>\n",
              "      <td>0.0</td>\n",
              "      <td>0.0</td>\n",
              "      <td>0.0</td>\n",
              "      <td>0.0</td>\n",
              "      <td>0.0</td>\n",
              "      <td>0.0</td>\n",
              "      <td>0.0</td>\n",
              "      <td>0.0</td>\n",
              "      <td>0.0</td>\n",
              "      <td>0.0</td>\n",
              "      <td>0.0</td>\n",
              "      <td>0.0</td>\n",
              "      <td>0.0</td>\n",
              "      <td>0.0</td>\n",
              "      <td>0.0</td>\n",
              "      <td>0.0</td>\n",
              "      <td>0.0</td>\n",
              "      <td>0.0</td>\n",
              "      <td>0.0</td>\n",
              "      <td>0.0</td>\n",
              "      <td>0.0</td>\n",
              "      <td>0.0</td>\n",
              "      <td>0.0</td>\n",
              "      <td>0.0</td>\n",
              "      <td>0.0</td>\n",
              "      <td>0.0</td>\n",
              "      <td>0.0</td>\n",
              "      <td>0.0</td>\n",
              "      <td>0.0</td>\n",
              "    </tr>\n",
              "    <tr>\n",
              "      <th>2</th>\n",
              "      <td>0.0</td>\n",
              "      <td>0.0</td>\n",
              "      <td>0.0</td>\n",
              "      <td>0.0</td>\n",
              "      <td>0.0</td>\n",
              "      <td>0.0</td>\n",
              "      <td>0.0</td>\n",
              "      <td>0.0</td>\n",
              "      <td>0.0</td>\n",
              "      <td>0.0</td>\n",
              "      <td>0.0</td>\n",
              "      <td>0.0</td>\n",
              "      <td>0.0</td>\n",
              "      <td>0.0</td>\n",
              "      <td>0.0</td>\n",
              "      <td>0.0</td>\n",
              "      <td>0.0</td>\n",
              "      <td>0.0</td>\n",
              "      <td>0.0</td>\n",
              "      <td>0.0</td>\n",
              "      <td>0.0</td>\n",
              "      <td>0.0</td>\n",
              "      <td>0.0</td>\n",
              "      <td>0.0</td>\n",
              "      <td>0.0</td>\n",
              "      <td>0.0</td>\n",
              "      <td>0.0</td>\n",
              "      <td>0.0</td>\n",
              "      <td>0.0</td>\n",
              "      <td>0.0</td>\n",
              "      <td>0.0</td>\n",
              "      <td>0.0</td>\n",
              "      <td>0.0</td>\n",
              "      <td>0.0</td>\n",
              "      <td>0.0</td>\n",
              "      <td>0.0</td>\n",
              "      <td>0.0</td>\n",
              "      <td>0.0</td>\n",
              "      <td>0.0</td>\n",
              "      <td>0.0</td>\n",
              "      <td>...</td>\n",
              "      <td>0.0</td>\n",
              "      <td>0.0</td>\n",
              "      <td>0.0</td>\n",
              "      <td>0.0</td>\n",
              "      <td>0.0</td>\n",
              "      <td>0.0</td>\n",
              "      <td>0.0</td>\n",
              "      <td>0.0</td>\n",
              "      <td>0.0</td>\n",
              "      <td>0.0</td>\n",
              "      <td>0.0</td>\n",
              "      <td>0.0</td>\n",
              "      <td>0.0</td>\n",
              "      <td>0.0</td>\n",
              "      <td>0.0</td>\n",
              "      <td>0.0</td>\n",
              "      <td>0.0</td>\n",
              "      <td>0.0</td>\n",
              "      <td>0.0</td>\n",
              "      <td>0.0</td>\n",
              "      <td>0.0</td>\n",
              "      <td>0.0</td>\n",
              "      <td>0.0</td>\n",
              "      <td>0.0</td>\n",
              "      <td>0.0</td>\n",
              "      <td>0.0</td>\n",
              "      <td>0.0</td>\n",
              "      <td>0.0</td>\n",
              "      <td>0.0</td>\n",
              "      <td>0.0</td>\n",
              "      <td>0.0</td>\n",
              "      <td>0.0</td>\n",
              "      <td>0.0</td>\n",
              "      <td>0.0</td>\n",
              "      <td>0.0</td>\n",
              "      <td>0.0</td>\n",
              "      <td>0.0</td>\n",
              "      <td>0.0</td>\n",
              "      <td>0.0</td>\n",
              "      <td>0.0</td>\n",
              "    </tr>\n",
              "    <tr>\n",
              "      <th>3</th>\n",
              "      <td>0.0</td>\n",
              "      <td>0.0</td>\n",
              "      <td>0.0</td>\n",
              "      <td>0.0</td>\n",
              "      <td>0.0</td>\n",
              "      <td>0.0</td>\n",
              "      <td>0.0</td>\n",
              "      <td>0.0</td>\n",
              "      <td>0.0</td>\n",
              "      <td>0.0</td>\n",
              "      <td>0.0</td>\n",
              "      <td>0.0</td>\n",
              "      <td>0.0</td>\n",
              "      <td>0.0</td>\n",
              "      <td>0.0</td>\n",
              "      <td>0.0</td>\n",
              "      <td>0.0</td>\n",
              "      <td>0.0</td>\n",
              "      <td>0.0</td>\n",
              "      <td>0.0</td>\n",
              "      <td>0.0</td>\n",
              "      <td>0.0</td>\n",
              "      <td>0.0</td>\n",
              "      <td>0.0</td>\n",
              "      <td>0.0</td>\n",
              "      <td>0.0</td>\n",
              "      <td>0.0</td>\n",
              "      <td>0.0</td>\n",
              "      <td>0.0</td>\n",
              "      <td>0.0</td>\n",
              "      <td>0.0</td>\n",
              "      <td>0.0</td>\n",
              "      <td>0.0</td>\n",
              "      <td>0.0</td>\n",
              "      <td>0.0</td>\n",
              "      <td>0.0</td>\n",
              "      <td>0.0</td>\n",
              "      <td>0.0</td>\n",
              "      <td>0.0</td>\n",
              "      <td>0.0</td>\n",
              "      <td>...</td>\n",
              "      <td>0.0</td>\n",
              "      <td>0.0</td>\n",
              "      <td>0.0</td>\n",
              "      <td>0.0</td>\n",
              "      <td>0.0</td>\n",
              "      <td>0.0</td>\n",
              "      <td>0.0</td>\n",
              "      <td>0.0</td>\n",
              "      <td>0.0</td>\n",
              "      <td>0.0</td>\n",
              "      <td>0.0</td>\n",
              "      <td>0.0</td>\n",
              "      <td>0.0</td>\n",
              "      <td>0.0</td>\n",
              "      <td>0.0</td>\n",
              "      <td>0.0</td>\n",
              "      <td>0.0</td>\n",
              "      <td>0.0</td>\n",
              "      <td>0.0</td>\n",
              "      <td>0.0</td>\n",
              "      <td>0.0</td>\n",
              "      <td>0.0</td>\n",
              "      <td>0.0</td>\n",
              "      <td>0.0</td>\n",
              "      <td>0.0</td>\n",
              "      <td>0.0</td>\n",
              "      <td>0.0</td>\n",
              "      <td>0.0</td>\n",
              "      <td>0.0</td>\n",
              "      <td>0.0</td>\n",
              "      <td>0.0</td>\n",
              "      <td>0.0</td>\n",
              "      <td>0.0</td>\n",
              "      <td>0.0</td>\n",
              "      <td>0.0</td>\n",
              "      <td>0.0</td>\n",
              "      <td>0.0</td>\n",
              "      <td>0.0</td>\n",
              "      <td>0.0</td>\n",
              "      <td>0.0</td>\n",
              "    </tr>\n",
              "    <tr>\n",
              "      <th>4</th>\n",
              "      <td>0.0</td>\n",
              "      <td>0.0</td>\n",
              "      <td>0.0</td>\n",
              "      <td>0.0</td>\n",
              "      <td>0.0</td>\n",
              "      <td>0.0</td>\n",
              "      <td>0.0</td>\n",
              "      <td>0.0</td>\n",
              "      <td>0.0</td>\n",
              "      <td>0.0</td>\n",
              "      <td>0.0</td>\n",
              "      <td>0.0</td>\n",
              "      <td>0.0</td>\n",
              "      <td>0.0</td>\n",
              "      <td>0.0</td>\n",
              "      <td>0.0</td>\n",
              "      <td>0.0</td>\n",
              "      <td>0.0</td>\n",
              "      <td>0.0</td>\n",
              "      <td>0.0</td>\n",
              "      <td>0.0</td>\n",
              "      <td>0.0</td>\n",
              "      <td>0.0</td>\n",
              "      <td>0.0</td>\n",
              "      <td>0.0</td>\n",
              "      <td>0.0</td>\n",
              "      <td>0.0</td>\n",
              "      <td>0.0</td>\n",
              "      <td>0.0</td>\n",
              "      <td>0.0</td>\n",
              "      <td>0.0</td>\n",
              "      <td>0.0</td>\n",
              "      <td>0.0</td>\n",
              "      <td>0.0</td>\n",
              "      <td>0.0</td>\n",
              "      <td>0.0</td>\n",
              "      <td>0.0</td>\n",
              "      <td>0.0</td>\n",
              "      <td>0.0</td>\n",
              "      <td>0.0</td>\n",
              "      <td>...</td>\n",
              "      <td>0.0</td>\n",
              "      <td>0.0</td>\n",
              "      <td>0.0</td>\n",
              "      <td>0.0</td>\n",
              "      <td>0.0</td>\n",
              "      <td>0.0</td>\n",
              "      <td>0.0</td>\n",
              "      <td>0.0</td>\n",
              "      <td>0.0</td>\n",
              "      <td>0.0</td>\n",
              "      <td>0.0</td>\n",
              "      <td>0.0</td>\n",
              "      <td>0.0</td>\n",
              "      <td>0.0</td>\n",
              "      <td>0.0</td>\n",
              "      <td>0.0</td>\n",
              "      <td>0.0</td>\n",
              "      <td>0.0</td>\n",
              "      <td>0.0</td>\n",
              "      <td>0.0</td>\n",
              "      <td>0.0</td>\n",
              "      <td>0.0</td>\n",
              "      <td>0.0</td>\n",
              "      <td>0.0</td>\n",
              "      <td>0.0</td>\n",
              "      <td>0.0</td>\n",
              "      <td>0.0</td>\n",
              "      <td>0.0</td>\n",
              "      <td>0.0</td>\n",
              "      <td>0.0</td>\n",
              "      <td>0.0</td>\n",
              "      <td>0.0</td>\n",
              "      <td>0.0</td>\n",
              "      <td>0.0</td>\n",
              "      <td>0.0</td>\n",
              "      <td>0.0</td>\n",
              "      <td>0.0</td>\n",
              "      <td>0.0</td>\n",
              "      <td>0.0</td>\n",
              "      <td>0.0</td>\n",
              "    </tr>\n",
              "  </tbody>\n",
              "</table>\n",
              "<p>5 rows × 56297 columns</p>\n",
              "</div>"
            ],
            "text/plain": [
              "   _but  _december  _new  _not  _nov  ...  zyman  zyprexa   zz  zzz  zzzzzz\n",
              "0   0.0        0.0   0.0   0.0   0.0  ...    0.0      0.0  0.0  0.0     0.0\n",
              "1   0.0        0.0   0.0   0.0   0.0  ...    0.0      0.0  0.0  0.0     0.0\n",
              "2   0.0        0.0   0.0   0.0   0.0  ...    0.0      0.0  0.0  0.0     0.0\n",
              "3   0.0        0.0   0.0   0.0   0.0  ...    0.0      0.0  0.0  0.0     0.0\n",
              "4   0.0        0.0   0.0   0.0   0.0  ...    0.0      0.0  0.0  0.0     0.0\n",
              "\n",
              "[5 rows x 56297 columns]"
            ]
          },
          "metadata": {
            "tags": []
          },
          "execution_count": 35
        }
      ]
    },
    {
      "cell_type": "markdown",
      "metadata": {
        "id": "hAL-H24nGC-l"
      },
      "source": [
        ">**Inferences**:\r\n",
        ">* As we can notice the embeddings generated with tfidf has a lot of sparcity (lot of 0's in the matrix) and it is not expected to perform well with this embedding.\r\n"
      ]
    },
    {
      "cell_type": "markdown",
      "metadata": {
        "id": "lrcmnqjFQ4aA"
      },
      "source": [
        "### Word2Vec"
      ]
    },
    {
      "cell_type": "code",
      "metadata": {
        "colab": {
          "base_uri": "https://localhost:8080/"
        },
        "id": "BVGRlmHZULeY",
        "outputId": "72a2b76e-6fc8-49ab-b2c8-19ca0c67a464"
      },
      "source": [
        "X_train_w2v = X_train.apply(word_tokenize)\r\n",
        "X_train_w2v.iloc[:5]"
      ],
      "execution_count": 36,
      "outputs": [
        {
          "output_type": "execute_result",
          "data": {
            "text/plain": [
              "0    [wall, st., bear, claw, back, black, reuters, ...\n",
              "1    [carlyle, look, toward, commercial, aerospace,...\n",
              "2    [oil, economy, cloud, stock, outlook, reuters,...\n",
              "3    [iraq, halt, oil, export, main, southern, pipe...\n",
              "4    [oil, price, soar, all-time, record, posing, n...\n",
              "Name: Clean Clubbed Article, dtype: object"
            ]
          },
          "metadata": {
            "tags": []
          },
          "execution_count": 36
        }
      ]
    },
    {
      "cell_type": "code",
      "metadata": {
        "id": "WSWS88jdJ9vV"
      },
      "source": [
        "feature_size = 300\r\n",
        "context_window = 5\r\n",
        "min_count = 1\r\n",
        "n_iter = 200\r\n",
        "down_sample = 0.001\r\n",
        "w2v = word2vec.Word2Vec(X_train_w2v, size=feature_size, window=context_window, min_count= min_count,\r\n",
        "                        iter=n_iter, sample=down_sample)\r\n",
        "vocab_w2v = w2v.wv.vocab.keys()"
      ],
      "execution_count": 37,
      "outputs": []
    },
    {
      "cell_type": "code",
      "metadata": {
        "colab": {
          "base_uri": "https://localhost:8080/"
        },
        "id": "OpiaWFXlKBdZ",
        "outputId": "bc068c31-049b-4488-91d4-6c715f6e0af3"
      },
      "source": [
        "print(\"Time Taken to vectorize-Stem(secs): \", w2v.total_train_time)\r\n",
        "print(\"Length of word vocab (stem): \", len(vocab_w2v))"
      ],
      "execution_count": 38,
      "outputs": [
        {
          "output_type": "stream",
          "text": [
            "Time Taken to vectorize-Stem(secs):  1763.2245570170373\n",
            "Length of word vocab (stem):  82648\n"
          ],
          "name": "stdout"
        }
      ]
    },
    {
      "cell_type": "markdown",
      "metadata": {
        "id": "fKfkArQ6YHUs"
      },
      "source": [
        "#### Define Functions for Embeddings Generations"
      ]
    },
    {
      "cell_type": "code",
      "metadata": {
        "id": "nchKVGdLQRio"
      },
      "source": [
        "def get_aggreagated_embedding(doc, model):\r\n",
        "    \"\"\"\r\n",
        "    Takes the normalized-tokenized corpus as input and\r\n",
        "    returns the average embeddings of document usingnp the model. (Averages the word embeddings)\r\n",
        "    \"\"\"\r\n",
        "    vocab = model.wv.vocab.keys()\r\n",
        "    doc_embed = np.average([model.wv[word.lower()] for word in doc if word.lower() in vocab], axis=0)\r\n",
        "    return doc_embed"
      ],
      "execution_count": 39,
      "outputs": []
    },
    {
      "cell_type": "code",
      "metadata": {
        "id": "Io7kbZAyUtSF"
      },
      "source": [
        "def document_vectorizer(corpus, w2v_model, doc_action='clean_tokenize', lemmatize=False):\r\n",
        "    \"\"\"\r\n",
        "    Takes the list of documents (corpus), w2v_model as input\r\n",
        "    Returns the document embeddings averaged on each word.\r\n",
        "    \r\n",
        "    Attributes:\r\n",
        "      doc_action:  possible values ('clean_tokenize', 'tokenize', 'no_action')\r\n",
        "                   Default : clean_tokenize\r\n",
        "    \"\"\"\r\n",
        "    document_embeddings = []\r\n",
        "    doc_actions = ('clean_tokenize', 'tokenize', 'no_action')\r\n",
        "    if not doc_action in doc_actions:\r\n",
        "      raise NameError(\"Invalid parameter passed for doc_action attribute.\")\r\n",
        "    for doc in corpus:\r\n",
        "        norm_doc = []\r\n",
        "        if doc_action.lower() == 'clean_tokenize':\r\n",
        "          clean_doc = clean_corpus(doc, lemmatize=lemmatize)\r\n",
        "          wpt = WordPunctTokenizer()\r\n",
        "          norm_doc = wpt.tokenize(clean_doc)\r\n",
        "        elif doc_action.lower() == 'tokenize':\r\n",
        "          wpt = WordPunctTokenizer()\r\n",
        "          norm_doc = wpt.tokenize(doc)\r\n",
        "        elif doc_action.lower() == 'no_action':\r\n",
        "          norm_doc = doc\r\n",
        "        else:\r\n",
        "          raise NameError(\"Invalid parameter passed for doc_action attribute.\")\r\n",
        "        doc_embed = get_aggreagated_embedding(norm_doc, w2v_model)\r\n",
        "        document_embeddings.append(doc_embed)\r\n",
        "    return np.array(document_embeddings)"
      ],
      "execution_count": 40,
      "outputs": []
    },
    {
      "cell_type": "markdown",
      "metadata": {
        "id": "ob3YQpvUEie2"
      },
      "source": [
        "## 5.Evaluate the Best model on Subset of Data. (Metric - Accuracy)"
      ]
    },
    {
      "cell_type": "code",
      "metadata": {
        "id": "XbFRQHR7YQpc"
      },
      "source": [
        "from sklearn.linear_model import LogisticRegression\r\n",
        "from sklearn.naive_bayes import MultinomialNB\r\n",
        "from sklearn.discriminant_analysis import LinearDiscriminantAnalysis\r\n",
        "from sklearn.metrics import accuracy_score, f1_score, classification_report, plot_confusion_matrix"
      ],
      "execution_count": 41,
      "outputs": []
    },
    {
      "cell_type": "markdown",
      "metadata": {
        "id": "4YzqwBORHvho"
      },
      "source": [
        "### TFIDF"
      ]
    },
    {
      "cell_type": "markdown",
      "metadata": {
        "id": "tHWtZiY8eZgf"
      },
      "source": [
        "#### Logistic Regression"
      ]
    },
    {
      "cell_type": "code",
      "metadata": {
        "colab": {
          "base_uri": "https://localhost:8080/"
        },
        "id": "UFlRfqUcFIBA",
        "outputId": "54303f65-435e-40c5-b40a-d4e593ae3230"
      },
      "source": [
        "start = time.time()\r\n",
        "LogReg_tfidf = LogisticRegression(max_iter=300)\r\n",
        "LogReg_tfidf.fit(X_train_tfidf, y_train)\r\n",
        "end = time.time()\r\n",
        "print(\"Training time for Logistic Regression: \", (end-start), \" secs\")"
      ],
      "execution_count": 42,
      "outputs": [
        {
          "output_type": "stream",
          "text": [
            "Training time for Logistic Regression:  54.26507234573364  secs\n"
          ],
          "name": "stdout"
        }
      ]
    },
    {
      "cell_type": "code",
      "metadata": {
        "colab": {
          "base_uri": "https://localhost:8080/"
        },
        "id": "iiQTB8_cKaY-",
        "outputId": "bf056c0d-ac8f-4c9e-82fb-22b4f041f38d"
      },
      "source": [
        "y_preds_LogReg_tfidf = LogReg_tfidf.predict(X_test_tfidf)\r\n",
        "print(classification_report(y_test, y_preds_LogReg_tfidf))"
      ],
      "execution_count": 43,
      "outputs": [
        {
          "output_type": "stream",
          "text": [
            "              precision    recall  f1-score   support\n",
            "\n",
            "           1       0.93      0.91      0.92      1900\n",
            "           2       0.95      0.98      0.97      1900\n",
            "           3       0.88      0.88      0.88      1900\n",
            "           4       0.89      0.90      0.89      1900\n",
            "\n",
            "    accuracy                           0.92      7600\n",
            "   macro avg       0.92      0.92      0.92      7600\n",
            "weighted avg       0.92      0.92      0.92      7600\n",
            "\n"
          ],
          "name": "stdout"
        }
      ]
    },
    {
      "cell_type": "code",
      "metadata": {
        "colab": {
          "base_uri": "https://localhost:8080/",
          "height": 279
        },
        "id": "2hExjQ8Ndf3O",
        "outputId": "61cfe122-f9d7-4022-ee54-5b981de810e4"
      },
      "source": [
        "plot_confusion_matrix(LogReg_tfidf, X_test_tfidf, y_test);"
      ],
      "execution_count": 44,
      "outputs": [
        {
          "output_type": "display_data",
          "data": {
            "image/png": "[encoded data removed]",
            "text/plain": [
              "<Figure size 432x288 with 2 Axes>"
            ]
          },
          "metadata": {
            "tags": [],
            "needs_background": "light"
          }
        }
      ]
    },
    {
      "cell_type": "code",
      "metadata": {
        "colab": {
          "base_uri": "https://localhost:8080/"
        },
        "id": "yTnHffKbdfk5",
        "outputId": "8f46eff5-b87f-4c8c-b86b-0becac2cf27a"
      },
      "source": [
        "accuracy_score(y_test, y_preds_LogReg_tfidf)"
      ],
      "execution_count": 45,
      "outputs": [
        {
          "output_type": "execute_result",
          "data": {
            "text/plain": [
              "0.9156578947368421"
            ]
          },
          "metadata": {
            "tags": []
          },
          "execution_count": 45
        }
      ]
    },
    {
      "cell_type": "markdown",
      "metadata": {
        "id": "2k-EKCEsee5S"
      },
      "source": [
        "#### MultiNomial Naive bayes"
      ]
    },
    {
      "cell_type": "code",
      "metadata": {
        "colab": {
          "base_uri": "https://localhost:8080/"
        },
        "id": "jJu_9iU1IHQS",
        "outputId": "a9ebe146-e4a2-47d7-ce7c-6d3308baa25d"
      },
      "source": [
        "start = time.time()\r\n",
        "nb_tfidf = MultinomialNB()\r\n",
        "nb_tfidf.fit(X_train_tfidf, y_train)\r\n",
        "end = time.time()\r\n",
        "print(\"Training time for MultiNomial NB: \", (end-start), \" secs\")"
      ],
      "execution_count": 46,
      "outputs": [
        {
          "output_type": "stream",
          "text": [
            "Training time for MultiNomial NB:  0.06715726852416992  secs\n"
          ],
          "name": "stdout"
        }
      ]
    },
    {
      "cell_type": "code",
      "metadata": {
        "colab": {
          "base_uri": "https://localhost:8080/"
        },
        "id": "6hrLW-tUezXV",
        "outputId": "5b8b0641-63de-44be-b1b7-50523327c3a5"
      },
      "source": [
        "y_preds_MNB_tfidf = nb_tfidf.predict(X_test_tfidf)\r\n",
        "print(classification_report(y_test, y_preds_MNB_tfidf))"
      ],
      "execution_count": 47,
      "outputs": [
        {
          "output_type": "stream",
          "text": [
            "              precision    recall  f1-score   support\n",
            "\n",
            "           1       0.91      0.89      0.90      1900\n",
            "           2       0.95      0.98      0.96      1900\n",
            "           3       0.86      0.86      0.86      1900\n",
            "           4       0.88      0.88      0.88      1900\n",
            "\n",
            "    accuracy                           0.90      7600\n",
            "   macro avg       0.90      0.90      0.90      7600\n",
            "weighted avg       0.90      0.90      0.90      7600\n",
            "\n"
          ],
          "name": "stdout"
        }
      ]
    },
    {
      "cell_type": "code",
      "metadata": {
        "colab": {
          "base_uri": "https://localhost:8080/",
          "height": 279
        },
        "id": "8zNNZAixe5-F",
        "outputId": "9d01e4cf-8111-4612-c30d-6857ba6efc73"
      },
      "source": [
        "plot_confusion_matrix(nb_tfidf, X_test_tfidf, y_test);"
      ],
      "execution_count": 48,
      "outputs": [
        {
          "output_type": "display_data",
          "data": {
            "image/png": "[encoded data removed]",
            "text/plain": [
              "<Figure size 432x288 with 2 Axes>"
            ]
          },
          "metadata": {
            "tags": [],
            "needs_background": "light"
          }
        }
      ]
    },
    {
      "cell_type": "code",
      "metadata": {
        "colab": {
          "base_uri": "https://localhost:8080/"
        },
        "id": "t-pLQ4jufCEw",
        "outputId": "a5f991a6-6e4b-48b9-fbef-41292fa40650"
      },
      "source": [
        "accuracy_score(y_test, y_preds_MNB_tfidf)"
      ],
      "execution_count": 49,
      "outputs": [
        {
          "output_type": "execute_result",
          "data": {
            "text/plain": [
              "0.900921052631579"
            ]
          },
          "metadata": {
            "tags": []
          },
          "execution_count": 49
        }
      ]
    },
    {
      "cell_type": "markdown",
      "metadata": {
        "id": "xbEZg219AhOk"
      },
      "source": [
        ">**Inferences**:\r\n",
        ">* Even the sparse tfidf vectors produced a fairly good accuracy using Logistic and NaiveBayes classifiers.\r\n",
        "* The training time for NavieBayes was shocking at the first looks. Need to investigate or analyse why it is so?\r\n",
        "\r\n"
      ]
    },
    {
      "cell_type": "markdown",
      "metadata": {
        "id": "5fpEZmkJBIHD"
      },
      "source": [
        "### Word2Vec"
      ]
    },
    {
      "cell_type": "code",
      "metadata": {
        "colab": {
          "base_uri": "https://localhost:8080/"
        },
        "id": "ZNRcNsj6f0oZ",
        "outputId": "d43ea521-d8dc-4b12-a4ca-1ec05f9fd23f"
      },
      "source": [
        "start = time.time()\r\n",
        "doc_matrix_train_w2v = document_vectorizer(X_train,w2v,doc_action='tokenize')\r\n",
        "end = time.time()\r\n",
        "print(\"Time for document matrix generation: \", (end-start), \" secs\")"
      ],
      "execution_count": 50,
      "outputs": [
        {
          "output_type": "stream",
          "text": [
            "Time for document matrix generation:  13.711174488067627  secs\n"
          ],
          "name": "stdout"
        }
      ]
    },
    {
      "cell_type": "code",
      "metadata": {
        "colab": {
          "base_uri": "https://localhost:8080/"
        },
        "id": "-nOj8PvnBSwj",
        "outputId": "e1187db5-43de-4cf7-ad24-271d3b5e40ba"
      },
      "source": [
        "start = time.time()\r\n",
        "doc_matrix_test_w2v = document_vectorizer(X_test,w2v,doc_action='tokenize')\r\n",
        "end = time.time()\r\n",
        "print(\"Time for document matrix generation: \", (end-start), \" secs\")"
      ],
      "execution_count": 51,
      "outputs": [
        {
          "output_type": "stream",
          "text": [
            "Time for document matrix generation:  0.8206722736358643  secs\n"
          ],
          "name": "stdout"
        }
      ]
    },
    {
      "cell_type": "markdown",
      "metadata": {
        "id": "CcPqBzTmJLH4"
      },
      "source": [
        "#### Logistic Regression"
      ]
    },
    {
      "cell_type": "code",
      "metadata": {
        "colab": {
          "base_uri": "https://localhost:8080/"
        },
        "id": "ce9DBFUhHZEl",
        "outputId": "cfdf3952-cd40-4a87-8b8c-ad366cfae0d8"
      },
      "source": [
        "start = time.time()\r\n",
        "LogReg_w2v = LogisticRegression(max_iter=300)\r\n",
        "LogReg_w2v.fit(doc_matrix_train_w2v, y_train)\r\n",
        "end = time.time()\r\n",
        "print(\"Training time for Logistic Regression: \", (end-start), \" secs\")"
      ],
      "execution_count": 52,
      "outputs": [
        {
          "output_type": "stream",
          "text": [
            "Training time for Logistic Regression:  49.832573890686035  secs\n"
          ],
          "name": "stdout"
        }
      ]
    },
    {
      "cell_type": "code",
      "metadata": {
        "colab": {
          "base_uri": "https://localhost:8080/"
        },
        "id": "1sHd4UcTJ3NT",
        "outputId": "c999ea21-bf32-495e-872a-c47a48d6e57b"
      },
      "source": [
        "y_preds_LogReg_w2v = LogReg_w2v.predict(doc_matrix_test_w2v)\r\n",
        "print(classification_report(y_test, y_preds_LogReg_w2v))"
      ],
      "execution_count": 53,
      "outputs": [
        {
          "output_type": "stream",
          "text": [
            "              precision    recall  f1-score   support\n",
            "\n",
            "           1       0.91      0.89      0.90      1900\n",
            "           2       0.95      0.96      0.96      1900\n",
            "           3       0.86      0.85      0.85      1900\n",
            "           4       0.86      0.86      0.86      1900\n",
            "\n",
            "    accuracy                           0.89      7600\n",
            "   macro avg       0.89      0.89      0.89      7600\n",
            "weighted avg       0.89      0.89      0.89      7600\n",
            "\n"
          ],
          "name": "stdout"
        }
      ]
    },
    {
      "cell_type": "code",
      "metadata": {
        "colab": {
          "base_uri": "https://localhost:8080/",
          "height": 297
        },
        "id": "IsaaIcYWKJ4Z",
        "outputId": "b3979d7a-e8c6-4fec-a311-787c795ada8a"
      },
      "source": [
        "plot_confusion_matrix(LogReg_w2v, doc_matrix_test_w2v, y_test)"
      ],
      "execution_count": 54,
      "outputs": [
        {
          "output_type": "execute_result",
          "data": {
            "text/plain": [
              "<sklearn.metrics._plot.confusion_matrix.ConfusionMatrixDisplay at 0x7f6f59cb5d30>"
            ]
          },
          "metadata": {
            "tags": []
          },
          "execution_count": 54
        },
        {
          "output_type": "display_data",
          "data": {
            "image/png": "[encoded data removed]",
            "text/plain": [
              "<Figure size 432x288 with 2 Axes>"
            ]
          },
          "metadata": {
            "tags": [],
            "needs_background": "light"
          }
        }
      ]
    },
    {
      "cell_type": "code",
      "metadata": {
        "colab": {
          "base_uri": "https://localhost:8080/"
        },
        "id": "u47sPkMzKWTH",
        "outputId": "3da81ef6-9f1e-4137-af54-003f66bbdccd"
      },
      "source": [
        "accuracy_score(y_test, y_preds_LogReg_w2v)"
      ],
      "execution_count": 55,
      "outputs": [
        {
          "output_type": "execute_result",
          "data": {
            "text/plain": [
              "0.8939473684210526"
            ]
          },
          "metadata": {
            "tags": []
          },
          "execution_count": 55
        }
      ]
    },
    {
      "cell_type": "code",
      "metadata": {
        "colab": {
          "base_uri": "https://localhost:8080/",
          "height": 385
        },
        "id": "TjK5bdCCKioy",
        "outputId": "6f95d19a-2145-4f98-9417-ce8ef7842d96"
      },
      "source": [
        "start = time.time()\r\n",
        "nb_w2v = MultinomialNB()\r\n",
        "nb_w2v.fit(doc_matrix_train_w2v, y_train)\r\n",
        "end = time.time()\r\n",
        "print(\"Training time for Naive Bayes: \", (end-start), \" secs\")"
      ],
      "execution_count": 56,
      "outputs": [
        {
          "output_type": "error",
          "ename": "ValueError",
          "evalue": "ignored",
          "traceback": [
            "\u001b[0;31m---------------------------------------------------------------------------\u001b[0m",
            "\u001b[0;31mValueError\u001b[0m                                Traceback (most recent call last)",
            "\u001b[0;32m<ipython-input-56-54adbc713155>\u001b[0m in \u001b[0;36m<module>\u001b[0;34m()\u001b[0m\n\u001b[1;32m      1\u001b[0m \u001b[0mstart\u001b[0m \u001b[0;34m=\u001b[0m \u001b[0mtime\u001b[0m\u001b[0;34m.\u001b[0m\u001b[0mtime\u001b[0m\u001b[0;34m(\u001b[0m\u001b[0;34m)\u001b[0m\u001b[0;34m\u001b[0m\u001b[0;34m\u001b[0m\u001b[0m\n\u001b[1;32m      2\u001b[0m \u001b[0mnb_w2v\u001b[0m \u001b[0;34m=\u001b[0m \u001b[0mMultinomialNB\u001b[0m\u001b[0;34m(\u001b[0m\u001b[0;34m)\u001b[0m\u001b[0;34m\u001b[0m\u001b[0;34m\u001b[0m\u001b[0m\n\u001b[0;32m----> 3\u001b[0;31m \u001b[0mnb_w2v\u001b[0m\u001b[0;34m.\u001b[0m\u001b[0mfit\u001b[0m\u001b[0;34m(\u001b[0m\u001b[0mdoc_matrix_train_w2v\u001b[0m\u001b[0;34m,\u001b[0m \u001b[0my_train\u001b[0m\u001b[0;34m)\u001b[0m\u001b[0;34m\u001b[0m\u001b[0;34m\u001b[0m\u001b[0m\n\u001b[0m\u001b[1;32m      4\u001b[0m \u001b[0mend\u001b[0m \u001b[0;34m=\u001b[0m \u001b[0mtime\u001b[0m\u001b[0;34m.\u001b[0m\u001b[0mtime\u001b[0m\u001b[0;34m(\u001b[0m\u001b[0;34m)\u001b[0m\u001b[0;34m\u001b[0m\u001b[0;34m\u001b[0m\u001b[0m\n\u001b[1;32m      5\u001b[0m \u001b[0mprint\u001b[0m\u001b[0;34m(\u001b[0m\u001b[0;34m\"Training time for Naive Bayes: \"\u001b[0m\u001b[0;34m,\u001b[0m \u001b[0;34m(\u001b[0m\u001b[0mend\u001b[0m\u001b[0;34m-\u001b[0m\u001b[0mstart\u001b[0m\u001b[0;34m)\u001b[0m\u001b[0;34m,\u001b[0m \u001b[0;34m\" secs\"\u001b[0m\u001b[0;34m)\u001b[0m\u001b[0;34m\u001b[0m\u001b[0;34m\u001b[0m\u001b[0m\n",
            "\u001b[0;32m/usr/local/lib/python3.6/dist-packages/sklearn/naive_bayes.py\u001b[0m in \u001b[0;36mfit\u001b[0;34m(self, X, y, sample_weight)\u001b[0m\n\u001b[1;32m    633\u001b[0m \u001b[0;34m\u001b[0m\u001b[0m\n\u001b[1;32m    634\u001b[0m         \u001b[0mself\u001b[0m\u001b[0;34m.\u001b[0m\u001b[0m_init_counters\u001b[0m\u001b[0;34m(\u001b[0m\u001b[0mn_effective_classes\u001b[0m\u001b[0;34m,\u001b[0m \u001b[0mn_features\u001b[0m\u001b[0;34m)\u001b[0m\u001b[0;34m\u001b[0m\u001b[0;34m\u001b[0m\u001b[0m\n\u001b[0;32m--> 635\u001b[0;31m         \u001b[0mself\u001b[0m\u001b[0;34m.\u001b[0m\u001b[0m_count\u001b[0m\u001b[0;34m(\u001b[0m\u001b[0mX\u001b[0m\u001b[0;34m,\u001b[0m \u001b[0mY\u001b[0m\u001b[0;34m)\u001b[0m\u001b[0;34m\u001b[0m\u001b[0;34m\u001b[0m\u001b[0m\n\u001b[0m\u001b[1;32m    636\u001b[0m         \u001b[0malpha\u001b[0m \u001b[0;34m=\u001b[0m \u001b[0mself\u001b[0m\u001b[0;34m.\u001b[0m\u001b[0m_check_alpha\u001b[0m\u001b[0;34m(\u001b[0m\u001b[0;34m)\u001b[0m\u001b[0;34m\u001b[0m\u001b[0;34m\u001b[0m\u001b[0m\n\u001b[1;32m    637\u001b[0m         \u001b[0mself\u001b[0m\u001b[0;34m.\u001b[0m\u001b[0m_update_feature_log_prob\u001b[0m\u001b[0;34m(\u001b[0m\u001b[0malpha\u001b[0m\u001b[0;34m)\u001b[0m\u001b[0;34m\u001b[0m\u001b[0;34m\u001b[0m\u001b[0m\n",
            "\u001b[0;32m/usr/local/lib/python3.6/dist-packages/sklearn/naive_bayes.py\u001b[0m in \u001b[0;36m_count\u001b[0;34m(self, X, Y)\u001b[0m\n\u001b[1;32m    754\u001b[0m     \u001b[0;32mdef\u001b[0m \u001b[0m_count\u001b[0m\u001b[0;34m(\u001b[0m\u001b[0mself\u001b[0m\u001b[0;34m,\u001b[0m \u001b[0mX\u001b[0m\u001b[0;34m,\u001b[0m \u001b[0mY\u001b[0m\u001b[0;34m)\u001b[0m\u001b[0;34m:\u001b[0m\u001b[0;34m\u001b[0m\u001b[0;34m\u001b[0m\u001b[0m\n\u001b[1;32m    755\u001b[0m         \u001b[0;34m\"\"\"Count and smooth feature occurrences.\"\"\"\u001b[0m\u001b[0;34m\u001b[0m\u001b[0;34m\u001b[0m\u001b[0m\n\u001b[0;32m--> 756\u001b[0;31m         \u001b[0mcheck_non_negative\u001b[0m\u001b[0;34m(\u001b[0m\u001b[0mX\u001b[0m\u001b[0;34m,\u001b[0m \u001b[0;34m\"MultinomialNB (input X)\"\u001b[0m\u001b[0;34m)\u001b[0m\u001b[0;34m\u001b[0m\u001b[0;34m\u001b[0m\u001b[0m\n\u001b[0m\u001b[1;32m    757\u001b[0m         \u001b[0mself\u001b[0m\u001b[0;34m.\u001b[0m\u001b[0mfeature_count_\u001b[0m \u001b[0;34m+=\u001b[0m \u001b[0msafe_sparse_dot\u001b[0m\u001b[0;34m(\u001b[0m\u001b[0mY\u001b[0m\u001b[0;34m.\u001b[0m\u001b[0mT\u001b[0m\u001b[0;34m,\u001b[0m \u001b[0mX\u001b[0m\u001b[0;34m)\u001b[0m\u001b[0;34m\u001b[0m\u001b[0;34m\u001b[0m\u001b[0m\n\u001b[1;32m    758\u001b[0m         \u001b[0mself\u001b[0m\u001b[0;34m.\u001b[0m\u001b[0mclass_count_\u001b[0m \u001b[0;34m+=\u001b[0m \u001b[0mY\u001b[0m\u001b[0;34m.\u001b[0m\u001b[0msum\u001b[0m\u001b[0;34m(\u001b[0m\u001b[0maxis\u001b[0m\u001b[0;34m=\u001b[0m\u001b[0;36m0\u001b[0m\u001b[0;34m)\u001b[0m\u001b[0;34m\u001b[0m\u001b[0;34m\u001b[0m\u001b[0m\n",
            "\u001b[0;32m/usr/local/lib/python3.6/dist-packages/sklearn/utils/validation.py\u001b[0m in \u001b[0;36mcheck_non_negative\u001b[0;34m(X, whom)\u001b[0m\n\u001b[1;32m    992\u001b[0m \u001b[0;34m\u001b[0m\u001b[0m\n\u001b[1;32m    993\u001b[0m     \u001b[0;32mif\u001b[0m \u001b[0mX_min\u001b[0m \u001b[0;34m<\u001b[0m \u001b[0;36m0\u001b[0m\u001b[0;34m:\u001b[0m\u001b[0;34m\u001b[0m\u001b[0;34m\u001b[0m\u001b[0m\n\u001b[0;32m--> 994\u001b[0;31m         \u001b[0;32mraise\u001b[0m \u001b[0mValueError\u001b[0m\u001b[0;34m(\u001b[0m\u001b[0;34m\"Negative values in data passed to %s\"\u001b[0m \u001b[0;34m%\u001b[0m \u001b[0mwhom\u001b[0m\u001b[0;34m)\u001b[0m\u001b[0;34m\u001b[0m\u001b[0;34m\u001b[0m\u001b[0m\n\u001b[0m\u001b[1;32m    995\u001b[0m \u001b[0;34m\u001b[0m\u001b[0m\n\u001b[1;32m    996\u001b[0m \u001b[0;34m\u001b[0m\u001b[0m\n",
            "\u001b[0;31mValueError\u001b[0m: Negative values in data passed to MultinomialNB (input X)"
          ]
        }
      ]
    },
    {
      "cell_type": "markdown",
      "metadata": {
        "id": "xN5TkPiZK2fF"
      },
      "source": [
        ">**Inferences**:\r\n",
        ">* The Multinomial NavieBayes will not accept negative values in the data. Need to research why is it so?\r\n",
        "\r\n"
      ]
    },
    {
      "cell_type": "markdown",
      "metadata": {
        "id": "LFnfKWsvLYPe"
      },
      "source": [
        "Lets now try some deep learning models before moving into transformers"
      ]
    },
    {
      "cell_type": "markdown",
      "metadata": {
        "id": "918qu7ieLjNU"
      },
      "source": [
        "#### LSTM"
      ]
    },
    {
      "cell_type": "markdown",
      "metadata": {
        "id": "3xYvxjfGT6P-"
      },
      "source": [
        "Will come back to LSTMs and transformers later."
      ]
    },
    {
      "cell_type": "markdown",
      "metadata": {
        "id": "Dcxcru_qUAP1"
      },
      "source": [
        "## 6.Tuning the Best Model"
      ]
    },
    {
      "cell_type": "markdown",
      "metadata": {
        "id": "xXth20AnUD_p"
      },
      "source": [
        "Hyper parameter tuning yet to be performed."
      ]
    },
    {
      "cell_type": "markdown",
      "metadata": {
        "id": "s4A_qjh3UM-v"
      },
      "source": [
        "## 7.Pickle the models for future use"
      ]
    },
    {
      "cell_type": "code",
      "metadata": {
        "id": "MCsAWxPMKypR"
      },
      "source": [
        "import pickle"
      ],
      "execution_count": 57,
      "outputs": []
    },
    {
      "cell_type": "code",
      "metadata": {
        "id": "qrj3nTkmSMsN"
      },
      "source": [
        "pickle.dump(LogReg_tfidf, open('/content/drive/MyDrive/Colab Notebooks/Data/AGNews/saved_models/LogReg_tfidf.pkl', 'wb'))\r\n",
        "pickle.dump(nb_tfidf, open('/content/drive/MyDrive/Colab Notebooks/Data/AGNews/saved_models/nb_tfidf.pkl', 'wb'))\r\n",
        "pickle.dump(LogReg_w2v, open('/content/drive/MyDrive/Colab Notebooks/Data/AGNews/saved_models/LogReg_w2v.pkl', 'wb'))\r\n",
        "pickle.dump(w2v, open('/content/drive/MyDrive/Colab Notebooks/Data/AGNews/saved_models/w2v.pkl', 'wb'))\r\n",
        "pickle.dump(tfidf_vec, open('/content/drive/MyDrive/Colab Notebooks/Data/AGNews/saved_models/tfidf.pkl', 'wb'))"
      ],
      "execution_count": 58,
      "outputs": []
    },
    {
      "cell_type": "code",
      "metadata": {
        "colab": {
          "base_uri": "https://localhost:8080/"
        },
        "id": "JMCyOfDbWh6K",
        "outputId": "9278d0c9-ae2f-42ee-c083-3d424eb6b98b"
      },
      "source": [
        "len(w2v.wv.vocab.keys())"
      ],
      "execution_count": 59,
      "outputs": [
        {
          "output_type": "execute_result",
          "data": {
            "text/plain": [
              "82648"
            ]
          },
          "metadata": {
            "tags": []
          },
          "execution_count": 59
        }
      ]
    },
    {
      "cell_type": "code",
      "metadata": {
        "colab": {
          "base_uri": "https://localhost:8080/"
        },
        "id": "q64fQmy8XKYB",
        "outputId": "f17403bd-e124-4791-9e29-47947828a270"
      },
      "source": [
        "w2v_reloaded = pickle.load(open('/content/drive/MyDrive/Colab Notebooks/Data/AGNews/saved_models/w2v.pkl', 'rb'))\r\n",
        "len(w2v_reloaded.wv.vocab.keys())"
      ],
      "execution_count": 60,
      "outputs": [
        {
          "output_type": "execute_result",
          "data": {
            "text/plain": [
              "82648"
            ]
          },
          "metadata": {
            "tags": []
          },
          "execution_count": 60
        }
      ]
    },
    {
      "cell_type": "code",
      "metadata": {
        "colab": {
          "base_uri": "https://localhost:8080/"
        },
        "id": "uzRhuuihadXL",
        "outputId": "ddcb8e67-0c0f-40c6-8792-93c256e8a111"
      },
      "source": [
        "len(tfidf_vec.vocabulary_)"
      ],
      "execution_count": 61,
      "outputs": [
        {
          "output_type": "execute_result",
          "data": {
            "text/plain": [
              "56297"
            ]
          },
          "metadata": {
            "tags": []
          },
          "execution_count": 61
        }
      ]
    },
    {
      "cell_type": "code",
      "metadata": {
        "colab": {
          "base_uri": "https://localhost:8080/"
        },
        "id": "aIxdG4DMaUA1",
        "outputId": "0204b09b-bc06-4882-f5d2-9f801eb6cfa9"
      },
      "source": [
        "tfidf_vec_reload = pickle.load(open('/content/drive/MyDrive/Colab Notebooks/Data/AGNews/saved_models/tfidf.pkl', 'rb'))\r\n",
        "len(tfidf_vec_reload.vocabulary_)"
      ],
      "execution_count": 62,
      "outputs": [
        {
          "output_type": "execute_result",
          "data": {
            "text/plain": [
              "56297"
            ]
          },
          "metadata": {
            "tags": []
          },
          "execution_count": 62
        }
      ]
    },
    {
      "cell_type": "code",
      "metadata": {
        "id": "XiQfc8V-VBUS"
      },
      "source": [
        "LogReg_tfidf_reload = pickle.load(open('/content/drive/MyDrive/Colab Notebooks/Data/AGNews/saved_models/LogReg_tfidf.pkl', 'rb'))"
      ],
      "execution_count": 63,
      "outputs": []
    },
    {
      "cell_type": "code",
      "metadata": {
        "colab": {
          "base_uri": "https://localhost:8080/"
        },
        "id": "p9ALx1peVtIu",
        "outputId": "e206f871-55de-41f3-9eef-b23360250af7"
      },
      "source": [
        "y_preds_reload = LogReg_tfidf_reload.predict(X_test_tfidf)\r\n",
        "accuracy_score(y_test,y_preds_reload)"
      ],
      "execution_count": 64,
      "outputs": [
        {
          "output_type": "execute_result",
          "data": {
            "text/plain": [
              "0.9156578947368421"
            ]
          },
          "metadata": {
            "tags": []
          },
          "execution_count": 64
        }
      ]
    },
    {
      "cell_type": "markdown",
      "metadata": {
        "id": "IPfypgsvZwB5"
      },
      "source": [
        "## 8.Predictions"
      ]
    },
    {
      "cell_type": "code",
      "metadata": {
        "id": "tevF8Cs1WQBi"
      },
      "source": [
        "def predict_news_type(headline, short_desc, vec, model, embedType='w2v', lemmatize=True):\r\n",
        "  \"\"\"\r\n",
        "  Takes the headline, short description, vectorizer, model and embedding type as input.\r\n",
        "  Then predicts the type of the news article among ['World', 'Sports', 'Business', 'Sci/Tech'].\r\n",
        "  \"\"\"\r\n",
        "  clubbed_article = headline + \" \" + short_desc\r\n",
        "  clean_clubbed_article = clean_corpus(clubbed_article)\r\n",
        "  if embedType.lower() == 'tfidf':\r\n",
        "    article_embed = vec.transform(clean_clubbed_article)\r\n",
        "  elif embedType.lower() == 'w2v':\r\n",
        "    clubbed_article_list = []\r\n",
        "    clubbed_article_list.append(clean_clubbed_article)\r\n",
        "    article_embed = document_vectorizer(clubbed_article_list, vec, doc_action='tokenize', lemmatize=lemmatize)\r\n",
        "  else:\r\n",
        "    raise NameError(\"Invalid 'embedType' specified.\")\r\n",
        "  y_pred = model.predict_proba(article_embed.reshape(1,-1))\r\n",
        "  pos = np.argmax(y_pred)\r\n",
        "  label = labels[pos]\r\n",
        "  print(\"Article Type: \" + label  + \", Confidence: \" + str(round((y_pred[0][pos])*100, 2)) + \"%\")\r\n",
        "  return y_pred"
      ],
      "execution_count": 129,
      "outputs": []
    },
    {
      "cell_type": "code",
      "metadata": {
        "colab": {
          "base_uri": "https://localhost:8080/"
        },
        "id": "MToQ9RDYcJ-4",
        "outputId": "f41171b6-0df1-4197-cd9e-c56132d72241"
      },
      "source": [
        "Headline1 = '''Tsunami confirmed by Australian agency after magnitude earthquake in South Pacific'''\r\n",
        "Desc1 = '''A the Australian weather agency confirmed. Tsunami confirmed the Australian Bureau of Meteorology said in a tweet, as it warned of a marine threat to Lord Howe Island. Tsunami affecting marine area commencing after am AEDT Thu, persisting for several hours the tweet read.'''\r\n",
        "pred1 = predict_news_type(headline=Headline1, short_desc=Desc1, vec=w2v_reloaded, model=LogReg_w2v, embedType='w2v')"
      ],
      "execution_count": 136,
      "outputs": [
        {
          "output_type": "stream",
          "text": [
            "Article Type: World, Confidence: 91.1%\n"
          ],
          "name": "stdout"
        }
      ]
    },
    {
      "cell_type": "code",
      "metadata": {
        "colab": {
          "base_uri": "https://localhost:8080/"
        },
        "id": "R4NvA_6urOlx",
        "outputId": "d67a8add-1e54-40ba-b216-d1e6eb7b3fa0"
      },
      "source": [
        "Headline2 = '''1st video of Mars captured by Chinese spacecraft in orbit released'''\r\n",
        "Desc2 = '''China's space agency released the first video of Mars recorded from its spacecraft Tianwen-1 on Friday, two days after it entered the planet's orbit. The video shows the surface of the planet coming into view out of a pitch black sky, and white craters are also visible. Tianwen-1 is expected to touch down on the planet's surface in May.'''\r\n",
        "pred2 = predict_news_type(headline=Headline2, short_desc=Desc2, vec=w2v_reloaded, model=LogReg_w2v, embedType='w2v')"
      ],
      "execution_count": 137,
      "outputs": [
        {
          "output_type": "stream",
          "text": [
            "Article Type: Sci/Tech, Confidence: 99.83%\n"
          ],
          "name": "stdout"
        }
      ]
    },
    {
      "cell_type": "code",
      "metadata": {
        "colab": {
          "base_uri": "https://localhost:8080/"
        },
        "id": "0-8mWyHye7FR",
        "outputId": "2e7976f3-218b-41db-e976-4340e5e71b9e"
      },
      "source": [
        "Headline3 = '''Wasn't an easy decision: Root on dropping Dom Bess for 2nd Test'''\r\n",
        "Desc3 = '''Talking about the changes in the playing XI for the second Test, England Test captain Joe Root said the decision to drop all-rounder Dom Bess wasn't easy but the 23-year-old needs to work on consistency. \"This gives Moeen Ali a great opportunity to come back into things,\" Root added. Bess scored 59 runs and picked five wickets in first Test.'''\r\n",
        "pred3 = predict_news_type(headline=Headline3, short_desc=Desc3, vec=w2v_reloaded, model=LogReg_w2v, embedType='w2v')"
      ],
      "execution_count": 138,
      "outputs": [
        {
          "output_type": "stream",
          "text": [
            "Article Type: Sports, Confidence: 72.91%\n"
          ],
          "name": "stdout"
        }
      ]
    },
    {
      "cell_type": "code",
      "metadata": {
        "id": "0-lJdISDuaAn",
        "colab": {
          "base_uri": "https://localhost:8080/"
        },
        "outputId": "3c186005-fdff-4b73-e5b6-01535b5cffe2"
      },
      "source": [
        "Headline4 = '''Tesla CEO Elon Musk told Joe Rogan that he is trying to figure how to make Tesla Roadster electric car hover without killing people. \"Maybe it can hover like a meter above the ground...If you plummet it'll blow out the suspension but you're not gonna die,\" he added. Musk said Tesla is \"finishing the engineering of the Roadster this year\".'''\r\n",
        "Desc4 = '''Talking about the changes in the playing XI for the second Test, England Test captain Joe Root said the decision to drop all-rounder Dom Bess wasn't easy but the 23-year-old needs to work on consistency. \"This gives Moeen Ali a great opportunity to come back into things,\" Root added. Bess scored 59 runs and picked five wickets in first Test.'''\r\n",
        "pred4 = predict_news_type(headline=Headline4, short_desc=Desc4, vec=w2v_reloaded, model=LogReg_w2v, embedType='w2v')"
      ],
      "execution_count": 139,
      "outputs": [
        {
          "output_type": "stream",
          "text": [
            "Article Type: World, Confidence: 52.47%\n"
          ],
          "name": "stdout"
        }
      ]
    },
    {
      "cell_type": "code",
      "metadata": {
        "colab": {
          "base_uri": "https://localhost:8080/"
        },
        "id": "4h2AQZ8KuZv3",
        "outputId": "cf3941a6-41e1-41ae-a829-e1b165106d89"
      },
      "source": [
        "Headline5 = '''He was referring to his family: Giriraj on Rahul's 'Hum do, hamare do' remark'''\r\n",
        "Desc5 = '''After Congress leader Rahul Gandhi said that India is being run by four people with a motto of 'Hum do, hamare do', Union Minister Giriraj Singh said that he was referring to his family members. \"He was referring to himself, his mother, his sister and his brother-in-law...Don't know what message he wants to give to the nation,\" Singh said.'''\r\n",
        "pred5 = predict_news_type(headline=Headline5, short_desc=Desc5, vec=w2v_reloaded, model=LogReg_w2v, embedType='w2v')"
      ],
      "execution_count": 141,
      "outputs": [
        {
          "output_type": "stream",
          "text": [
            "Article Type: World, Confidence: 82.77%\n"
          ],
          "name": "stdout"
        }
      ]
    },
    {
      "cell_type": "code",
      "metadata": {
        "colab": {
          "base_uri": "https://localhost:8080/"
        },
        "id": "SlxaIGAHvPwx",
        "outputId": "f2b8d7f8-5011-44cb-c2d5-63e7102967a9"
      },
      "source": [
        "Headline6 = '''₹13k cr Delhi-Dehradun expressway to cut travel time to 2.5 hours: Gadkari'''\r\n",
        "Desc6 = '''Union Transport Minister Nitin Gadkari on Thursday said that the Transport Ministry has approved the ₹13,000 crore Delhi-Dehradun expressway. Once completed, it will reduce the distance between the two cities from 235 to 210 kilometres and travel time from 6.5 to 2.5 hours, the ministry said. The expressway is expected to be operational within two years from now, it added.'''\r\n",
        "pred6 = predict_news_type(headline=Headline6, short_desc=Desc6, vec=w2v_reloaded, model=LogReg_w2v, embedType='w2v')"
      ],
      "execution_count": 143,
      "outputs": [
        {
          "output_type": "stream",
          "text": [
            "Article Type: Business, Confidence: 76.41%\n"
          ],
          "name": "stdout"
        }
      ]
    },
    {
      "cell_type": "code",
      "metadata": {
        "colab": {
          "base_uri": "https://localhost:8080/"
        },
        "id": "iaDXpLS5vV1T",
        "outputId": "a0d19512-b6d9-4714-c1d1-6e0a514d9576"
      },
      "source": [
        "labels"
      ],
      "execution_count": 144,
      "outputs": [
        {
          "output_type": "execute_result",
          "data": {
            "text/plain": [
              "['World', 'Sports', 'Business', 'Sci/Tech']"
            ]
          },
          "metadata": {
            "tags": []
          },
          "execution_count": 144
        }
      ]
    },
    {
      "cell_type": "code",
      "metadata": {
        "id": "x-lFBdVCvy8k"
      },
      "source": [
        ""
      ],
      "execution_count": null,
      "outputs": []
    }
  ]
}