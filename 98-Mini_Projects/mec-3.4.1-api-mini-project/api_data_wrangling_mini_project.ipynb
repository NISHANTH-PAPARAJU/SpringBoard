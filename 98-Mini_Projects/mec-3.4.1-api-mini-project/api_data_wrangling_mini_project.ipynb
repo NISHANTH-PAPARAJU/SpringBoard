{
 "cells": [
  {
   "cell_type": "markdown",
   "metadata": {},
   "source": [
    "This exercise will require you to pull some data from the Qunadl API. Qaundl is currently the most widely used aggregator of financial market data."
   ]
  },
  {
   "cell_type": "markdown",
   "metadata": {},
   "source": [
    "As a first step, you will need to register a free account on the http://www.quandl.com website."
   ]
  },
  {
   "cell_type": "markdown",
   "metadata": {},
   "source": [
    "After you register, you will be provided with a unique API key, that you should store:"
   ]
  },
  {
   "cell_type": "code",
   "execution_count": 1,
   "metadata": {},
   "outputs": [],
   "source": [
    "# Store the API key as a string - according to PEP8, constants are always named in all upper case\n",
    "API_KEY = 'BCv5uXxA_Z8TuygsviNE'"
   ]
  },
  {
   "cell_type": "markdown",
   "metadata": {},
   "source": [
    "Qaundl has a large number of data sources, but, unfortunately, most of them require a Premium subscription. Still, there are also a good number of free datasets."
   ]
  },
  {
   "cell_type": "markdown",
   "metadata": {},
   "source": [
    "For this mini project, we will focus on equities data from the Frankfurt Stock Exhange (FSE), which is available for free. We'll try and analyze the stock prices of a company called Carl Zeiss Meditec, which manufactures tools for eye examinations, as well as medical lasers for laser eye surgery: https://www.zeiss.com/meditec/int/home.html. The company is listed under the stock ticker AFX_X."
   ]
  },
  {
   "cell_type": "markdown",
   "metadata": {},
   "source": [
    "You can find the detailed Quandl API instructions here: https://docs.quandl.com/docs/time-series"
   ]
  },
  {
   "cell_type": "markdown",
   "metadata": {},
   "source": [
    "While there is a dedicated Python package for connecting to the Quandl API, we would prefer that you use the *requests* package, which can be easily downloaded using *pip* or *conda*. You can find the documentation for the package here: http://docs.python-requests.org/en/master/ "
   ]
  },
  {
   "cell_type": "markdown",
   "metadata": {},
   "source": [
    "Finally, apart from the *requests* package, you are encouraged to not use any third party Python packages, such as *pandas*, and instead focus on what's available in the Python Standard Library (the *collections* module might come in handy: https://pymotw.com/3/collections/).\n",
    "Also, since you won't have access to DataFrames, you are encouraged to us Python's native data structures - preferably dictionaries, though some questions can also be answered using lists.\n",
    "You can read more on these data structures here: https://docs.python.org/3/tutorial/datastructures.html"
   ]
  },
  {
   "cell_type": "markdown",
   "metadata": {},
   "source": [
    "Keep in mind that the JSON responses you will be getting from the API map almost one-to-one to Python's dictionaries. Unfortunately, they can be very nested, so make sure you read up on indexing dictionaries in the documentation provided above."
   ]
  },
  {
   "cell_type": "code",
   "execution_count": 2,
   "metadata": {},
   "outputs": [],
   "source": [
    "# First, import the relevant modules\n",
    "import requests\n",
    "import pandas as pd\n",
    "import json\n",
    "from operator import is_not\n",
    "from functools import partial\n"
   ]
  },
  {
   "cell_type": "code",
   "execution_count": 3,
   "metadata": {},
   "outputs": [
    {
     "name": "stdout",
     "output_type": "stream",
     "text": [
      "Request Successful.\n"
     ]
    }
   ],
   "source": [
    "# Now, call the Quandl API and pull out a small sample of the data (only one day) to get a glimpse\n",
    "# into the JSON structure that will be returned\n",
    "url = 'https://www.quandl.com/api/v3/datasets/FSE/AFX_X.json'\n",
    "params = {'api_key':API_KEY, 'start_date':'2007-05-02', 'end_date':'2007-05-03'}\n",
    "\n",
    "AFX_X = requests.get(url, params=params)\n",
    "\n",
    "if AFX_X.status_code == 200:\n",
    "    print(\"Request Successful.\")\n",
    "    AFX_X_data = AFX_X.content\n",
    "    AFX_X_data\n",
    "else:\n",
    "    print(f\"Request failed. Check the URL : '{AFX_X.url}' and try again\")"
   ]
  },
  {
   "cell_type": "code",
   "execution_count": 4,
   "metadata": {},
   "outputs": [
    {
     "data": {
      "text/html": [
       "<div>\n",
       "<style scoped>\n",
       "    .dataframe tbody tr th:only-of-type {\n",
       "        vertical-align: middle;\n",
       "    }\n",
       "\n",
       "    .dataframe tbody tr th {\n",
       "        vertical-align: top;\n",
       "    }\n",
       "\n",
       "    .dataframe thead th {\n",
       "        text-align: right;\n",
       "    }\n",
       "</style>\n",
       "<table border=\"1\" class=\"dataframe\">\n",
       "  <thead>\n",
       "    <tr style=\"text-align: right;\">\n",
       "      <th></th>\n",
       "      <th>Date</th>\n",
       "      <th>Open</th>\n",
       "      <th>High</th>\n",
       "      <th>Low</th>\n",
       "      <th>Close</th>\n",
       "      <th>Change</th>\n",
       "      <th>Traded Volume</th>\n",
       "      <th>Turnover</th>\n",
       "      <th>Last Price of the Day</th>\n",
       "      <th>Daily Traded Units</th>\n",
       "      <th>Daily Turnover</th>\n",
       "    </tr>\n",
       "  </thead>\n",
       "  <tbody>\n",
       "    <tr>\n",
       "      <th>0</th>\n",
       "      <td>2007-05-03</td>\n",
       "      <td>17.94</td>\n",
       "      <td>17.98</td>\n",
       "      <td>17.65</td>\n",
       "      <td>17.78</td>\n",
       "      <td>None</td>\n",
       "      <td>49785.0</td>\n",
       "      <td>884164.0</td>\n",
       "      <td>None</td>\n",
       "      <td>None</td>\n",
       "      <td>None</td>\n",
       "    </tr>\n",
       "    <tr>\n",
       "      <th>1</th>\n",
       "      <td>2007-05-02</td>\n",
       "      <td>18.05</td>\n",
       "      <td>18.05</td>\n",
       "      <td>17.80</td>\n",
       "      <td>18.00</td>\n",
       "      <td>None</td>\n",
       "      <td>60314.0</td>\n",
       "      <td>1081055.0</td>\n",
       "      <td>None</td>\n",
       "      <td>None</td>\n",
       "      <td>None</td>\n",
       "    </tr>\n",
       "  </tbody>\n",
       "</table>\n",
       "</div>"
      ],
      "text/plain": [
       "         Date   Open   High    Low  Close Change  Traded Volume   Turnover  \\\n",
       "0  2007-05-03  17.94  17.98  17.65  17.78   None        49785.0   884164.0   \n",
       "1  2007-05-02  18.05  18.05  17.80  18.00   None        60314.0  1081055.0   \n",
       "\n",
       "  Last Price of the Day Daily Traded Units Daily Turnover  \n",
       "0                  None               None           None  \n",
       "1                  None               None           None  "
      ]
     },
     "execution_count": 4,
     "metadata": {},
     "output_type": "execute_result"
    }
   ],
   "source": [
    "# Inspect the JSON structure of the object you created, and take note of how nested it is,\n",
    "# as well as the overall structure\n",
    "\n",
    "# Convert in JSON\n",
    "JSON = json.loads(AFX_X_data)\n",
    "# visualise in DataFrame\n",
    "AFX_X_df = pd.DataFrame(JSON[\"dataset\"][\"data\"], columns=JSON[\"dataset\"][\"column_names\"])\n",
    "AFX_X_df"
   ]
  },
  {
   "cell_type": "markdown",
   "metadata": {},
   "source": [
    "These are your tasks for this mini project:\n",
    "\n",
    "1. Collect data from the Franfurt Stock Exchange, for the ticker AFX_X, for the whole year 2017 (keep in mind that the date format is YYYY-MM-DD).\n",
    "2. Convert the returned JSON object into a Python dictionary.\n",
    "3. Calculate what the highest and lowest opening prices were for the stock in this period.\n",
    "4. What was the largest change in any one day (based on High and Low price)?\n",
    "5. What was the largest change between any two days (based on Closing Price)?\n",
    "6. What was the average daily trading volume during this year?\n",
    "7. (Optional) What was the median trading volume during this year. (Note: you may need to implement your own function for calculating the median.)"
   ]
  },
  {
   "cell_type": "markdown",
   "metadata": {},
   "source": [
    "**1.Collect data from the Franfurt Stock Exchange, for the ticker AFX_X, for the whole year 2017 (keep in mind that the date format is YYYY-MM-DD).**"
   ]
  },
  {
   "cell_type": "code",
   "execution_count": 5,
   "metadata": {},
   "outputs": [
    {
     "name": "stdout",
     "output_type": "stream",
     "text": [
      "Request Successful.\n"
     ]
    }
   ],
   "source": [
    "url_2007 = 'https://www.quandl.com/api/v3/datasets/FSE/AFX_X.json'\n",
    "params_2007 = {'api_key':API_KEY, 'start_date':'2007-01-01', 'end_date':'2007-12-31'}\n",
    "\n",
    "stock = requests.get(url_2007, params_2007)\n",
    "\n",
    "if stock.status_code ==200:\n",
    "    print(\"Request Successful.\")\n",
    "    stock_data = stock.content\n",
    "else:\n",
    "    print(f\"Request failed. Check the url '{url_2007}' and try again.\")"
   ]
  },
  {
   "cell_type": "markdown",
   "metadata": {},
   "source": [
    "**2.Convert the returned JSON object into a Python dictionary.**"
   ]
  },
  {
   "cell_type": "code",
   "execution_count": 6,
   "metadata": {},
   "outputs": [
    {
     "data": {
      "text/plain": [
       "dict"
      ]
     },
     "execution_count": 6,
     "metadata": {},
     "output_type": "execute_result"
    }
   ],
   "source": [
    "stock_data_json = json.loads(stock_data)\n",
    "type(stock_data_json)"
   ]
  },
  {
   "cell_type": "code",
   "execution_count": 7,
   "metadata": {},
   "outputs": [
    {
     "data": {
      "text/html": [
       "<div>\n",
       "<style scoped>\n",
       "    .dataframe tbody tr th:only-of-type {\n",
       "        vertical-align: middle;\n",
       "    }\n",
       "\n",
       "    .dataframe tbody tr th {\n",
       "        vertical-align: top;\n",
       "    }\n",
       "\n",
       "    .dataframe thead th {\n",
       "        text-align: right;\n",
       "    }\n",
       "</style>\n",
       "<table border=\"1\" class=\"dataframe\">\n",
       "  <thead>\n",
       "    <tr style=\"text-align: right;\">\n",
       "      <th></th>\n",
       "      <th>Date</th>\n",
       "      <th>Open</th>\n",
       "      <th>High</th>\n",
       "      <th>Low</th>\n",
       "      <th>Close</th>\n",
       "      <th>Change</th>\n",
       "      <th>Traded Volume</th>\n",
       "      <th>Turnover</th>\n",
       "      <th>Last Price of the Day</th>\n",
       "      <th>Daily Traded Units</th>\n",
       "      <th>Daily Turnover</th>\n",
       "    </tr>\n",
       "  </thead>\n",
       "  <tbody>\n",
       "    <tr>\n",
       "      <th>0</th>\n",
       "      <td>2007-12-31</td>\n",
       "      <td>NaN</td>\n",
       "      <td>NaN</td>\n",
       "      <td>NaN</td>\n",
       "      <td>11.95</td>\n",
       "      <td>None</td>\n",
       "      <td>0.0</td>\n",
       "      <td>NaN</td>\n",
       "      <td>None</td>\n",
       "      <td>None</td>\n",
       "      <td>0.0</td>\n",
       "    </tr>\n",
       "    <tr>\n",
       "      <th>1</th>\n",
       "      <td>2007-12-28</td>\n",
       "      <td>11.85</td>\n",
       "      <td>11.96</td>\n",
       "      <td>11.77</td>\n",
       "      <td>11.95</td>\n",
       "      <td>None</td>\n",
       "      <td>41231.0</td>\n",
       "      <td>489233.0</td>\n",
       "      <td>None</td>\n",
       "      <td>None</td>\n",
       "      <td>NaN</td>\n",
       "    </tr>\n",
       "    <tr>\n",
       "      <th>2</th>\n",
       "      <td>2007-12-27</td>\n",
       "      <td>12.20</td>\n",
       "      <td>12.20</td>\n",
       "      <td>11.86</td>\n",
       "      <td>11.94</td>\n",
       "      <td>None</td>\n",
       "      <td>115425.0</td>\n",
       "      <td>1386513.0</td>\n",
       "      <td>None</td>\n",
       "      <td>None</td>\n",
       "      <td>NaN</td>\n",
       "    </tr>\n",
       "    <tr>\n",
       "      <th>3</th>\n",
       "      <td>2007-12-26</td>\n",
       "      <td>NaN</td>\n",
       "      <td>NaN</td>\n",
       "      <td>NaN</td>\n",
       "      <td>12.13</td>\n",
       "      <td>None</td>\n",
       "      <td>0.0</td>\n",
       "      <td>NaN</td>\n",
       "      <td>None</td>\n",
       "      <td>None</td>\n",
       "      <td>0.0</td>\n",
       "    </tr>\n",
       "    <tr>\n",
       "      <th>4</th>\n",
       "      <td>2007-12-25</td>\n",
       "      <td>NaN</td>\n",
       "      <td>NaN</td>\n",
       "      <td>NaN</td>\n",
       "      <td>12.13</td>\n",
       "      <td>None</td>\n",
       "      <td>0.0</td>\n",
       "      <td>NaN</td>\n",
       "      <td>None</td>\n",
       "      <td>None</td>\n",
       "      <td>0.0</td>\n",
       "    </tr>\n",
       "    <tr>\n",
       "      <th>...</th>\n",
       "      <td>...</td>\n",
       "      <td>...</td>\n",
       "      <td>...</td>\n",
       "      <td>...</td>\n",
       "      <td>...</td>\n",
       "      <td>...</td>\n",
       "      <td>...</td>\n",
       "      <td>...</td>\n",
       "      <td>...</td>\n",
       "      <td>...</td>\n",
       "      <td>...</td>\n",
       "    </tr>\n",
       "    <tr>\n",
       "      <th>256</th>\n",
       "      <td>2007-01-05</td>\n",
       "      <td>16.00</td>\n",
       "      <td>16.12</td>\n",
       "      <td>15.80</td>\n",
       "      <td>16.10</td>\n",
       "      <td>None</td>\n",
       "      <td>88627.0</td>\n",
       "      <td>1410357.0</td>\n",
       "      <td>None</td>\n",
       "      <td>None</td>\n",
       "      <td>NaN</td>\n",
       "    </tr>\n",
       "    <tr>\n",
       "      <th>257</th>\n",
       "      <td>2007-01-04</td>\n",
       "      <td>16.25</td>\n",
       "      <td>16.36</td>\n",
       "      <td>15.91</td>\n",
       "      <td>16.15</td>\n",
       "      <td>None</td>\n",
       "      <td>42859.0</td>\n",
       "      <td>689922.0</td>\n",
       "      <td>None</td>\n",
       "      <td>None</td>\n",
       "      <td>NaN</td>\n",
       "    </tr>\n",
       "    <tr>\n",
       "      <th>258</th>\n",
       "      <td>2007-01-03</td>\n",
       "      <td>16.50</td>\n",
       "      <td>16.65</td>\n",
       "      <td>16.28</td>\n",
       "      <td>16.33</td>\n",
       "      <td>None</td>\n",
       "      <td>57386.0</td>\n",
       "      <td>944194.0</td>\n",
       "      <td>None</td>\n",
       "      <td>None</td>\n",
       "      <td>NaN</td>\n",
       "    </tr>\n",
       "    <tr>\n",
       "      <th>259</th>\n",
       "      <td>2007-01-02</td>\n",
       "      <td>15.89</td>\n",
       "      <td>16.40</td>\n",
       "      <td>15.89</td>\n",
       "      <td>16.40</td>\n",
       "      <td>None</td>\n",
       "      <td>74388.0</td>\n",
       "      <td>1197423.0</td>\n",
       "      <td>None</td>\n",
       "      <td>None</td>\n",
       "      <td>NaN</td>\n",
       "    </tr>\n",
       "    <tr>\n",
       "      <th>260</th>\n",
       "      <td>2007-01-01</td>\n",
       "      <td>NaN</td>\n",
       "      <td>NaN</td>\n",
       "      <td>NaN</td>\n",
       "      <td>15.80</td>\n",
       "      <td>None</td>\n",
       "      <td>0.0</td>\n",
       "      <td>NaN</td>\n",
       "      <td>None</td>\n",
       "      <td>None</td>\n",
       "      <td>0.0</td>\n",
       "    </tr>\n",
       "  </tbody>\n",
       "</table>\n",
       "<p>261 rows × 11 columns</p>\n",
       "</div>"
      ],
      "text/plain": [
       "           Date   Open   High    Low  Close Change  Traded Volume   Turnover  \\\n",
       "0    2007-12-31    NaN    NaN    NaN  11.95   None            0.0        NaN   \n",
       "1    2007-12-28  11.85  11.96  11.77  11.95   None        41231.0   489233.0   \n",
       "2    2007-12-27  12.20  12.20  11.86  11.94   None       115425.0  1386513.0   \n",
       "3    2007-12-26    NaN    NaN    NaN  12.13   None            0.0        NaN   \n",
       "4    2007-12-25    NaN    NaN    NaN  12.13   None            0.0        NaN   \n",
       "..          ...    ...    ...    ...    ...    ...            ...        ...   \n",
       "256  2007-01-05  16.00  16.12  15.80  16.10   None        88627.0  1410357.0   \n",
       "257  2007-01-04  16.25  16.36  15.91  16.15   None        42859.0   689922.0   \n",
       "258  2007-01-03  16.50  16.65  16.28  16.33   None        57386.0   944194.0   \n",
       "259  2007-01-02  15.89  16.40  15.89  16.40   None        74388.0  1197423.0   \n",
       "260  2007-01-01    NaN    NaN    NaN  15.80   None            0.0        NaN   \n",
       "\n",
       "    Last Price of the Day Daily Traded Units  Daily Turnover  \n",
       "0                    None               None             0.0  \n",
       "1                    None               None             NaN  \n",
       "2                    None               None             NaN  \n",
       "3                    None               None             0.0  \n",
       "4                    None               None             0.0  \n",
       "..                    ...                ...             ...  \n",
       "256                  None               None             NaN  \n",
       "257                  None               None             NaN  \n",
       "258                  None               None             NaN  \n",
       "259                  None               None             NaN  \n",
       "260                  None               None             0.0  \n",
       "\n",
       "[261 rows x 11 columns]"
      ]
     },
     "execution_count": 7,
     "metadata": {},
     "output_type": "execute_result"
    }
   ],
   "source": [
    "# visualize the Data in dataframe (Personal Purpose)\n",
    "stock_df = pd.DataFrame(stock_data_json[\"dataset\"][\"data\"], columns=stock_data_json[\"dataset\"][\"column_names\"])\n",
    "stock_df"
   ]
  },
  {
   "cell_type": "markdown",
   "metadata": {},
   "source": [
    "**3. Calculate what the highest and lowest opening prices were for the stock in this period.**"
   ]
  },
  {
   "cell_type": "code",
   "execution_count": 9,
   "metadata": {},
   "outputs": [
    {
     "name": "stdout",
     "output_type": "stream",
     "text": [
      "The highest Opening Price in 2007: 18.37\n",
      "The lowest Opening price in 2007: 11.32\n"
     ]
    }
   ],
   "source": [
    "open_prices_all =[]\n",
    "high_all = []\n",
    "low_all = []\n",
    "close_prices_all = []\n",
    "traded_vol_all = []\n",
    "\n",
    "for datum in stock_data_json[\"dataset\"][\"data\"]:\n",
    "    open_prices_all.append(datum[1])\n",
    "    high_all.append(datum[2])\n",
    "    low_all.append(datum[3])\n",
    "    close_prices_all.append(datum[4])\n",
    "    traded_vol_all.append(datum[6])\n",
    "\n",
    "# sanitation check\n",
    "# len(open_prices_all), len(high_all),len(low_all), len(close_prices_all), len(traded_vol_all)\n",
    "max_open_price_2007 = max(list(filter(partial(is_not, None),open_prices_all)))\n",
    "min_open_price_2007 = min(list(filter(partial(is_not,None), open_prices_all)))\n",
    "\n",
    "print(f\"The highest Opening Price in 2007: {max_open_price_2007}\")\n",
    "print(f\"The lowest Opening price in 2007: {min_open_price_2007}\")"
   ]
  },
  {
   "cell_type": "markdown",
   "metadata": {},
   "source": [
    "**4. What was the largest change in any one day (based on High and Low price)?**"
   ]
  },
  {
   "cell_type": "code",
   "execution_count": 10,
   "metadata": {},
   "outputs": [
    {
     "name": "stdout",
     "output_type": "stream",
     "text": [
      "The Largest change in any day (based on High and Low Prices): 2.9000000000000004\n"
     ]
    }
   ],
   "source": [
    "change_in_day = []\n",
    "for i in range(len(high_all)):\n",
    "    if high_all[i] != None and low_all[i] != None:\n",
    "        change_in_day.append(high_all[i]-low_all[i])\n",
    "max_change_in_day = max(change_in_day)\n",
    "print(f\"The Largest change in any day (based on High and Low Prices): {max_change_in_day}\")"
   ]
  },
  {
   "cell_type": "markdown",
   "metadata": {},
   "source": [
    "**5. What was the largest change between any two days (based on Closing Price)?**"
   ]
  },
  {
   "cell_type": "code",
   "execution_count": 11,
   "metadata": {},
   "outputs": [
    {
     "name": "stdout",
     "output_type": "stream",
     "text": [
      "The largetst change between any two days (based on closing price): 1.0199999999999996\n"
     ]
    }
   ],
   "source": [
    "diff_close_prices = []\n",
    "for i in range(1, len(close_prices_all)):\n",
    "    if close_prices_all[i] != None and close_prices_all[i-1] != None:\n",
    "        diff_close_prices.append(close_prices_all[i] - close_prices_all[i-1])\n",
    "max_diff_close_price = max(diff_close_prices)\n",
    "print(f\"The largetst change between any two days (based on closing price): {max_diff_close_price}\")"
   ]
  },
  {
   "cell_type": "markdown",
   "metadata": {},
   "source": [
    "**6. What was the average daily trading volume during this year?**"
   ]
  },
  {
   "cell_type": "code",
   "execution_count": 12,
   "metadata": {},
   "outputs": [
    {
     "name": "stdout",
     "output_type": "stream",
     "text": [
      "The average daily trading volume during the year 2007: 95178.98850574713\n"
     ]
    }
   ],
   "source": [
    "avg_traded_vol = sum(traded_vol_all)/len(traded_vol_all)\n",
    "print(f\"The average daily trading volume during the year 2007: {avg_traded_vol}\")"
   ]
  },
  {
   "cell_type": "markdown",
   "metadata": {},
   "source": [
    "**7. What was the median trading volume during this year.**"
   ]
  },
  {
   "cell_type": "code",
   "execution_count": 14,
   "metadata": {},
   "outputs": [],
   "source": [
    "def median(li):\n",
    "    li.sort()\n",
    "    if len(li)%2 ==0:\n",
    "        index1 = int((len(li)/2)-1)\n",
    "        index2 = index1 + 1\n",
    "        median = (li[index1]+li[index2])/2\n",
    "    else:\n",
    "        index = int((len(li)+1)/2 -1)\n",
    "        median = li[index]\n",
    "    return median"
   ]
  },
  {
   "cell_type": "code",
   "execution_count": 15,
   "metadata": {},
   "outputs": [
    {
     "name": "stdout",
     "output_type": "stream",
     "text": [
      "The Median Trading Volume during the year 2007: 66204.0\n"
     ]
    }
   ],
   "source": [
    "median_traded_val = median(traded_vol_all)\n",
    "print(f\"The Median Trading Volume during the year 2007: {median_traded_val}\")"
   ]
  },
  {
   "cell_type": "code",
   "execution_count": 16,
   "metadata": {},
   "outputs": [
    {
     "data": {
      "text/plain": [
       "28.0"
      ]
     },
     "execution_count": 16,
     "metadata": {},
     "output_type": "execute_result"
    }
   ],
   "source": [
    "li2 = [1,33,64,23]\n",
    "median(li2)"
   ]
  },
  {
   "cell_type": "code",
   "execution_count": null,
   "metadata": {},
   "outputs": [],
   "source": []
  }
 ],
 "metadata": {
  "kernelspec": {
   "display_name": "Python 3",
   "language": "python",
   "name": "python3"
  },
  "language_info": {
   "codemirror_mode": {
    "name": "ipython",
    "version": 3
   },
   "file_extension": ".py",
   "mimetype": "text/x-python",
   "name": "python",
   "nbconvert_exporter": "python",
   "pygments_lexer": "ipython3",
   "version": "3.7.6"
  }
 },
 "nbformat": 4,
 "nbformat_minor": 4
}
